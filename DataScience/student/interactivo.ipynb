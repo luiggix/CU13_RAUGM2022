{
 "cells": [
  {
   "cell_type": "code",
   "execution_count": null,
   "id": "c879804c-d22d-463b-8026-e4e390a6598f",
   "metadata": {},
   "outputs": [],
   "source": [
    "from sismos_lib import plot_sismos\n",
    "import ipywidgets as widgets"
   ]
  },
  {
   "cell_type": "code",
   "execution_count": null,
   "id": "a7c820be-357d-4946-826c-c27667f17a5e",
   "metadata": {},
   "outputs": [],
   "source": [
    "def info_sismos(magnitud):\n",
    "    nombre = '../utils/data/SSNMX_catalogo_19001001_20221011_m' \n",
    "    nombre += magnitud + '.csv'\n",
    "    plot_sismos(nombre, magnitud + ' desde 1900 a 2022')"
   ]
  },
  {
   "cell_type": "code",
   "execution_count": null,
   "id": "394f11ab-b513-4d51-b0dc-bb87f41fd1a8",
   "metadata": {},
   "outputs": [],
   "source": [
    "intervalos = ['30_99', '40_99', '50_99', '60_99', '70_99']\n",
    "w = widgets.interact(info_sismos,\n",
    "                     magnitud = widgets.Dropdown(\n",
    "                         options=intervalos,\n",
    "                         value='60_99',\n",
    "                         description='Magnitudes:',\n",
    "                         disabled=False))"
   ]
  },
  {
   "cell_type": "code",
   "execution_count": null,
   "id": "7acf749a-6105-464d-b9a5-59dbb0c8c15c",
   "metadata": {},
   "outputs": [],
   "source": []
  }
 ],
 "metadata": {
  "kernelspec": {
   "display_name": "Python 3 (ipykernel)",
   "language": "python",
   "name": "python3"
  },
  "language_info": {
   "codemirror_mode": {
    "name": "ipython",
    "version": 3
   },
   "file_extension": ".py",
   "mimetype": "text/x-python",
   "name": "python",
   "nbconvert_exporter": "python",
   "pygments_lexer": "ipython3",
   "version": "3.9.7"
  }
 },
 "nbformat": 4,
 "nbformat_minor": 5
}
