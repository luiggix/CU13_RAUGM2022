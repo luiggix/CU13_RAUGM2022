{
 "cells": [
  {
   "cell_type": "markdown",
   "id": "e0843b47-df3d-4f93-b8fa-82a942ee1a10",
   "metadata": {
    "deletable": false,
    "editable": false,
    "nbgrader": {
     "cell_type": "markdown",
     "checksum": "5c702edccd8ed701905520d6bd5e9d45",
     "grade": false,
     "grade_id": "cell-f4f2fc66878e1b6a",
     "locked": true,
     "schema_version": 3,
     "solution": false,
     "task": false
    },
    "tags": []
   },
   "source": [
    "<img src=\"../../RAUGM_hor.png\" width=\"300px\" align=\"right\">\n",
    "\n",
    "# CU13: Pensamiento Computacional en Ciencias de la Tierra.\n",
    "**Dr. Luis Miguel de la Cruz Salas**<br>\n",
    "Instituto de Geofísica, UNAM\n",
    "\n",
    "Licensed under <a href=\"https://creativecommons.org/licenses/by-nc-nd/4.0?ref=chooser-v1\">Attribution-NonCommercial-NoDerivatives 4.0 International</a>\n",
    "\n",
    "# Análisis de datos en Ciencias de la Tierra\n",
    "\n",
    "**Objetivo.**\n",
    "Obtener datos históricos de sismos ocurridos en México desde 1900 a la fecha y hacer un análisis exploratorio para explicar, de manera sencilla, cuándo han ocurrido sismos y de qué mágnitud.\n",
    "\n",
    "## Contenido.\n",
    "1. [¿Por qué es importante?](#1)\n",
    "2. [Obtención de datos.](#2)\n",
    "3. [Análisis exploratorio de datos con Pandas.](#3)\n",
    "    - [Lectura de datos.](#3-1)\n",
    "    - [Primera exploración.](#3-2)\n",
    "    - [Segunda exploración: ¿en qué fecha ocurrieron los sismos?](#3-3)\n",
    "4. [Visualización.](#4)\n",
    "    - [Usando `plot` de DataFrame](#4-1)\n",
    "    - [Juntándolo todo](#4-2)\n",
    "    - [Agregando un mapa con Geopandas](#4-3)"
   ]
  },
  {
   "cell_type": "markdown",
   "id": "0cf9d522-11fa-4128-b80a-ff05a6818c4b",
   "metadata": {
    "deletable": false,
    "editable": false,
    "nbgrader": {
     "cell_type": "markdown",
     "checksum": "d3aa3aeb7c49dadb5498dc063e679798",
     "grade": false,
     "grade_id": "cell-6ee670029ace75e0",
     "locked": true,
     "schema_version": 3,
     "solution": false,
     "task": false
    }
   },
   "source": [
    "<a name='1'></a>\n",
    "## ¿Por qué es importante?\n",
    "\n",
    "<table style=\"width:100%\">\n",
    "  <tr>\n",
    "    <td style=\"width:45%\">\n",
    "        \n",
    "**CNN Español** -- <a href=\"https://cnnespanol.cnn.com/2022/09/19/sismos-mexico-19-septiembre-coincidencia-probabilidad-orix/\">Tres sismos han sacudido México un 19 de septiembre: una \"desagradable coincidencia\" que merece ser estudiada.</a>\n",
    "Por Rocío Muñoz-Ledo. <br>\n",
    "19:35 ET(23:35 GMT) 19 Septiembre, 2022. <br><br>\n",
    "Ha vuelto a temblar en México un 19 de septiembre, una fecha marcada por la tragedia y el susto: tres temblores han sacudido el país el mismo día en 1985, 2017 y ahora este 2022. La probabilidad de que esto se repita existe pero es muy baja, según los científicos, quienes resaltan la importancia de abrir nuevas líneas de investigación al respecto para poder dar respuestas \"apropiadas\".\n",
    "    </td>\n",
    "    <td style=\"width:55%\">\n",
    "**LA EVIDENCIA POR DELANTE** - <a href=\"https://piedepagina.mx/si-es-una-coincidencia/\">Sí, es una coincidencia</a>. <br>\n",
    "Por Aleida Rueda <br>\n",
    "20 septiembre, 2022 <br><br>\n",
    "Los chistes y los memes no se han hecho esperar. “Los geofísicos quedando en ridículo otra vez”, “A ver cómo explica esto la ciencia”, “Vamos, sismólogo, di lo tuyo”. Pero más allá de la ironía, para muchos el hecho de que en Ciudad de México se haya sentido un nuevo sismo de magnitud mayor a 7 el pasado 19 de septiembre, el mismo día en el que se registraron los dos más impactantes en la historia reciente de la capital, es una señal de que “la ciencia está mal” o que estos fenómenos podrían tener explicaciones misteriosas, mágicas o apocalípticas. Para la ciencia, sin embargo, la explicación es muy clara: se trata de una coin-ci-den-cia. Improbable, sí; imposible, no.\n",
    "      </td>\n",
    "  </tr>\n",
    "  <tr>\n",
    "    <td style=\"text-align: center\"><img src=\"../utils/figs/meme2.jpg\" width=\"300px\"></td>\n",
    "    <td style=\"text-align: center\"><img src=\"../utils/figs/meme1.jpg\" width=\"250px\"></td>\n",
    "  </tr>\n",
    "</table>"
   ]
  },
  {
   "cell_type": "markdown",
   "id": "5155ed80-746d-4f4c-9857-60a2a2f0c037",
   "metadata": {
    "deletable": false,
    "editable": false,
    "nbgrader": {
     "cell_type": "markdown",
     "checksum": "676fcceb733af8912c3e9cfdc3e4c41b",
     "grade": false,
     "grade_id": "cell-941af35d03db89d2",
     "locked": true,
     "schema_version": 3,
     "solution": false,
     "task": false
    }
   },
   "source": [
    "Para lograr el objetivo de este ejercicio, necesitamos plantear el problema y los pasos a seguir. Es importante iniciar con algunas preguntas:\n",
    "\n",
    "- ¿Dónde puedo obtener información?\n",
    "- ¿De qué tipo, en qué formato y que cantidad de información puedo obtener?\n",
    "- ¿Cómo puedo hacer el análisis de la información?\n",
    "- ¿Existen herramientas que permitan hacer este análisis más sencillo?\n",
    "- ¿Cómo puedo presentar mis hallazgos a un público general no experto?"
   ]
  },
  {
   "cell_type": "markdown",
   "id": "8b844473-4cd6-4ec8-b9db-cdf6eb58d679",
   "metadata": {
    "deletable": false,
    "editable": false,
    "nbgrader": {
     "cell_type": "markdown",
     "checksum": "9d6fc11eda599d43349a67dab5e65bed",
     "grade": false,
     "grade_id": "cell-d29a911adfb42d04",
     "locked": true,
     "schema_version": 3,
     "solution": false,
     "task": false
    }
   },
   "source": [
    "<a name='2'></a>\n",
    "## Obtención de datos.\n",
    "\n",
    "Obtener los datos del Catálogo de sismos del [Servicio Sismológico Nacional](http://www.ssn.unam.mx/) .\n",
    "\n",
    "**Periodo**: 1 de enero de 1900 a la fecha <br>\n",
    "**Magnitud**: desde 7.0 hasta 9.9 <br>\n",
    "**Profundidad**: Todas <br>\n",
    "**Filtrar por**: Estado Todos <br>\n",
    "**Formato de salida**: CSV\n",
    "\n",
    "\n",
    "En el directorio PC_CT_RAUGM2022/DataScience/Datos encontrará los siguientes archivos:\n",
    "\n",
    "* SSNMX_catalogo_19001001_20221011_m30_99.csv\n",
    "* SSNMX_catalogo_19001001_20221011_m40_99.csv\n",
    "* SSNMX_catalogo_19001001_20221011_m50_99.csv\n",
    "* SSNMX_catalogo_19001001_20221011_m60_99.csv\n",
    "* SSNMX_catalogo_19001001_20221011_m70_99.csv\n",
    "\n",
    "Estos archivos fueron obtenidos del Catálogo de sismos del SSN.\n",
    "\n",
    "**Créditos de la fuente de datos**:\n",
    "México. Universidad Nacional Autónoma de México, I. d. G., Servicio Sismológico Nacional. (2022). Catálogo de sismos. Extraído de http://www2.ssn.unam.mx:8080/catalogo/ . DOI: 10.21766/SSNMX/EC/MX. *El catálogo de sismos del Servicio Sismológico Nacional (México) es posible gracias a todo su personal y producto de los cálculos realizados por su área de Análisis e Interpretación de Datos Sísmicos.*"
   ]
  },
  {
   "cell_type": "markdown",
   "id": "5489977e-90f0-4a1f-91e6-3d4590c873a8",
   "metadata": {
    "deletable": false,
    "editable": false,
    "nbgrader": {
     "cell_type": "markdown",
     "checksum": "0b6982064dbce4f34730de3ebe764678",
     "grade": false,
     "grade_id": "cell-eb63d9e42cdbd4b8",
     "locked": true,
     "schema_version": 3,
     "solution": false,
     "task": false
    }
   },
   "source": [
    "<a name='3'></a>\n",
    "## Análisis exploratorio con Pandas.\n",
    "\n",
    "Lo primero que necesitamos hacer es un análisis exploratorio de los datos. Para ello usaremos la biblioteca [Pandas](https://pandas.pydata.org/) de Python. En lo que sigue usaremos algunas funciones de esta bibloteca que explicaremos paso a paso. El tutorial de Pandas te dará más detalles y ejemplos de usos de la biblioteca."
   ]
  },
  {
   "cell_type": "markdown",
   "id": "d400c61e-ea0a-45b7-b305-7827f1a3006e",
   "metadata": {
    "deletable": false,
    "editable": false,
    "nbgrader": {
     "cell_type": "markdown",
     "checksum": "282e1f41194db6c3ca5db1190db78980",
     "grade": false,
     "grade_id": "cell-13b23fc73f8707e8",
     "locked": true,
     "schema_version": 3,
     "solution": false,
     "task": false
    }
   },
   "source": [
    "<a name='3-1'></a>\n",
    "### Lectura de datos"
   ]
  },
  {
   "cell_type": "code",
   "execution_count": null,
   "id": "06ae72d1-667e-4fc7-b46e-79c7e26065ec",
   "metadata": {
    "deletable": false,
    "editable": false,
    "nbgrader": {
     "cell_type": "code",
     "checksum": "f393516417464c7738bb7cc99394c4d8",
     "grade": false,
     "grade_id": "cell-0b05d58c3b0df2de",
     "locked": true,
     "schema_version": 3,
     "solution": false,
     "task": false
    }
   },
   "outputs": [],
   "source": [
    "import sys\n",
    "import pandas as pd\n",
    "\n",
    "print('Python', sys.version)\n",
    "print(pd.__name__, pd.__version__)"
   ]
  },
  {
   "cell_type": "code",
   "execution_count": null,
   "id": "d6e96b6c-7305-48a3-b4d1-c34e4eaaa90a",
   "metadata": {
    "deletable": false,
    "editable": false,
    "nbgrader": {
     "cell_type": "code",
     "checksum": "3982bd64960594c566b2da9a8d7266bc",
     "grade": false,
     "grade_id": "cell-d01cc50dfc617cfc",
     "locked": true,
     "schema_version": 3,
     "solution": false,
     "task": false
    }
   },
   "outputs": [],
   "source": [
    "# La ruta (relativa) donde se ubican los datos\n",
    "path_data = '../utils/data/' \n",
    "path_data"
   ]
  },
  {
   "cell_type": "code",
   "execution_count": null,
   "id": "be87b0a2-cf18-4701-aed9-7eedccc86b9a",
   "metadata": {
    "deletable": false,
    "editable": false,
    "nbgrader": {
     "cell_type": "code",
     "checksum": "cfb95dd80e60e6f0365d071809209654",
     "grade": false,
     "grade_id": "cell-100b3ada294fcdec",
     "locked": true,
     "schema_version": 3,
     "solution": false,
     "task": false
    }
   },
   "outputs": [],
   "source": [
    "path_data + 'SSNMX_catalogo_19001001_20221011_m70_99.csv'"
   ]
  },
  {
   "cell_type": "code",
   "execution_count": null,
   "id": "79e9b063-6357-47dc-a194-073cc3cce661",
   "metadata": {
    "deletable": false,
    "editable": false,
    "nbgrader": {
     "cell_type": "code",
     "checksum": "bd11f6cca9392252f4582d7a3ffaad99",
     "grade": false,
     "grade_id": "cell-11ffebac08ba82c0",
     "locked": true,
     "schema_version": 3,
     "solution": false,
     "task": false
    }
   },
   "outputs": [],
   "source": [
    "# Leemos el archivo en formato CSV\n",
    "ssn_frame = pd.read_csv(path_data + 'SSNMX_catalogo_19001001_20221011_m70_99.csv')"
   ]
  },
  {
   "cell_type": "markdown",
   "id": "e8167b4a-e556-4f1c-9097-06ba7ebab199",
   "metadata": {
    "deletable": false,
    "editable": false,
    "nbgrader": {
     "cell_type": "markdown",
     "checksum": "cc75b1ada1ab340e903a049a442b733f",
     "grade": false,
     "grade_id": "cell-42564a99977aba15",
     "locked": true,
     "schema_version": 3,
     "solution": false,
     "task": false
    }
   },
   "source": [
    "---\n",
    "**<font color=\"Crimson\">¿Error?</font>**<br>\n",
    "Si obtuviste un error, seguramente se trata de un error tipo `ParserError` lo que significa que al intentar leer el archivo nos encontramos con algunos campos extraños. Primero vamos a analizar el archivo CSV.\n",
    "\n",
    "**<font color=\"LimeGreen\">\n",
    "Abra el archivo `SSNMX_catalogo_19001001_20221011_m70_99.csv` y observe cómo está organizado.</font>**\n",
    "\n",
    "---"
   ]
  },
  {
   "cell_type": "markdown",
   "id": "6135f7cb-ea6a-4869-8b53-233b916c7be0",
   "metadata": {
    "deletable": false,
    "editable": false,
    "nbgrader": {
     "cell_type": "markdown",
     "checksum": "27df516ca891cc4baa72b067c15333f0",
     "grade": false,
     "grade_id": "cell-593363e1e66252fe",
     "locked": true,
     "schema_version": 3,
     "solution": false,
     "task": false
    }
   },
   "source": [
    "### <font color=\"DodgerBlue\">Ejercicio 1.</font>\n",
    "Para evitar el error anterior vamos a leer el archivo en formato CSV, pero ahora nos saltamos las 4 primeras líneas del encabezado. Para ello utilizaremos la opción `header=N`, donde `N` es el número de líneas que debemos saltarnos.\n",
    "\n",
    "---"
   ]
  },
  {
   "cell_type": "code",
   "execution_count": null,
   "id": "f2c102cb-1776-4103-9db2-3f50a0db4fe6",
   "metadata": {
    "deletable": false,
    "nbgrader": {
     "cell_type": "code",
     "checksum": "bcead89ddc27f79faa4b4b307ebe4917",
     "grade": false,
     "grade_id": "cell-9fd738f25e238b54",
     "locked": false,
     "schema_version": 3,
     "solution": true,
     "task": false
    }
   },
   "outputs": [],
   "source": [
    "# YOUR CODE HERE\n",
    "raise NotImplementedError()"
   ]
  },
  {
   "cell_type": "code",
   "execution_count": null,
   "id": "2b5e2d5c-69e8-4fa7-973e-4058a6191c14",
   "metadata": {
    "deletable": false,
    "editable": false,
    "nbgrader": {
     "cell_type": "code",
     "checksum": "9c4ce116befe43196baae5b352dd7c20",
     "grade": false,
     "grade_id": "cell-235333fc869fff83",
     "locked": true,
     "schema_version": 3,
     "solution": false,
     "task": false
    }
   },
   "outputs": [],
   "source": [
    "ssn_frame"
   ]
  },
  {
   "cell_type": "markdown",
   "id": "c5d9b894-b1aa-4891-b684-90383400e7be",
   "metadata": {
    "deletable": false,
    "editable": false,
    "nbgrader": {
     "cell_type": "markdown",
     "checksum": "a8ca99252018a88244dcddf05fc26ccf",
     "grade": false,
     "grade_id": "cell-29c89ebac6e5f3d8",
     "locked": true,
     "schema_version": 3,
     "solution": false,
     "task": false
    }
   },
   "source": [
    "---\n",
    "**<font color=\"DodgerBlue\">Observación</font>**: también se tienen varias líneas al final del archivo que nos proporciona información adicional. Por ahora vamos a saltarnos también estas líneas.\n",
    "\n",
    "**<font color=\"LimeGreen\">\n",
    "Para saltar las líneas al final del archvio se usa la opción `skipfooter=N`.</font>**\n",
    "\n",
    "---\n",
    "\n",
    "### <font color=\"DodgerBlue\">Ejercicio 2.</font>\n",
    "Leer el archivo en formato CSV saltando las 4 primeras líneas del encabezado (*header*) y las 7 líneas del pie de página (*footer*)\n",
    "\n",
    "---"
   ]
  },
  {
   "cell_type": "code",
   "execution_count": null,
   "id": "2e4fd0e6-5362-464d-b125-61fbb1945ba7",
   "metadata": {
    "deletable": false,
    "nbgrader": {
     "cell_type": "code",
     "checksum": "3f15ba8796cb207afe7ce81ae1a38f61",
     "grade": false,
     "grade_id": "cell-330fd81ef060f713",
     "locked": false,
     "schema_version": 3,
     "solution": true,
     "task": false
    }
   },
   "outputs": [],
   "source": [
    "# YOUR CODE HERE\n",
    "raise NotImplementedError()"
   ]
  },
  {
   "cell_type": "markdown",
   "id": "22a7169f-0282-49f2-8210-514cbf1dce78",
   "metadata": {
    "deletable": false,
    "editable": false,
    "nbgrader": {
     "cell_type": "markdown",
     "checksum": "b418e7e320bdba00ebe9d45cad68e6af",
     "grade": false,
     "grade_id": "cell-f3c0272fc31620d1",
     "locked": true,
     "schema_version": 3,
     "solution": false,
     "task": false
    }
   },
   "source": [
    "---\n",
    "**<font color=\"DodgerBlue\">¿Warning?</font>**?<br>\n",
    "Si obtuviste un mensaje de advertencia (*warning*) es probable que necesites especificar el motor de lectura.\n",
    "\n",
    "---\n",
    "### <font color=\"DodgerBlue\">Ejercicio 3.</font>\n",
    "Leer el archivo en formato CSV saltando las 4 primeras líneas del encabezado (*header*) y las 7 líneas del pie de página (*footer*), además especificar el motor de búsqueda se usa la opción con la opción: `engine=python`.\n",
    "\n",
    "---"
   ]
  },
  {
   "cell_type": "code",
   "execution_count": null,
   "id": "64d7c06a-4ce1-49bd-b79d-b1269ab7ecd9",
   "metadata": {
    "deletable": false,
    "nbgrader": {
     "cell_type": "code",
     "checksum": "4cc87cb81f4a67b16a30c497fb63a05e",
     "grade": false,
     "grade_id": "cell-c508e20133d8cff4",
     "locked": false,
     "schema_version": 3,
     "solution": true,
     "task": false
    }
   },
   "outputs": [],
   "source": [
    "# YOUR CODE HERE\n",
    "raise NotImplementedError()"
   ]
  },
  {
   "cell_type": "code",
   "execution_count": null,
   "id": "9bf33655-b6e2-4df2-a2c2-54c23ebfb558",
   "metadata": {
    "deletable": false,
    "editable": false,
    "nbgrader": {
     "cell_type": "code",
     "checksum": "09ea6c811ffa0de3059c4262be4406bc",
     "grade": false,
     "grade_id": "cell-f8a053534f7dd76a",
     "locked": true,
     "schema_version": 3,
     "solution": false,
     "task": false
    }
   },
   "outputs": [],
   "source": [
    "# Mostramos la información que se acaba de leer\n",
    "ssn_frame"
   ]
  },
  {
   "cell_type": "markdown",
   "id": "dc30deaf-0942-482d-9474-6b06ae229945",
   "metadata": {
    "deletable": false,
    "editable": false,
    "nbgrader": {
     "cell_type": "markdown",
     "checksum": "fb7a186047dd7bf214bf7b03f2ec6d8a",
     "grade": false,
     "grade_id": "cell-666589ba7089f35b",
     "locked": true,
     "schema_version": 3,
     "solution": false,
     "task": false
    }
   },
   "source": [
    "<a name='3-2'></a>\n",
    "### Primera exploración\n",
    "Observamos que los datos ya se leen correctamente. \n",
    "\n",
    "¿Cuántas columnas tenemos y cuáles son sus nombres?\n",
    "¿Cuántos registros tenemos?"
   ]
  },
  {
   "cell_type": "code",
   "execution_count": null,
   "id": "5792b579-c9a1-4bf2-900d-052547e68d99",
   "metadata": {
    "deletable": false,
    "editable": false,
    "nbgrader": {
     "cell_type": "code",
     "checksum": "a63a74b778c95eeace73f5abd7ea2006",
     "grade": false,
     "grade_id": "cell-eb68752d5c70140e",
     "locked": true,
     "schema_version": 3,
     "solution": false,
     "task": false
    }
   },
   "outputs": [],
   "source": [
    "ssn_frame.columns"
   ]
  },
  {
   "cell_type": "code",
   "execution_count": null,
   "id": "8696b6f3-cb79-461e-b6ef-6ee0f62d2ca7",
   "metadata": {},
   "outputs": [],
   "source": [
    "len(ssn_frame.columns)"
   ]
  },
  {
   "cell_type": "code",
   "execution_count": null,
   "id": "c7677d2b-0323-492c-8527-27b6e062fb47",
   "metadata": {
    "deletable": false,
    "editable": false,
    "nbgrader": {
     "cell_type": "code",
     "checksum": "a5a760ffb0bd51d07991902828714537",
     "grade": false,
     "grade_id": "cell-3700c0fc6355356d",
     "locked": true,
     "schema_version": 3,
     "solution": false,
     "task": false
    }
   },
   "outputs": [],
   "source": [
    "ssn_frame.index"
   ]
  },
  {
   "cell_type": "markdown",
   "id": "d3874ac8-4bdb-46bb-accd-636f04cc517c",
   "metadata": {
    "deletable": false,
    "editable": false,
    "nbgrader": {
     "cell_type": "markdown",
     "checksum": "d29bb2aaf5d352f725c040523ef6a684",
     "grade": false,
     "grade_id": "cell-65026c687888acc9",
     "locked": true,
     "schema_version": 3,
     "solution": false,
     "task": false
    }
   },
   "source": [
    "---\n",
    "**<font color=\"DodgerBlue\">Observación:</font>** son 86 sismos de magnitud 7.0 o mayor desde el 1 de enero de 1900 a 2022.\n",
    "\n",
    "---"
   ]
  },
  {
   "cell_type": "markdown",
   "id": "52708324-171c-48e8-a1cc-00c2f73c83a0",
   "metadata": {
    "deletable": false,
    "editable": false,
    "nbgrader": {
     "cell_type": "markdown",
     "checksum": "faddb928564571652356f20096116768",
     "grade": false,
     "grade_id": "cell-2b1b96a8b8ee8077",
     "locked": true,
     "schema_version": 3,
     "solution": false,
     "task": false
    }
   },
   "source": [
    "Para listar la información de una columna podemos usar el nombre de la columna como sigue:"
   ]
  },
  {
   "cell_type": "code",
   "execution_count": null,
   "id": "5af6e233-f289-4bfa-9fa7-3ef5782e10d4",
   "metadata": {
    "deletable": false,
    "editable": false,
    "nbgrader": {
     "cell_type": "code",
     "checksum": "27abfcdcd95876ff0c3ea053d3f74d26",
     "grade": false,
     "grade_id": "cell-481d932c96de720b",
     "locked": true,
     "schema_version": 3,
     "solution": false,
     "task": false
    }
   },
   "outputs": [],
   "source": [
    "ssn_frame['Magnitud']"
   ]
  },
  {
   "cell_type": "code",
   "execution_count": null,
   "id": "fdf5a6f3-97e4-462b-a5fe-ede0ba36ca52",
   "metadata": {
    "deletable": false,
    "editable": false,
    "nbgrader": {
     "cell_type": "code",
     "checksum": "f6480af1fff671e06317e4e934872443",
     "grade": false,
     "grade_id": "cell-a73ee45a29f69694",
     "locked": true,
     "schema_version": 3,
     "solution": false,
     "task": false
    }
   },
   "outputs": [],
   "source": [
    "ssn_frame.Magnitud"
   ]
  },
  {
   "cell_type": "markdown",
   "id": "6ce60364-a92a-431f-9a32-bd882beb7a7e",
   "metadata": {
    "deletable": false,
    "editable": false,
    "nbgrader": {
     "cell_type": "markdown",
     "checksum": "3dc7af827826a2845e322493c6a2b2af",
     "grade": false,
     "grade_id": "cell-2f10a094965229ec",
     "locked": true,
     "schema_version": 3,
     "solution": false,
     "task": false
    }
   },
   "source": [
    "<a name='3-3'></a>\n",
    "### Segundo análisis: ¿en qué fecha ocurrieron los sismos?\n",
    "Checar las fechas en que ocurrieron los sismos"
   ]
  },
  {
   "cell_type": "code",
   "execution_count": null,
   "id": "899bbd4a-dc54-4b04-a1cc-7336327754e3",
   "metadata": {
    "deletable": false,
    "editable": false,
    "nbgrader": {
     "cell_type": "code",
     "checksum": "f06521d9498830322ce67f6399580885",
     "grade": false,
     "grade_id": "cell-716114c50e022fd5",
     "locked": true,
     "schema_version": 3,
     "solution": false,
     "task": false
    }
   },
   "outputs": [],
   "source": [
    "# Mostramos la columna de las fechas\n",
    "ssn_frame.Fecha"
   ]
  },
  {
   "cell_type": "markdown",
   "id": "7c133ec5-4680-4f65-a42a-57f778d6c4f4",
   "metadata": {
    "deletable": false,
    "editable": false,
    "nbgrader": {
     "cell_type": "markdown",
     "checksum": "9eec42d294b76452bf5ed78fbf086fa9",
     "grade": false,
     "grade_id": "cell-bddc8d698fdd6876",
     "locked": true,
     "schema_version": 3,
     "solution": false,
     "task": false
    }
   },
   "source": [
    "Con esta información, podemos determinar cuántos sismos ocurrieron en una misma fecha."
   ]
  },
  {
   "cell_type": "code",
   "execution_count": null,
   "id": "a4fd75bb-52e1-4466-82a4-37a3a9e28c4a",
   "metadata": {
    "deletable": false,
    "editable": false,
    "nbgrader": {
     "cell_type": "code",
     "checksum": "d6db805104f4b55dec05be7830f1de2b",
     "grade": false,
     "grade_id": "cell-3f7dd0aad36d8537",
     "locked": true,
     "schema_version": 3,
     "solution": false,
     "task": false
    }
   },
   "outputs": [],
   "source": [
    "# Cada fecha es una cadena de caracteres\n",
    "ssn_frame.Fecha[0] "
   ]
  },
  {
   "cell_type": "markdown",
   "id": "f966f6e4-19f9-4bea-9cbd-a2c638a87ba6",
   "metadata": {
    "deletable": false,
    "editable": false,
    "nbgrader": {
     "cell_type": "markdown",
     "checksum": "91b5ae0d5d09e5cca61183c7a097195e",
     "grade": false,
     "grade_id": "cell-0cc47224471cbaf8",
     "locked": true,
     "schema_version": 3,
     "solution": false,
     "task": false
    }
   },
   "source": [
    "---\n",
    "### <font color=\"DodgerBlue\">Ejercicio 4.</font>\n",
    "Imprimir en pantalla solo el mes y el día de todas las fechas.\n",
    "\n",
    "**Hint.**\n",
    "```python\n",
    "# Puedo obtener solo el año\n",
    "ssn_frame.Fecha[0][:4] \n",
    "# Puedo obtener solo los caracteres del mes y del día.\n",
    "ssn_frame.Fecha[0][5:] \n",
    "```\n",
    "\n",
    "---"
   ]
  },
  {
   "cell_type": "code",
   "execution_count": null,
   "id": "a62a7459-2f1c-486c-b748-e569a9487430",
   "metadata": {
    "deletable": false,
    "nbgrader": {
     "cell_type": "code",
     "checksum": "ea0e35b10851a5e3a875021bf4f82b21",
     "grade": false,
     "grade_id": "cell-a44840de3c8aefc9",
     "locked": false,
     "schema_version": 3,
     "solution": true,
     "task": false
    }
   },
   "outputs": [],
   "source": [
    "# Para todas las fechas obtengo el mes y el día\n",
    "# YOUR CODE HERE\n",
    "raise NotImplementedError()"
   ]
  },
  {
   "cell_type": "markdown",
   "id": "7e19e197-970b-416a-8e04-4dfa08c48fec",
   "metadata": {
    "deletable": false,
    "editable": false,
    "nbgrader": {
     "cell_type": "markdown",
     "checksum": "0264dd9d7ae5fa7b408aa89970187515",
     "grade": false,
     "grade_id": "cell-04c155f80d9edd19",
     "locked": true,
     "schema_version": 3,
     "solution": false,
     "task": false
    }
   },
   "source": [
    "Vamos a crear un diccionario para contar el número de sismos en cada fecha. \n",
    "\n",
    "---\n",
    "Un <font color=\"DodgerBlue\">**diccionario**</font> es una estructura de datos que permite almacenar información en parejas de tipo `key:value`. Se puede agregar, modificar y accesar a cada elemento a través de la `key`, por ejemplo:\n",
    "```python\n",
    "diccionario = {'clave_1':5, 'clave_2':10}\n",
    "diccionario['clave_3'] = 7\n",
    "diccionario['clave_2'] = 6\n",
    "```\n",
    "---\n",
    "\n",
    "Primero hagamos una prueba para estar seguros."
   ]
  },
  {
   "cell_type": "code",
   "execution_count": null,
   "id": "c4dfa6c2-07ba-4124-b4ee-0cefdeaa37d2",
   "metadata": {
    "deletable": false,
    "editable": false,
    "nbgrader": {
     "cell_type": "code",
     "checksum": "e1960cfd6586dd1d5cd268e08030ccde",
     "grade": false,
     "grade_id": "cell-78a9043811c26707",
     "locked": true,
     "schema_version": 3,
     "solution": false,
     "task": false
    }
   },
   "outputs": [],
   "source": [
    "# Diccionario vacío\n",
    "cuenta_sismos = {}\n",
    "print(cuenta_sismos)"
   ]
  },
  {
   "cell_type": "code",
   "execution_count": null,
   "id": "f9cceb87-4622-440f-b511-111208ba7180",
   "metadata": {
    "deletable": false,
    "editable": false,
    "nbgrader": {
     "cell_type": "code",
     "checksum": "be01260c99d0628eb25d8f6e545ceb3a",
     "grade": false,
     "grade_id": "cell-ef592c74e9c4a0d4",
     "locked": true,
     "schema_version": 3,
     "solution": false,
     "task": false
    }
   },
   "outputs": [],
   "source": [
    "# Agregamos un primer elemento al diccionario.\n",
    "# Para la primera fecha, usamos el mes y día como 'key' y el año como 'value'\n",
    "cuenta_sismos[ssn_frame.Fecha[0][5:]] = [ssn_frame.Fecha[0][:4]]\n",
    "\n",
    "# Verifico cómo va el diccionario\n",
    "print(cuenta_sismos)"
   ]
  },
  {
   "cell_type": "code",
   "execution_count": null,
   "id": "77c79963-5358-4934-b84c-3770bf3160e4",
   "metadata": {
    "deletable": false,
    "editable": false,
    "nbgrader": {
     "cell_type": "code",
     "checksum": "39d30b08b0b13aacfd8485008db2b009",
     "grade": false,
     "grade_id": "cell-e7f86ba6e432e393",
     "locked": true,
     "schema_version": 3,
     "solution": false,
     "task": false
    }
   },
   "outputs": [],
   "source": [
    "# Agregamos un segundo elemento.\n",
    "# Para la segunda fecha hago exactamente lo mismo\n",
    "cuenta_sismos[ssn_frame.Fecha[1][5:]] = [ssn_frame.Fecha[1][:4]]\n",
    "\n",
    "# Verifico cómo va el diccionario\n",
    "print(cuenta_sismos)"
   ]
  },
  {
   "cell_type": "code",
   "execution_count": null,
   "id": "2a8074f2-a642-4542-9ebe-fcb823a05f69",
   "metadata": {
    "deletable": false,
    "editable": false,
    "nbgrader": {
     "cell_type": "code",
     "checksum": "e5ccb96979abc98864fa18e9a034b226",
     "grade": false,
     "grade_id": "cell-e3ff58d815534991",
     "locked": true,
     "schema_version": 3,
     "solution": false,
     "task": false
    }
   },
   "outputs": [],
   "source": [
    "# Reviso como van las key's al momento\n",
    "cuenta_sismos.keys() "
   ]
  },
  {
   "cell_type": "code",
   "execution_count": null,
   "id": "d37bcb22-cf1d-4efc-bef5-be2377eafd55",
   "metadata": {
    "deletable": false,
    "editable": false,
    "nbgrader": {
     "cell_type": "code",
     "checksum": "a9060deb874216a7f92b6f8ee08963d8",
     "grade": false,
     "grade_id": "cell-7ac484982ff127dc",
     "locked": true,
     "schema_version": 3,
     "solution": false,
     "task": false
    }
   },
   "outputs": [],
   "source": [
    "# Reviso como van los valores al momento\n",
    "cuenta_sismos.values()"
   ]
  },
  {
   "cell_type": "code",
   "execution_count": null,
   "id": "05f570ae-b105-4f7d-8943-ed1dcaccf42f",
   "metadata": {
    "deletable": false,
    "editable": false,
    "nbgrader": {
     "cell_type": "code",
     "checksum": "bef39ec2dcd80d9ca6d67182e2a3817f",
     "grade": false,
     "grade_id": "cell-c225d11e81319018",
     "locked": true,
     "schema_version": 3,
     "solution": false,
     "task": false
    }
   },
   "outputs": [],
   "source": [
    "# Puedo ver si alguna key es parte de las keys del diccionario\n",
    "'12-08' in cuenta_sismos.keys()"
   ]
  },
  {
   "cell_type": "code",
   "execution_count": null,
   "id": "4bf3f21c-ac7b-4b5c-8101-512225460963",
   "metadata": {
    "deletable": false,
    "editable": false,
    "nbgrader": {
     "cell_type": "code",
     "checksum": "01f45d694ee9da0da0b4ab988f623ef4",
     "grade": false,
     "grade_id": "cell-8126005e44a88f3b",
     "locked": true,
     "schema_version": 3,
     "solution": false,
     "task": false
    }
   },
   "outputs": [],
   "source": [
    "# Cada value es una lista de años:\n",
    "cuenta_sismos['12-08']"
   ]
  },
  {
   "cell_type": "code",
   "execution_count": null,
   "id": "0d2185c1-c3fa-406b-81c8-5da9584ca86c",
   "metadata": {
    "deletable": false,
    "editable": false,
    "nbgrader": {
     "cell_type": "code",
     "checksum": "0d9f2e26e84c4f7a826b2bf820ccb155",
     "grade": false,
     "grade_id": "cell-d68bd246760a73dc",
     "locked": true,
     "schema_version": 3,
     "solution": false,
     "task": false
    }
   },
   "outputs": [],
   "source": [
    "# Podemos agregar un año, suponiendo que hubo un sismo en el mismo mes y día, \n",
    "# pero en otro año, por ejemplo\n",
    "cuenta_sismos['12-08'].append('2000')\n",
    "cuenta_sismos['12-08']"
   ]
  },
  {
   "cell_type": "code",
   "execution_count": null,
   "id": "8a7d2e24-78f3-49c4-87ce-1e276d682fc0",
   "metadata": {
    "deletable": false,
    "editable": false,
    "nbgrader": {
     "cell_type": "code",
     "checksum": "581dadc56656afb35e641649f798f2a7",
     "grade": false,
     "grade_id": "cell-edd5e6cda2ede696",
     "locked": true,
     "schema_version": 3,
     "solution": false,
     "task": false
    }
   },
   "outputs": [],
   "source": [
    "# Verifico cómo va el diccionario\n",
    "cuenta_sismos"
   ]
  },
  {
   "cell_type": "markdown",
   "id": "5e10e1bb-a01c-47d5-b791-e6b3d615c91a",
   "metadata": {
    "deletable": false,
    "editable": false,
    "nbgrader": {
     "cell_type": "markdown",
     "checksum": "2a41971698c606f2e8bf285e5c3c994c",
     "grade": false,
     "grade_id": "cell-7e9004fbe0a3f4c0",
     "locked": true,
     "schema_version": 3,
     "solution": false,
     "task": false
    }
   },
   "source": [
    "### Un primer algoritmo\n",
    "El algoritmo para contar los sismos en una misma fecha y almacenados en un diccionario sería como sigue:\n",
    "* Paso 1. Crear un diccionario vacío.\n",
    "* Paso 2. Recorrer todas las fechas.\n",
    "* Paso 3. Para cada fecha, checar si esta última ya se encuentra en el conjunto de las `key`'s del diccionario.\n",
    "* Paso 4. Si lo anterior es verdad, entonces se agrega el año al value de la `key` correspondiente.\n",
    "* Paso 5. En otro caso, se agrega una nueva `key` con el `value` del año.\n",
    "\n",
    "---\n",
    "\n",
    "### <font color=\"DodgerBlue\">Ejercicio 5.</font>\n",
    "Completar el algoritmo en la siguiente celda.\n",
    "\n",
    "---"
   ]
  },
  {
   "cell_type": "code",
   "execution_count": null,
   "id": "7e2a054c-3767-49b5-9dd4-db6859a5df45",
   "metadata": {
    "deletable": false,
    "nbgrader": {
     "cell_type": "code",
     "checksum": "672cd04c05fc9dfc48b0346d8694c6a8",
     "grade": false,
     "grade_id": "cell-66e0b3e052c67503",
     "locked": false,
     "schema_version": 3,
     "solution": true,
     "task": false
    }
   },
   "outputs": [],
   "source": [
    "# Paso 1.\n",
    "cuenta_sismos = {}\n",
    "\n",
    "# Paso 2.\n",
    "for i in ssn_frame.Fecha:\n",
    "    # Paso 3.\n",
    "    if i[5:] in cuenta_sismos.keys():\n",
    "        # Paso 4.\n",
    "        # YOUR CODE HERE\n",
    "        raise NotImplementedError()\n",
    "    else:\n",
    "        # Paso 5.\n",
    "        cuenta_sismos[i[5:]] = [i[:4]]"
   ]
  },
  {
   "cell_type": "code",
   "execution_count": null,
   "id": "9955b5da-18ca-4ad0-8b04-276504dbb30f",
   "metadata": {
    "deletable": false,
    "editable": false,
    "nbgrader": {
     "cell_type": "code",
     "checksum": "3fe08ff3003ca9451cfbae495a90609b",
     "grade": false,
     "grade_id": "cell-39dbd198a2471c2b",
     "locked": true,
     "schema_version": 3,
     "solution": false,
     "task": false
    }
   },
   "outputs": [],
   "source": [
    "# Checamos cómo quedó el diccionario.\n",
    "cuenta_sismos"
   ]
  },
  {
   "cell_type": "code",
   "execution_count": null,
   "id": "6e4cb6a2-a2f3-41a2-8c4b-53bf4fb7e93f",
   "metadata": {
    "deletable": false,
    "editable": false,
    "nbgrader": {
     "cell_type": "code",
     "checksum": "5085d42959c78ce431f49a69b9bb95ae",
     "grade": false,
     "grade_id": "cell-bfbd4a32d5cc4a97",
     "locked": true,
     "schema_version": 3,
     "solution": false,
     "task": false
    }
   },
   "outputs": [],
   "source": [
    "# cuantas fechas diferentes tenemos al final:\n",
    "len(cuenta_sismos.keys())"
   ]
  },
  {
   "cell_type": "markdown",
   "id": "80668293-628f-47d3-8f5a-ec26e9906182",
   "metadata": {
    "deletable": false,
    "editable": false,
    "nbgrader": {
     "cell_type": "markdown",
     "checksum": "123e59c33a5a47e62041ec797760e507",
     "grade": false,
     "grade_id": "cell-02a7875df7440a0f",
     "locked": true,
     "schema_version": 3,
     "solution": false,
     "task": false
    }
   },
   "source": [
    "Para contar el número total de sismos en un mes y día determinados puedo hacer lo siguiente:"
   ]
  },
  {
   "cell_type": "code",
   "execution_count": null,
   "id": "b753fd2c-9ef2-4f0d-841f-881cdc9fe0e3",
   "metadata": {
    "deletable": false,
    "editable": false,
    "nbgrader": {
     "cell_type": "code",
     "checksum": "97446dd539d982fb220f98f15e209d0e",
     "grade": false,
     "grade_id": "cell-05b6d9ad704c7258",
     "locked": true,
     "schema_version": 3,
     "solution": false,
     "task": false
    }
   },
   "outputs": [],
   "source": [
    "# Un nuevo diccionario: contendrá el mes y día como key y como value el número total de sismos ocurridos.\n",
    "numero_sismos = {}\n",
    "for key in cuenta_sismos.keys():\n",
    "    # Solo tengo que saber el número de elementos en la lista del value.\n",
    "    numero_sismos[key] = len(cuenta_sismos[key])\n",
    "\n",
    "numero_sismos"
   ]
  },
  {
   "cell_type": "markdown",
   "id": "a6c5bfc4-9c15-4ee8-8739-6a2730bb7361",
   "metadata": {
    "deletable": false,
    "editable": false,
    "nbgrader": {
     "cell_type": "markdown",
     "checksum": "632099a9a1d1340c234fa31f741e2d9c",
     "grade": false,
     "grade_id": "cell-cd9a71bd51390eb4",
     "locked": true,
     "schema_version": 3,
     "solution": false,
     "task": false
    }
   },
   "source": [
    "El diccionario `numero_sismos` servirá para hacer algunos gráficos."
   ]
  },
  {
   "cell_type": "markdown",
   "id": "e38053dc-063b-48e3-a5e2-0a1549731e54",
   "metadata": {
    "deletable": false,
    "editable": false,
    "nbgrader": {
     "cell_type": "markdown",
     "checksum": "ae3bc66d39f8f0ef1cc15ab7ef437581",
     "grade": false,
     "grade_id": "cell-6857a7b1bcf87ceb",
     "locked": true,
     "schema_version": 3,
     "solution": false,
     "task": false
    }
   },
   "source": [
    "### Segundo algoritmo\n",
    "Puedo repetir el proceso para sismos de otras magnitudes. Por ejemplo de 6 a 9."
   ]
  },
  {
   "cell_type": "code",
   "execution_count": null,
   "id": "d6ff5700-d8e7-4e26-9694-006bf5405a82",
   "metadata": {
    "deletable": false,
    "editable": false,
    "nbgrader": {
     "cell_type": "code",
     "checksum": "5c748765baa6c5a86c8fe7210eda4adf",
     "grade": false,
     "grade_id": "cell-be551e031d3e698b",
     "locked": true,
     "schema_version": 3,
     "solution": false,
     "task": false
    }
   },
   "outputs": [],
   "source": [
    "ssn_frame = pd.read_csv(path_data + 'SSNMX_catalogo_19001001_20221011_m60_99.csv', header=4, skipfooter=7, engine='python')\n",
    "cuenta_sismos = {}\n",
    "for i in ssn_frame.Fecha:\n",
    "    if i[5:] in cuenta_sismos.keys():\n",
    "        cuenta_sismos[i[5:]].append(i[:4])\n",
    "    else:\n",
    "        cuenta_sismos[i[5:]] = [i[:4]]\n",
    "\n",
    "print(cuenta_sismos)\n",
    "numero_sismos = {}\n",
    "for key in cuenta_sismos.keys():\n",
    "    numero_sismos[key] = len(cuenta_sismos[key])\n",
    "\n",
    "print(numero_sismos)"
   ]
  },
  {
   "cell_type": "markdown",
   "id": "ba79e756-2473-4956-bfbb-5b7953419395",
   "metadata": {
    "deletable": false,
    "editable": false,
    "nbgrader": {
     "cell_type": "markdown",
     "checksum": "92b2c6883b14cb8bb4e8e8d80af47d43",
     "grade": false,
     "grade_id": "cell-392463ec8bf7093a",
     "locked": true,
     "schema_version": 3,
     "solution": false,
     "task": false
    }
   },
   "source": [
    "Ahora es posible crear una función encapsulando todo el proceso."
   ]
  },
  {
   "cell_type": "code",
   "execution_count": null,
   "id": "19d2fcb7-3e0c-4b26-b794-8600e6e7cdbd",
   "metadata": {
    "deletable": false,
    "editable": false,
    "nbgrader": {
     "cell_type": "code",
     "checksum": "a0b64e5058a8dfa925886c2be4c70597",
     "grade": false,
     "grade_id": "cell-9b778823532800a6",
     "locked": true,
     "schema_version": 3,
     "solution": false,
     "task": false
    }
   },
   "outputs": [],
   "source": [
    "def calc_numero_de_sismos(filename):\n",
    "    \"\"\"\n",
    "    Calcula el número de sismos en una determinada fecha usando información del\n",
    "    Servicio Sismológico Nacional (SSN).\n",
    "    \n",
    "    Parameters\n",
    "    ----------\n",
    "    filename. string\n",
    "    Archivo en formato CSV obtenido del Catálogo de sismos del SSN.\n",
    "    \n",
    "    Returns\n",
    "    -------\n",
    "    cuenta_sismos. dict\n",
    "    Diccionario con las fechas y años en que ocurrieron los sismos.\n",
    "    \n",
    "    numero_sismos. dict\n",
    "    Diccionario con las fechas y número de sismos ocurridos en la misma.\n",
    "    \"\"\"\n",
    "    ssn_frame = pd.read_csv(filename, header=4, skipfooter=7, engine='python')\n",
    "    cuenta_sismos = {}\n",
    "    for i in ssn_frame.Fecha:\n",
    "        if i[5:] in cuenta_sismos.keys():\n",
    "            cuenta_sismos[i[5:]].append(i[:4])\n",
    "        else:\n",
    "            cuenta_sismos[i[5:]] = [i[:4]]\n",
    "\n",
    "    numero_sismos = {}\n",
    "    for key in cuenta_sismos.keys():\n",
    "        numero_sismos[key] = len(cuenta_sismos[key])\n",
    "\n",
    "    return cuenta_sismos, numero_sismos"
   ]
  },
  {
   "cell_type": "markdown",
   "id": "2e3d0010-5d0f-4e80-bda4-037537951df5",
   "metadata": {
    "deletable": false,
    "editable": false,
    "nbgrader": {
     "cell_type": "markdown",
     "checksum": "18bc499fe370e918772cfebac6320337",
     "grade": false,
     "grade_id": "cell-0397668be8061acb",
     "locked": true,
     "schema_version": 3,
     "solution": false,
     "task": false
    }
   },
   "source": [
    "Y entonces ya puedo usar la función `calc_numero_de_sismos()` para varios ejercicios con diferentes archivos de entrada."
   ]
  },
  {
   "cell_type": "code",
   "execution_count": null,
   "id": "e60af603-8b1f-4c08-8930-ea0c0546202d",
   "metadata": {
    "deletable": false,
    "editable": false,
    "nbgrader": {
     "cell_type": "code",
     "checksum": "7541915701371ded6bebd9101a0392e3",
     "grade": false,
     "grade_id": "cell-5e66ed8cc4d33cdd",
     "locked": true,
     "schema_version": 3,
     "solution": false,
     "task": false
    }
   },
   "outputs": [],
   "source": [
    "_, magnitud_3_9 = calc_numero_de_sismos(path_data + 'SSNMX_catalogo_19001001_20221011_m30_99.csv')"
   ]
  },
  {
   "cell_type": "code",
   "execution_count": null,
   "id": "1efc9a00-f42a-43cf-b182-a7dcb462356d",
   "metadata": {
    "deletable": false,
    "editable": false,
    "nbgrader": {
     "cell_type": "code",
     "checksum": "523e6f4484dcbf2597253901346cc7bc",
     "grade": false,
     "grade_id": "cell-972e871bb4db2cbf",
     "locked": true,
     "schema_version": 3,
     "solution": false,
     "task": false
    }
   },
   "outputs": [],
   "source": [
    "_, magnitud_4_9 = calc_numero_de_sismos(path_data + 'SSNMX_catalogo_19001001_20221011_m40_99.csv')"
   ]
  },
  {
   "cell_type": "code",
   "execution_count": null,
   "id": "a24d00b9-b8cf-46f6-aa55-5c718ae35745",
   "metadata": {
    "deletable": false,
    "editable": false,
    "nbgrader": {
     "cell_type": "code",
     "checksum": "7f410d8737f3439dc50edfd535cd3ed3",
     "grade": false,
     "grade_id": "cell-47124f8cdf1e2a37",
     "locked": true,
     "schema_version": 3,
     "solution": false,
     "task": false
    }
   },
   "outputs": [],
   "source": [
    "_, magnitud_5_9 = calc_numero_de_sismos(path_data + 'SSNMX_catalogo_19001001_20221011_m50_99.csv')"
   ]
  },
  {
   "cell_type": "code",
   "execution_count": null,
   "id": "4eda7085-04aa-4d9a-85a7-9c6bfa82b70a",
   "metadata": {
    "deletable": false,
    "editable": false,
    "nbgrader": {
     "cell_type": "code",
     "checksum": "8cadbb318467bbe29457e082c3e53c86",
     "grade": false,
     "grade_id": "cell-c2b830909e52034e",
     "locked": true,
     "schema_version": 3,
     "solution": false,
     "task": false
    }
   },
   "outputs": [],
   "source": [
    "_, magnitud_6_9 = calc_numero_de_sismos(path_data + 'SSNMX_catalogo_19001001_20221011_m60_99.csv')"
   ]
  },
  {
   "cell_type": "code",
   "execution_count": null,
   "id": "5fa0cb53-327b-4452-990b-82c742f7cad2",
   "metadata": {
    "deletable": false,
    "editable": false,
    "nbgrader": {
     "cell_type": "code",
     "checksum": "010434d477596fcfe8d5f2424924276c",
     "grade": false,
     "grade_id": "cell-b42b1e115c2ba787",
     "locked": true,
     "schema_version": 3,
     "solution": false,
     "task": false
    }
   },
   "outputs": [],
   "source": [
    "_, magnitud_7_9 = calc_numero_de_sismos(path_data + 'SSNMX_catalogo_19001001_20221011_m70_99.csv')"
   ]
  },
  {
   "cell_type": "markdown",
   "id": "c093844d-afd3-43e2-b0db-2d4ed02336e5",
   "metadata": {
    "deletable": false,
    "editable": false,
    "nbgrader": {
     "cell_type": "markdown",
     "checksum": "055738e953e07fcfc019b99f5f2206e8",
     "grade": false,
     "grade_id": "cell-4fd12c42c949b18f",
     "locked": true,
     "schema_version": 3,
     "solution": false,
     "task": false
    }
   },
   "source": [
    "Observe que se usó el caracter `_` para obtener el diccionario `cuenta_sismos` esto es por que no lo vamos a usar en lo que sigue. Esto es una práctica común para hacer uso de una variable *dummy*.\n",
    "\n",
    "Con los diccionarios que hemos creado podemos hacer varias cosas, por ejemplo ver cuántos sismos de una cierta magnitud ocurrieron en una fecha."
   ]
  },
  {
   "cell_type": "code",
   "execution_count": null,
   "id": "45a1231a-bf06-4851-b399-32637aa738a7",
   "metadata": {
    "deletable": false,
    "editable": false,
    "nbgrader": {
     "cell_type": "code",
     "checksum": "a73da47b1920f9e761072de2b5e52861",
     "grade": false,
     "grade_id": "cell-be73be28b29ccc72",
     "locked": true,
     "schema_version": 3,
     "solution": false,
     "task": false
    }
   },
   "outputs": [],
   "source": [
    "print('Sismos de magnitud 3 a 9 el día 09-19 : {}'.format(magnitud_3_9['09-19']))"
   ]
  },
  {
   "cell_type": "markdown",
   "id": "060aa76e-7d48-4711-9bfd-19fd783156fc",
   "metadata": {
    "deletable": false,
    "editable": false,
    "nbgrader": {
     "cell_type": "markdown",
     "checksum": "51cdb007eac98a23f5c09014ccd20126",
     "grade": false,
     "grade_id": "cell-aff88c6f2478c760",
     "locked": true,
     "schema_version": 3,
     "solution": false,
     "task": false
    }
   },
   "source": [
    "Creamos una función `lambda` (*anónima*) para preguntar por el número de sismos de una cierta magnitud en un día determinado:"
   ]
  },
  {
   "cell_type": "code",
   "execution_count": null,
   "id": "13d97f3f-e716-458e-90b0-6e4f04c73718",
   "metadata": {
    "deletable": false,
    "editable": false,
    "nbgrader": {
     "cell_type": "code",
     "checksum": "218937c7d78e55ccc052938f7765f3a9",
     "grade": false,
     "grade_id": "cell-3beb169d7b5e5e80",
     "locked": true,
     "schema_version": 3,
     "solution": false,
     "task": false
    }
   },
   "outputs": [],
   "source": [
    "dime_num_sismos = lambda intervalo, fecha, magnitud: print('Sismos de magnitud {} el día {} : {}'.format(intervalo, fecha, magnitud[fecha]))"
   ]
  },
  {
   "cell_type": "code",
   "execution_count": null,
   "id": "278ead05-8e34-408c-a871-eef25210c93c",
   "metadata": {
    "deletable": false,
    "editable": false,
    "nbgrader": {
     "cell_type": "code",
     "checksum": "8250326560d9bdae3f9a38b692e7c8f0",
     "grade": false,
     "grade_id": "cell-a14c4588ec96bc89",
     "locked": true,
     "schema_version": 3,
     "solution": false,
     "task": false
    }
   },
   "outputs": [],
   "source": [
    "dime_num_sismos('3 a 9', '01-19', magnitud_3_9)"
   ]
  },
  {
   "cell_type": "code",
   "execution_count": null,
   "id": "f74c0f72-69a0-4153-953a-7d70e3a9d4c2",
   "metadata": {
    "deletable": false,
    "editable": false,
    "nbgrader": {
     "cell_type": "code",
     "checksum": "f4ce4d9ff64b9e3efdb7133a3383c810",
     "grade": false,
     "grade_id": "cell-ec174fbb7c94d2d5",
     "locked": true,
     "schema_version": 3,
     "solution": false,
     "task": false
    }
   },
   "outputs": [],
   "source": [
    "dime_num_sismos('7 a 9', '09-19', magnitud_7_9)"
   ]
  },
  {
   "cell_type": "markdown",
   "id": "3754a2d7-a761-4442-88ef-a2369694bcf4",
   "metadata": {
    "deletable": false,
    "editable": false,
    "nbgrader": {
     "cell_type": "markdown",
     "checksum": "60fec73b111887f84cc849d156a0e59f",
     "grade": false,
     "grade_id": "cell-283b2ca13dc28a5c",
     "locked": true,
     "schema_version": 3,
     "solution": false,
     "task": false
    }
   },
   "source": [
    "Se puede consultar la fecha en que ocurrió el máximo número de sismos de una cierta magnitud como sigue:"
   ]
  },
  {
   "cell_type": "code",
   "execution_count": null,
   "id": "7952d51d-b232-4c25-9a40-8f2e56a94ff9",
   "metadata": {
    "deletable": false,
    "editable": false,
    "nbgrader": {
     "cell_type": "code",
     "checksum": "cdab2a30c9dd9f99e4c96e57433844bd",
     "grade": false,
     "grade_id": "cell-ddec2fdd1af65c7a",
     "locked": true,
     "schema_version": 3,
     "solution": false,
     "task": false
    }
   },
   "outputs": [],
   "source": [
    "max_num_sismos = lambda intervalo, magnitud: print('Máximo núm de sismos de magnitud {}: {} el día {}, '.format(intervalo, \\\n",
    "                                                                                                                max(magnitud.values()),\n",
    "                                                                                                                max(magnitud, key=magnitud.get)))"
   ]
  },
  {
   "cell_type": "code",
   "execution_count": null,
   "id": "a7376cbe-37e4-4f37-897e-840650d3b61a",
   "metadata": {
    "deletable": false,
    "editable": false,
    "nbgrader": {
     "cell_type": "code",
     "checksum": "4ac2ce69ed35db43c9c0128c042c2e63",
     "grade": false,
     "grade_id": "cell-ff6355366acf1f7c",
     "locked": true,
     "schema_version": 3,
     "solution": false,
     "task": false
    }
   },
   "outputs": [],
   "source": [
    "max_num_sismos('3 a 9', magnitud_3_9)"
   ]
  },
  {
   "cell_type": "code",
   "execution_count": null,
   "id": "210d6ae9-95f0-418d-beb3-14a47f0de0d5",
   "metadata": {
    "deletable": false,
    "editable": false,
    "nbgrader": {
     "cell_type": "code",
     "checksum": "2c28088434cee8c092a739c30bc55aef",
     "grade": false,
     "grade_id": "cell-ee2878130d3ab7d2",
     "locked": true,
     "schema_version": 3,
     "solution": false,
     "task": false
    }
   },
   "outputs": [],
   "source": [
    "max_num_sismos('3 a 9', magnitud_3_9)\n",
    "max_num_sismos('4 a 9', magnitud_4_9)\n",
    "max_num_sismos('5 a 9', magnitud_5_9)\n",
    "max_num_sismos('6 a 9', magnitud_6_9)\n",
    "max_num_sismos('7 a 9', magnitud_7_9)"
   ]
  },
  {
   "cell_type": "markdown",
   "id": "d6d27c4c-2d8a-4eda-98c5-e49775723977",
   "metadata": {
    "deletable": false,
    "editable": false,
    "nbgrader": {
     "cell_type": "markdown",
     "checksum": "5bfeaba4fa37822e47ad3a362128edd0",
     "grade": false,
     "grade_id": "cell-a46c7e423c9533aa",
     "locked": true,
     "schema_version": 3,
     "solution": false,
     "task": false
    }
   },
   "source": [
    "<a name='4'></a>\n",
    "## Visualización\n",
    "\n",
    "Sería bueno tener una manera de graficar toda esta información.\n",
    "Recordemos como están almacenados nuestros diccionarios."
   ]
  },
  {
   "cell_type": "code",
   "execution_count": null,
   "id": "64a4d4e0-6b47-44dd-a16c-a1c929813a9f",
   "metadata": {
    "deletable": false,
    "editable": false,
    "nbgrader": {
     "cell_type": "code",
     "checksum": "16c9dffca2fb879577a043de83b2af0f",
     "grade": false,
     "grade_id": "cell-3c65dbc43e27f18e",
     "locked": true,
     "schema_version": 3,
     "solution": false,
     "task": false
    }
   },
   "outputs": [],
   "source": [
    "magnitud_7_9"
   ]
  },
  {
   "cell_type": "markdown",
   "id": "61488dfc-40fb-4aef-b721-040bee20a107",
   "metadata": {
    "deletable": false,
    "editable": false,
    "nbgrader": {
     "cell_type": "markdown",
     "checksum": "b75449c4b4e2fbc40013be268a3a5b4b",
     "grade": false,
     "grade_id": "cell-5604986a3eb708d4",
     "locked": true,
     "schema_version": 3,
     "solution": false,
     "task": false
    }
   },
   "source": [
    "<a name='4-1'></a>\n",
    "### Usando `plot` de DataFrame.\n",
    "Una manera de graficar esta información es mediante el uso de la función `plot()` de la estructura de datos DataFrame. Primero convertimos el diccionario a un DataFrame como sigue:"
   ]
  },
  {
   "cell_type": "code",
   "execution_count": null,
   "id": "f02d6be1-76b4-4c9f-9b57-c1313bd77845",
   "metadata": {
    "deletable": false,
    "editable": false,
    "nbgrader": {
     "cell_type": "code",
     "checksum": "ba9cf26535c5eb89864c6dbbe41c0ee5",
     "grade": false,
     "grade_id": "cell-14e148752182e299",
     "locked": true,
     "schema_version": 3,
     "solution": false,
     "task": false
    }
   },
   "outputs": [],
   "source": [
    "df_magnitud_7_9 = pd.DataFrame.from_dict(dict(sorted(magnitud_7_9.items())), orient='index')"
   ]
  },
  {
   "cell_type": "markdown",
   "id": "87c09ad7-8456-496a-9c64-d0f465db8c83",
   "metadata": {
    "deletable": false,
    "editable": false,
    "nbgrader": {
     "cell_type": "markdown",
     "checksum": "dcd7f1aac5430540e047a4fcdfc7c716",
     "grade": false,
     "grade_id": "cell-41eccb327cafbf5d",
     "locked": true,
     "schema_version": 3,
     "solution": false,
     "task": false
    }
   },
   "source": [
    "Observe que estamos ordenando la información del diccionario por fecha antes de pasarla al DataFrame. El resultado es el siguiente"
   ]
  },
  {
   "cell_type": "code",
   "execution_count": null,
   "id": "784d138d-8685-493a-8718-ef8e262be927",
   "metadata": {
    "deletable": false,
    "editable": false,
    "nbgrader": {
     "cell_type": "code",
     "checksum": "48601cdc7ef7a6e7412f5db0210846aa",
     "grade": false,
     "grade_id": "cell-d5dce6a334e57c85",
     "locked": true,
     "schema_version": 3,
     "solution": false,
     "task": false
    }
   },
   "outputs": [],
   "source": [
    "df_magnitud_7_9"
   ]
  },
  {
   "cell_type": "markdown",
   "id": "c29a92df-86e2-4b7d-8c3b-7c199fa931d5",
   "metadata": {
    "deletable": false,
    "editable": false,
    "nbgrader": {
     "cell_type": "markdown",
     "checksum": "88cc2d2d7934c6f4cc8fa00a68ee7958",
     "grade": false,
     "grade_id": "cell-f4a26134f9589860",
     "locked": true,
     "schema_version": 3,
     "solution": false,
     "task": false
    }
   },
   "source": [
    "Ahora hacemos una primera gráfica:"
   ]
  },
  {
   "cell_type": "code",
   "execution_count": null,
   "id": "15761c11-2e4a-44e0-9122-413db352e7d6",
   "metadata": {
    "deletable": false,
    "editable": false,
    "nbgrader": {
     "cell_type": "code",
     "checksum": "3be53db512ea0e008f39f8f796a6f146",
     "grade": false,
     "grade_id": "cell-e7819d0787c02707",
     "locked": true,
     "schema_version": 3,
     "solution": false,
     "task": false
    }
   },
   "outputs": [],
   "source": [
    "df_magnitud_7_9.plot()"
   ]
  },
  {
   "cell_type": "markdown",
   "id": "7a5af9a8-9a79-4b66-a469-ea1953c32807",
   "metadata": {
    "deletable": false,
    "editable": false,
    "nbgrader": {
     "cell_type": "markdown",
     "checksum": "9f2d5d625c472f2520295ebf2a2f66e0",
     "grade": false,
     "grade_id": "cell-f8e83e4f6d027f0f",
     "locked": true,
     "schema_version": 3,
     "solution": false,
     "task": false
    }
   },
   "source": [
    "Podemos hacer lo mismo para toda la información que tenemos:"
   ]
  },
  {
   "cell_type": "code",
   "execution_count": null,
   "id": "8eaebb5c-c886-4778-8b90-cf8359b436fb",
   "metadata": {
    "deletable": false,
    "editable": false,
    "nbgrader": {
     "cell_type": "code",
     "checksum": "72333da35003ae8594987570ecd8d58f",
     "grade": false,
     "grade_id": "cell-aad3e516f7fffee2",
     "locked": true,
     "schema_version": 3,
     "solution": false,
     "task": false
    }
   },
   "outputs": [],
   "source": [
    "df_magnitud_3_9 = pd.DataFrame.from_dict(dict(sorted(magnitud_3_9.items())), orient='index')\n",
    "df_magnitud_4_9 = pd.DataFrame.from_dict(dict(sorted(magnitud_4_9.items())), orient='index')\n",
    "df_magnitud_5_9 = pd.DataFrame.from_dict(dict(sorted(magnitud_5_9.items())), orient='index')\n",
    "df_magnitud_6_9 = pd.DataFrame.from_dict(dict(sorted(magnitud_6_9.items())), orient='index')"
   ]
  },
  {
   "cell_type": "code",
   "execution_count": null,
   "id": "25d79814-6996-435d-9b3c-1bdc52cc1929",
   "metadata": {
    "deletable": false,
    "editable": false,
    "nbgrader": {
     "cell_type": "code",
     "checksum": "3e4fc5cb6cfad5f1def0655cb22fba88",
     "grade": false,
     "grade_id": "cell-3156440827ba7dbb",
     "locked": true,
     "schema_version": 3,
     "solution": false,
     "task": false
    }
   },
   "outputs": [],
   "source": [
    "df_magnitud_3_9.plot()"
   ]
  },
  {
   "cell_type": "markdown",
   "id": "d6482b15-cad8-4cfe-b36c-8926983855c5",
   "metadata": {
    "deletable": false,
    "editable": false,
    "nbgrader": {
     "cell_type": "markdown",
     "checksum": "ec64bd8cd7e2913678c115982821ae9b",
     "grade": false,
     "grade_id": "cell-6fc29d578592b61f",
     "locked": true,
     "schema_version": 3,
     "solution": false,
     "task": false
    }
   },
   "source": [
    "La función `plot()` de DataFrame se basa en la función correspondiente de [Matplotlib](https://matplotlib.org/) y se pueden combinar los comandos de ambas bibliotecas. Puede revisar estos tutoriales de Matplotlib: [básico](../../Tutoriales/T2_Matplotlib_basico.ipynb), [intermedio](../../Tutoriales/T3_Matplotlib_inter.ipynb) y [animaciones](../../Tutoriales/T4_Matplotlib_anim.ipynb).\n",
    "Por ejemplo, vamos a crear un gráfico más atractivo con las siguientes instrucciones:"
   ]
  },
  {
   "cell_type": "code",
   "execution_count": null,
   "id": "a25815de-f389-4f6e-a9ee-cac766b686ec",
   "metadata": {
    "deletable": false,
    "editable": false,
    "nbgrader": {
     "cell_type": "code",
     "checksum": "22e9d69e09cccecb9d0d003d0e30acbb",
     "grade": false,
     "grade_id": "cell-77b644e72d0685f0",
     "locked": true,
     "schema_version": 3,
     "solution": false,
     "task": false
    }
   },
   "outputs": [],
   "source": [
    "import matplotlib.pyplot as plt\n",
    "\n",
    "print(plt.matplotlib.__name__, plt.matplotlib.__version__)"
   ]
  },
  {
   "cell_type": "code",
   "execution_count": null,
   "id": "69f2606f-3856-498c-8e9d-fd69d8db7083",
   "metadata": {
    "deletable": false,
    "editable": false,
    "nbgrader": {
     "cell_type": "code",
     "checksum": "4b693444d10e11e61762f050ad4b66d1",
     "grade": false,
     "grade_id": "cell-32a5ab692866cef9",
     "locked": true,
     "schema_version": 3,
     "solution": false,
     "task": false
    }
   },
   "outputs": [],
   "source": [
    "# Ubicación de los ticks en el eje x\n",
    "meses_ticks = [0]\n",
    "num_mes = 1\n",
    "for i,fec in enumerate(df_magnitud_3_9.index):\n",
    "    if fec[0:2] != str('{:02d}'.format(num_mes)):\n",
    "        meses_ticks.append(i)\n",
    "        num_mes += 1\n",
    "meses_ticks.append(len(df_magnitud_3_9.index)-1)\n",
    "\n",
    "# Ubicación del máximo\n",
    "magnitud_3_9_sorted = dict(sorted(magnitud_3_9.items())) # Diccionario ordenado\n",
    "ymax = max(magnitud_3_9.values()) # Valor máximo de sismos\n",
    "xmax_string = max(magnitud_3_9_sorted, key=magnitud_3_9_sorted.get) # Fecha del máximo (string)\n",
    "xmax = list(magnitud_3_9_sorted.keys()).index(xmax_string) # Índice del máximo para graficación\n",
    "\n",
    "# Creamos una figura\n",
    "fig = plt.figure()\n",
    "\n",
    "# Graficamos usando plot de DataFrame\n",
    "df_magnitud_3_9.plot(kind='area', legend=False,\n",
    "                     xlabel = 'Fechas [mes-día]', ylabel = 'Núm. de sismos', \n",
    "                     xticks=meses_ticks, rot=45,\n",
    "                     figsize = (10,6), fontsize=10, \n",
    "                     alpha=0.5, color='C2')\n",
    "\n",
    "# Decoramos la gráfica desde el nivel Artist \n",
    "ax = plt.gca()\n",
    "\n",
    "# Eliminamos algunas líneas del marco\n",
    "ax.spines['top'].set_visible(False)\n",
    "ax.spines['right'].set_visible(False)\n",
    "ax.spines['left'].set_visible(False)\n",
    "\n",
    "# Graficamos el máximo\n",
    "ax.scatter(xmax, ymax, c='red', ec='gray', alpha=0.75, zorder=5)\n",
    "\n",
    "# Hacemos algunas anotaciones para identificar el máximo\n",
    "ax.annotate('Máximo ({})'.format(ymax), (xmax*0.99, ymax), (xmax*0.65, ymax*0.95),\n",
    "           arrowprops = dict(facecolor='gray', edgecolor='gray', width=0.25, headwidth=4.5, headlength=5.0))\n",
    "ax.axvline(x=xmax, ymax=0.95, ls='--', lw=1.5, c='C10') # Línea vertical\n",
    "ax.text(xmax*1.01, ymax*1.01, xmax_string, c='#aa1122') # Texto con la fecha del máximo\n",
    "\n",
    "# Título y subtítulo\n",
    "plt.suptitle('Número de sismos de magnitud 3 a 9 de 1900 a 2022', y = 0.98, fontsize=16)\n",
    "plt.title('Fuente: DOI: 10.21766/SSNMX/EC/MX', c='C0', loc='right', fontsize=10)\n",
    "\n",
    "# La rejilla de la gráfica\n",
    "plt.grid()\n",
    "plt.tight_layout()\n",
    "plt.savefig('Sismos_3_9_1900_2022.pdf')\n",
    "\n",
    "plt.show()"
   ]
  },
  {
   "cell_type": "markdown",
   "id": "84c4fe83-aac5-4e0b-a054-fb78967dfb6e",
   "metadata": {
    "deletable": false,
    "editable": false,
    "nbgrader": {
     "cell_type": "markdown",
     "checksum": "ad90e191092d558a3b2c1263d8405c26",
     "grade": false,
     "grade_id": "cell-d0fb023dc453d4e8",
     "locked": true,
     "schema_version": 3,
     "solution": false,
     "task": false
    }
   },
   "source": [
    "<a name='4-2'></a>\n",
    "### Juntándolo todo"
   ]
  },
  {
   "cell_type": "code",
   "execution_count": null,
   "id": "1de2f5f6-7688-4e00-881f-db96b9a7a72c",
   "metadata": {
    "deletable": false,
    "editable": false,
    "nbgrader": {
     "cell_type": "code",
     "checksum": "79807549cc3a41b6ad498c930d492b9d",
     "grade": false,
     "grade_id": "cell-713aa2c3e6cae8a4",
     "locked": true,
     "schema_version": 3,
     "solution": false,
     "task": false
    }
   },
   "outputs": [],
   "source": [
    "from sismos_lib import plot_sismos\n",
    "plot_sismos('../utils/data/SSNMX_catalogo_19001001_20221011_m60_99.csv', '6 a 9 de 1900 a 2022')"
   ]
  },
  {
   "cell_type": "code",
   "execution_count": null,
   "id": "135553f7-9e24-469e-b211-da81495c8e03",
   "metadata": {
    "deletable": false,
    "editable": false,
    "nbgrader": {
     "cell_type": "code",
     "checksum": "5798a925070deec573431851c7a24c96",
     "grade": false,
     "grade_id": "cell-d87333b2abfebbfe",
     "locked": true,
     "schema_version": 3,
     "solution": false,
     "task": false
    }
   },
   "outputs": [],
   "source": [
    "%run \"./interactivo.ipynb\""
   ]
  },
  {
   "cell_type": "markdown",
   "id": "70658ec9-6ea5-45b0-b80f-b6595002ccfd",
   "metadata": {
    "deletable": false,
    "editable": false,
    "nbgrader": {
     "cell_type": "markdown",
     "checksum": "f816f6ee255856e8fc7bfb61a73aeb8d",
     "grade": false,
     "grade_id": "cell-da0997cd95d31e5f",
     "locked": true,
     "schema_version": 3,
     "solution": false,
     "task": false
    }
   },
   "source": [
    "<a name='4-3'></a>\n",
    "### Agregando un mapa con Geopandas\n",
    "\n",
    "Entre otra información que contienen los archivos de datos, podemos encontrar el epicentro donde sucedió cada sismo. Esta información también se puede agregar en un mapa usando la biblioteca [GeoPandas](https://geopandas.org/)."
   ]
  },
  {
   "cell_type": "code",
   "execution_count": null,
   "id": "ccb19577-5d06-4c0c-8fe3-6bb71640fb8f",
   "metadata": {
    "deletable": false,
    "editable": false,
    "nbgrader": {
     "cell_type": "code",
     "checksum": "b9760cdac230d88be37723a881183956",
     "grade": false,
     "grade_id": "cell-5b82afcd0f5ff587",
     "locked": true,
     "schema_version": 3,
     "solution": false,
     "task": false
    }
   },
   "outputs": [],
   "source": [
    "import geopandas as gpd\n",
    "\n",
    "print(gpd.__name__, gpd.__version__)"
   ]
  },
  {
   "cell_type": "markdown",
   "id": "0aa9a303-80a0-445d-881c-ceb0159385e9",
   "metadata": {
    "deletable": false,
    "editable": false,
    "nbgrader": {
     "cell_type": "markdown",
     "checksum": "df32819b37db954d9bb0f52b978d3bc0",
     "grade": false,
     "grade_id": "cell-f8558f78477e8fe7",
     "locked": true,
     "schema_version": 3,
     "solution": false,
     "task": false
    }
   },
   "source": [
    "GeoPandas es una extensión a la biblioteca Pandas que adiciona datos geoespaciales. La estructura de datos principal es un GeoDataFrame que almacena información geoespacial en columnas designadas para ello; es posible hacer operaciones sobre esta información con varias de las funcionalidades de GeoPandas. También existen las GeoSeries. \n",
    "\n",
    "<center>\n",
    "<img src=\"https://geopandas.org/en/stable/_images/dataframe.svg\" width=\"500px\">\n",
    "</center>"
   ]
  },
  {
   "cell_type": "code",
   "execution_count": null,
   "id": "83f5f012-728c-4326-9bc1-d8ea96f91374",
   "metadata": {
    "deletable": false,
    "editable": false,
    "nbgrader": {
     "cell_type": "code",
     "checksum": "4a3d8f8c2a11ac3fc7d478f48b132a82",
     "grade": false,
     "grade_id": "cell-3465bace0a4d1870",
     "locked": true,
     "schema_version": 3,
     "solution": false,
     "task": false
    }
   },
   "outputs": [],
   "source": [
    "mx_data = gpd.read_file('../utils/data/mapa_mexico/Division_Municipal_Mexico_2010.shp')"
   ]
  },
  {
   "cell_type": "code",
   "execution_count": null,
   "id": "31f653d5-7540-49e6-a6a1-bb8cbb7e74a0",
   "metadata": {
    "deletable": false,
    "editable": false,
    "nbgrader": {
     "cell_type": "code",
     "checksum": "9234273e13e9bf916563c2cefbc7a601",
     "grade": false,
     "grade_id": "cell-4f479d54dd04e177",
     "locked": true,
     "schema_version": 3,
     "solution": false,
     "task": false
    }
   },
   "outputs": [],
   "source": [
    "type(mx_data)"
   ]
  },
  {
   "cell_type": "code",
   "execution_count": null,
   "id": "19473d26-f339-4e7c-901f-3432cfb014b7",
   "metadata": {
    "deletable": false,
    "editable": false,
    "nbgrader": {
     "cell_type": "code",
     "checksum": "8308f905fe03e907eb484f5feae4bb1c",
     "grade": false,
     "grade_id": "cell-fb943fcf1e4d6bb5",
     "locked": true,
     "schema_version": 3,
     "solution": false,
     "task": false
    }
   },
   "outputs": [],
   "source": [
    "mx_data"
   ]
  },
  {
   "cell_type": "code",
   "execution_count": null,
   "id": "193c0cad-6247-4e2f-ad3d-ea860cc073af",
   "metadata": {
    "deletable": false,
    "editable": false,
    "nbgrader": {
     "cell_type": "code",
     "checksum": "9a6ec25320f12e1540fd946ccebed65e",
     "grade": false,
     "grade_id": "cell-a53e6bcd238ea8e3",
     "locked": true,
     "schema_version": 3,
     "solution": false,
     "task": false
    }
   },
   "outputs": [],
   "source": [
    "mx_data.plot()"
   ]
  },
  {
   "cell_type": "code",
   "execution_count": null,
   "id": "d83ea2aa-4037-4e6b-953f-2f15d221820d",
   "metadata": {
    "deletable": false,
    "editable": false,
    "nbgrader": {
     "cell_type": "code",
     "checksum": "7d7ae1078963904465a0d5758db546fe",
     "grade": false,
     "grade_id": "cell-77a6a3242f2e8614",
     "locked": true,
     "schema_version": 3,
     "solution": false,
     "task": false
    }
   },
   "outputs": [],
   "source": [
    "mx_data.geometry"
   ]
  },
  {
   "cell_type": "code",
   "execution_count": null,
   "id": "2e6be286-56d7-4a3a-803c-75691eb74797",
   "metadata": {
    "deletable": false,
    "editable": false,
    "nbgrader": {
     "cell_type": "code",
     "checksum": "75bb24b08360e0275de28979b9413946",
     "grade": false,
     "grade_id": "cell-55420c72db7c8225",
     "locked": true,
     "schema_version": 3,
     "solution": false,
     "task": false
    }
   },
   "outputs": [],
   "source": [
    "mx_data.geometry[5]"
   ]
  },
  {
   "cell_type": "code",
   "execution_count": null,
   "id": "3af87317-ddf0-4a3d-9012-d2414fe56710",
   "metadata": {
    "deletable": false,
    "editable": false,
    "nbgrader": {
     "cell_type": "code",
     "checksum": "5babbe3e2eadca2a46bbe71ac92be043",
     "grade": false,
     "grade_id": "cell-0528fbecbd2e7fce",
     "locked": true,
     "schema_version": 3,
     "solution": false,
     "task": false
    }
   },
   "outputs": [],
   "source": [
    "mx_data[mx_data.NOM_MUN == 'Toluca']"
   ]
  },
  {
   "cell_type": "code",
   "execution_count": null,
   "id": "69e819e2-4624-4248-8cb4-47eed93b53b4",
   "metadata": {
    "deletable": false,
    "editable": false,
    "nbgrader": {
     "cell_type": "code",
     "checksum": "d9f3a19bad113c6d55f09eda75038ab1",
     "grade": false,
     "grade_id": "cell-1a759833c971021a",
     "locked": true,
     "schema_version": 3,
     "solution": false,
     "task": false
    }
   },
   "outputs": [],
   "source": [
    "mx_data.geometry[1222]"
   ]
  },
  {
   "cell_type": "code",
   "execution_count": null,
   "id": "c6439d4d-f340-4a7c-9052-227f6a842e20",
   "metadata": {
    "deletable": false,
    "editable": false,
    "nbgrader": {
     "cell_type": "code",
     "checksum": "a34e37ddc2611e44191be2514d78feb2",
     "grade": false,
     "grade_id": "cell-d171d2d1e33cde64",
     "locked": true,
     "schema_version": 3,
     "solution": false,
     "task": false
    }
   },
   "outputs": [],
   "source": [
    "mx_data.plot('NOMEDO')"
   ]
  },
  {
   "cell_type": "markdown",
   "id": "068a3488-6722-43b4-a470-bf4665553701",
   "metadata": {
    "deletable": false,
    "editable": false,
    "nbgrader": {
     "cell_type": "markdown",
     "checksum": "337ddaa1e207bbc4fc65915080e4e00c",
     "grade": false,
     "grade_id": "cell-2aaf0b8d76ef0691",
     "locked": true,
     "schema_version": 3,
     "solution": false,
     "task": false
    }
   },
   "source": [
    "Combinamos la información de latitudes y longitudes que se obtienen de los datos del SSN en el mapa anterior.\n",
    "\n",
    "Primero volvamos a leer el archivo de magnitudes 7 a 9."
   ]
  },
  {
   "cell_type": "code",
   "execution_count": null,
   "id": "3e5d6671-3c5a-4c67-9cd1-5cf19a1d3869",
   "metadata": {
    "deletable": false,
    "editable": false,
    "nbgrader": {
     "cell_type": "code",
     "checksum": "eb37f4a6386fc5aa3d4ce71daa807b21",
     "grade": false,
     "grade_id": "cell-140932717b1cfe1c",
     "locked": true,
     "schema_version": 3,
     "solution": false,
     "task": false
    }
   },
   "outputs": [],
   "source": [
    "ssn_frame_7_9 = pd.read_csv(path_data + 'SSNMX_catalogo_19001001_20221011_m70_99.csv', header=4, skipfooter=7, engine='python')\n",
    "print(type(ssn_frame_7_9))\n",
    "ssn_frame_7_9"
   ]
  },
  {
   "cell_type": "code",
   "execution_count": null,
   "id": "7fc3b45e-ea50-4ca0-9a20-4e5117210708",
   "metadata": {
    "deletable": false,
    "editable": false,
    "nbgrader": {
     "cell_type": "code",
     "checksum": "cb2ca3ceb9269d3f27cd3f984e1dd9b7",
     "grade": false,
     "grade_id": "cell-9bb455b5ac6e86e7",
     "locked": true,
     "schema_version": 3,
     "solution": false,
     "task": false
    }
   },
   "outputs": [],
   "source": [
    "ssn_frame_7_9.Latitud"
   ]
  },
  {
   "cell_type": "code",
   "execution_count": null,
   "id": "93aeb1b2-ba8d-4112-a8dd-1af12b8e507f",
   "metadata": {
    "deletable": false,
    "editable": false,
    "nbgrader": {
     "cell_type": "code",
     "checksum": "5f67503d766109c1c3d7ea3e4d8456c6",
     "grade": false,
     "grade_id": "cell-ba7b46338afcc02c",
     "locked": true,
     "schema_version": 3,
     "solution": false,
     "task": false
    }
   },
   "outputs": [],
   "source": [
    "ssn_frame_7_9.Longitud"
   ]
  },
  {
   "cell_type": "markdown",
   "id": "dc178c8f-0bd2-45db-bc41-9fad594ccf39",
   "metadata": {
    "deletable": false,
    "editable": false,
    "nbgrader": {
     "cell_type": "markdown",
     "checksum": "f0664873517978bff33ca5afc04025f7",
     "grade": false,
     "grade_id": "cell-df0a37f419b728c5",
     "locked": true,
     "schema_version": 3,
     "solution": false,
     "task": false
    }
   },
   "source": [
    "Vamos a extraer la información de la latitud y longitud del DataFrame `ssn_frame_7_9` y la vamos a convertir en un GeoDataFrame para poder visualizarla en un mapa."
   ]
  },
  {
   "cell_type": "code",
   "execution_count": null,
   "id": "22fc9267-d676-4efe-b382-8efef0cb9841",
   "metadata": {
    "deletable": false,
    "editable": false,
    "nbgrader": {
     "cell_type": "code",
     "checksum": "e6a46a05c49f8d34379cac68679474c4",
     "grade": false,
     "grade_id": "cell-923ff6233b584cf9",
     "locked": true,
     "schema_version": 3,
     "solution": false,
     "task": false
    }
   },
   "outputs": [],
   "source": [
    "sismos_gdf = gpd.GeoDataFrame(ssn_frame_7_9, geometry=gpd.points_from_xy(ssn_frame_7_9.Longitud, ssn_frame_7_9.Latitud))\n",
    "print(type(sismos_gdf))"
   ]
  },
  {
   "cell_type": "code",
   "execution_count": null,
   "id": "ea72266c-5e72-4363-84af-c83a69af5b0c",
   "metadata": {
    "deletable": false,
    "editable": false,
    "nbgrader": {
     "cell_type": "code",
     "checksum": "a4328296713307ebdc05f94f04f7e532",
     "grade": false,
     "grade_id": "cell-de338588209aea77",
     "locked": true,
     "schema_version": 3,
     "solution": false,
     "task": false
    }
   },
   "outputs": [],
   "source": [
    "sismos_gdf"
   ]
  },
  {
   "cell_type": "code",
   "execution_count": null,
   "id": "2de39fbb-f766-47e6-97d7-05db349c3aae",
   "metadata": {
    "deletable": false,
    "editable": false,
    "nbgrader": {
     "cell_type": "code",
     "checksum": "8bfc1e2e5603b92d8b1cf10cc754912c",
     "grade": false,
     "grade_id": "cell-274048573488f682",
     "locked": true,
     "schema_version": 3,
     "solution": false,
     "task": false
    }
   },
   "outputs": [],
   "source": [
    "sismos_gdf.plot()"
   ]
  },
  {
   "cell_type": "markdown",
   "id": "2227a50a-c5c5-4a96-8fc1-e2fcc9c4829b",
   "metadata": {
    "deletable": false,
    "editable": false,
    "nbgrader": {
     "cell_type": "markdown",
     "checksum": "570002ef921514f448e1391a61f3a7fa",
     "grade": false,
     "grade_id": "cell-13bde00a04aaafd8",
     "locked": true,
     "schema_version": 3,
     "solution": false,
     "task": false
    }
   },
   "source": [
    "Ahora graficamos el mapa y los epicentros de los sismos"
   ]
  },
  {
   "cell_type": "code",
   "execution_count": null,
   "id": "44fd2f43-431c-46b4-87c3-c7386f279895",
   "metadata": {
    "deletable": false,
    "editable": false,
    "nbgrader": {
     "cell_type": "code",
     "checksum": "f65d45af26fea45ccc83714ebbcfcc1f",
     "grade": false,
     "grade_id": "cell-c7ae5740a04015dd",
     "locked": true,
     "schema_version": 3,
     "solution": false,
     "task": false
    }
   },
   "outputs": [],
   "source": [
    "# Creamos la figura\n",
    "fig = plt.figure(figsize = (8,8))\n",
    "\n",
    "# Obtenemos los ejes de la figura\n",
    "ax = plt.gca()\n",
    "\n",
    "# Graficamos el mapa\n",
    "mx_data.plot('NOMEDO', ax = ax)\n",
    "\n",
    "# Graficamos los epicentros.\n",
    "sismos_gdf.plot(ax = ax, markersize = 20, color = 'k', marker = '.',label = 'Sismos')\n",
    "\n",
    "# Mostramos la gráfica final\n",
    "plt.show()"
   ]
  },
  {
   "cell_type": "code",
   "execution_count": null,
   "id": "5f62ef12-9b71-4b1d-b293-b24aa360ec9a",
   "metadata": {
    "deletable": false,
    "editable": false,
    "nbgrader": {
     "cell_type": "code",
     "checksum": "91fefdd0bd9e3bcc359d9f8b916cf9b8",
     "grade": false,
     "grade_id": "cell-b95b94df658fe216",
     "locked": true,
     "schema_version": 3,
     "solution": false,
     "task": false
    }
   },
   "outputs": [],
   "source": [
    "# Se puede usar información que viene con GeoPandas.\n",
    "world = gpd.read_file(gpd.datasets.get_path('naturalearth_lowres'))\n",
    "ax = world[world.continent == 'North America'].plot(color='white', edgecolor='gray')\n",
    "sismos_gdf.plot(ax = ax, markersize = 20, color = 'k', marker = '.',label = 'Sismos')\n",
    "plt.show()"
   ]
  },
  {
   "cell_type": "code",
   "execution_count": null,
   "id": "d781f627-8e8e-4123-b6a6-546b6c360305",
   "metadata": {
    "deletable": false,
    "editable": false,
    "nbgrader": {
     "cell_type": "code",
     "checksum": "650101a19b8ff8ac45fdf9b5db0ee1a4",
     "grade": false,
     "grade_id": "cell-9825132ee3bf608e",
     "locked": true,
     "schema_version": 3,
     "solution": false,
     "task": false
    }
   },
   "outputs": [],
   "source": [
    "# Se puede agregar un mapa base.\n",
    "import contextily as cx\n",
    "mx_wm = mx_data.to_crs(epsg=3857)\n",
    "ax = mx_wm.plot(figsize=(10, 10), alpha=0.25, edgecolor='w')\n",
    "cx.add_basemap(ax)\n",
    "plt.show()"
   ]
  },
  {
   "cell_type": "markdown",
   "id": "9391c778-a1d9-4597-9341-28a4b29793a0",
   "metadata": {
    "deletable": false,
    "editable": false,
    "nbgrader": {
     "cell_type": "markdown",
     "checksum": "c34c2aca1b9a628690421170f2b8545a",
     "grade": false,
     "grade_id": "cell-57a59faf759b682c",
     "locked": true,
     "schema_version": 3,
     "solution": false,
     "task": false
    }
   },
   "source": [
    "¿Cómo agregar los epicentros en el mapa anterior?<br>\n",
    "¿Se podría colorear cada epicentro de acuerdo con la fecha en que ocurrió cada sismo?<br>"
   ]
  },
  {
   "cell_type": "code",
   "execution_count": null,
   "id": "3f5370fd-6c2a-4466-9326-198152b27451",
   "metadata": {},
   "outputs": [],
   "source": []
  }
 ],
 "metadata": {
  "kernelspec": {
   "display_name": "Python 3 (ipykernel)",
   "language": "python",
   "name": "python3"
  },
  "language_info": {
   "codemirror_mode": {
    "name": "ipython",
    "version": 3
   },
   "file_extension": ".py",
   "mimetype": "text/x-python",
   "name": "python",
   "nbconvert_exporter": "python",
   "pygments_lexer": "ipython3",
   "version": "3.9.7"
  }
 },
 "nbformat": 4,
 "nbformat_minor": 5
}
