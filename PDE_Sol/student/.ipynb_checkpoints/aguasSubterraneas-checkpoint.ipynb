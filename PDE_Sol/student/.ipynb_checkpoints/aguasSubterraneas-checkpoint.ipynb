{
 "cells": [
  {
   "cell_type": "markdown",
   "metadata": {
    "deletable": false,
    "editable": false,
    "nbgrader": {
     "cell_type": "markdown",
     "checksum": "90e77d0e2216ca8070fdcb63e3a8bd33",
     "grade": false,
     "grade_id": "cell-310d77b0e8e2eda3",
     "locked": true,
     "schema_version": 3,
     "solution": false,
     "task": false
    }
   },
   "source": [
    "<img src=\"../../RAUGM_hor.png\" width=\"300px\" align=\"right\">\n",
    "\n",
    "# CU13: Pensamiento Computacional en Ciencias de la Tierra.\n",
    "**Dr. Luis Miguel de la Cruz Salas**<br>\n",
    "Instituto de Geofísica, UNAM\n",
    "\n",
    "Licensed under <a href=\"https://creativecommons.org/licenses/by-nc-nd/4.0?ref=chooser-v1\">Attribution-NonCommercial-NoDerivatives 4.0 International</a>"
   ]
  },
  {
   "cell_type": "markdown",
   "metadata": {
    "deletable": false,
    "editable": false,
    "nbgrader": {
     "cell_type": "markdown",
     "checksum": "395593d1a7c79f9d70d8f57b9dcb431b",
     "grade": false,
     "grade_id": "cell-56d91d7868ea1d16",
     "locked": true,
     "schema_version": 3,
     "solution": false,
     "task": false
    }
   },
   "source": [
    "## Contaminante en un flujo de agua subterráneas.\n",
    "\n",
    "**Objetivo.**\n",
    "Resolver numéricamente la ecuación de conducción de calor no estacionaria usando diferencias finitas y un método explicito.\n",
    "\n",
    "## Contenido.\n",
    "1. [Modelo conceptual.](#1)\n",
    "2. [Modelo matemático.](#2)\n",
    "3. [Modelo numérico.](#3)\n",
    "4. [Modelo computacional.](#4)\n",
    "    - [Algoritmo.](#4-1)\n",
    "    - [Ejercicio 1.](#E-1)\n",
    "    - [Ejercicio 2.](#E-2)\n",
    "    - [Ejercicio 3.](#E-3)\n",
    "    - [Ejercicio 4.](#E-4)\n",
    "    - [Ejercicio 5.](#E-5)\n",
    "    - [Ejercicio 6.](#E-6)"
   ]
  },
  {
   "cell_type": "markdown",
   "metadata": {
    "deletable": false,
    "editable": false,
    "nbgrader": {
     "cell_type": "markdown",
     "checksum": "3e806be6666694248260fd18c5c20b43",
     "grade": false,
     "grade_id": "cell-da8a4064d4b4d281",
     "locked": true,
     "schema_version": 3,
     "solution": false,
     "task": false
    }
   },
   "source": [
    "<a name='1'></a>\n",
    "## Modelo conceptual.\n",
    "\n",
    "Consideremos un acuífero de $Lx = 804.7$ [m] y $Ly = 804.7$ [m] y una fuenta de contaminante localizada en la pared izquierda y acotado por un río en la pared derecha, véase figura. Se considera que el contaminante que se modela es conservativo, es decir, que su concentración no varía al interactuar con el medio y que, por tanto, al atravesar el acuífero mantiene sus propiedades durante todo su recorrido. Se cuenta con un modelo de flujo y transporte de una sola capa, en dos dimensiones. El flujo del\n",
    "agua en el acuífero está en estado de equilibrio. Las condiciones de frontera son las que se muestran en la figura, para la carga hidraúlica $h$ y para la concentración $c$.\n",
    "\n",
    "<img src=\"../utils/figs/gr2.jpg\" width=\"500px\" align=\"center\">\n",
    "\n",
    "El valor de la carga hidráulica en la pared izquierda es de $h = 50$ [m] y en la pared derecha es de $h=0$ [m], en las otras paredes se considera no flujo.\n",
    "La fuente de contaminante que está activa durante el periodo de simulación tiene un valor constante de $c = 50$ ppm. En los otros lugares de la frontera se considera no flujo del contaminante.\n",
    "Inicialmente $h = 25$ [m] y $c = 0$ ppm en el interior del dominio.\n",
    "\n",
    "La porosidad tiene un valor de $\\phi = 0.25$, la dispersividad en dirección $x$ tiene un valor de $Dx = 33$ [m] y en dirección $y$ tiene el valor de $Dy = 3.3$ [m]. $K = 21.22$ [m/s] y $S_s = 1.0$\n",
    "\n",
    "\n",
    "**Fuente**:\n",
    "Leyva-Suárez, Esther, Herrera, Graciela S., & de la Cruz, Luis M.. (2015). A parallel computing strategy for Monte Carlo simulation using groundwater models. Geofísica internacional, 54(3), 245-254. https://doi.org/10.1016/j.gi.2015.04.020"
   ]
  },
  {
   "cell_type": "markdown",
   "metadata": {
    "deletable": false,
    "editable": false,
    "nbgrader": {
     "cell_type": "markdown",
     "checksum": "aa60ac18b752c547c9e8c0bc2a3acc3e",
     "grade": false,
     "grade_id": "cell-2f2abedf9e7b10dd",
     "locked": true,
     "schema_version": 3,
     "solution": false,
     "task": false
    }
   },
   "source": [
    "<a name='2'></a>\n",
    "## Modelo matemático.\n",
    "Para este modelo usaremos las ecuaciones de flujo y transporte acopladas por la ley de Darcy para describir la evolución de la pluma del contaminante. Estas ecuaciones se van a resolver para las cargas hidráulicas y las concentraciones del contaminante y se escriben como sigue:\n",
    "\n",
    "$$\n",
    "\\begin{eqnarray}\n",
    "S_s\\dfrac{\\partial h}{ \\partial t} & = & K \\left(\\dfrac{\\partial^2 h}{ \\partial x^2} + \\dfrac{\\partial^2 h}{ \\partial y^2}\\right) \\tag{1} \\\\\n",
    "V & = & -K \\nabla h \\tag{2} \\\\\n",
    "\\phi \\dfrac{\\partial c}{ \\partial t} + V \\cdot \\nabla c& = & Dx \\dfrac{\\partial^2 c}{ \\partial x^2} + Dy \\dfrac{\\partial^2 c}{ \\partial y^2} \\tag{3} \\\\\n",
    "\\end{eqnarray}\n",
    "$$\n",
    "\n",
    "donde $S_s$ es el almacenamiento específico, $K$ es la conductividad hidráulica, $h$ la carga hidráulica, $c$ la concentración del soluto, $D = (Dx, Dy)$ es la dispersión hidrodinámica, $V = (Vx, Vy)$ la velocidad de poro y la $\\phi$ porosidad efectiva. \n",
    "\n",
    "La ecuación de flujo $(1)$ describe el flujo del agua a través del acuífero, la ecuación de transporte $(3)$ describe los cambios en la concentración del contaminante a través del tiempo para un soluto conservativo. La ley de Darcy $(2)$ acopla las ecuaciones $(1)$ y $(3)$ y con ella se calcula la velocidad de poro del agua subterránea utilizando las cargas y la conductividad hidráulica.\n",
    "\n",
    "Las condiciones de frontera, de acuerdo con la figura de la sección anterior, son las siguientes:"
   ]
  },
  {
   "cell_type": "markdown",
   "metadata": {
    "deletable": false,
    "editable": false,
    "nbgrader": {
     "cell_type": "markdown",
     "checksum": "c06ff4295578c294e3430f7f12db0a94",
     "grade": false,
     "grade_id": "cell-0ed398ae0a9a4cfe",
     "locked": true,
     "schema_version": 3,
     "solution": false,
     "task": false
    }
   },
   "source": [
    "---\n",
    "$$\n",
    "\\begin{array}{ccccccc}\n",
    "h(t,x,y) & = & 50 \\, [m] & \\quad & \\text{para} \\quad x = 0, \\quad \\forall t\\\\\n",
    "h(t,x,y) & = & 0 \\, [m] & \\quad & \\text{para} \\quad x = Lx, \\quad \\forall t \\\\\n",
    "\\dfrac{\\partial h(t,x,y)}{\\partial y} & = & 0 & \\quad & \\text{para} \\quad y = 0, Ly, \\quad \\forall t \n",
    "\\end{array}\n",
    "$$\n",
    "\n",
    "---\n",
    "$$\n",
    "\\begin{array}{ccccccc}\n",
    "c(t,x,y) & = & 50 \\, [ppm] & \\quad & \\text{para} \\quad x = 0, \\quad y \\in [\\frac{3}{8} Ly, \\frac{5}{8}Ly], \\quad \\forall t\\\\\n",
    "\\dfrac{\\partial c(t,x,y)}{\\partial y} & = & 0 & \\quad & \\text{para la frontera restante}, \\quad \\forall t \n",
    "\\end{array}\n",
    "$$\n",
    "\n",
    "---"
   ]
  },
  {
   "cell_type": "markdown",
   "metadata": {
    "deletable": false,
    "editable": false,
    "nbgrader": {
     "cell_type": "markdown",
     "checksum": "8d46b658d42f8dff2cb182a128fc1cbd",
     "grade": false,
     "grade_id": "cell-f8ea1c426a9adf2d",
     "locked": true,
     "schema_version": 3,
     "solution": false,
     "task": false
    },
    "tags": []
   },
   "source": [
    "<a name='3'></a>\n",
    "## Modelo numérico.\n",
    "\n",
    "El dominio se discretiza en una malla de $40 \\times 40$. Se va a simular durante 48 pasos de tiempo, con un paso de 15.2083 días.\n",
    "\n",
    "La forma discreta del modelo matemático, ecuaciones $(1), (2)$ y $(3)$, usando diferencias finitas de segundo orden es la siguiente:\n",
    "\n",
    "$$\n",
    "\\begin{eqnarray}\n",
    "h_{i,j}^{n+1} & = & h_{i,j}^n + \\dfrac{\\delta_t K_{i,j}}{\\delta^2} \n",
    "\\left(h_{i+1,j}^n + h_{i-1,j}^n + h_{i,j+1}^n + h_{i,j-1}^n - 4h_{i,j}^n\\right) \\\\\n",
    "(Vx_{i,j}, Vy_{i,j}) & = & -\\dfrac{K_{i,j}}{2 \\delta} (h_{i+1,j} - h_{i-1,j}, h_{i,j+1} - h_{i,j-1}) \\\\\n",
    "c_{i,j}^{n+1} & = & c_{i,j}^n + \n",
    "\\dfrac{\\delta_t Dx_{i,j}}{\\delta^2  \\phi} \\left(c_{i+1,j}^n - 2c_{i,j}^n + c_{i-1,j}^n\\right) + \\dfrac{\\delta_t Dx_{i,j}}{\\delta^2  \\phi} \\left(c_{i,j+1}^n - 2c_{i,j}^n + c_{i,j-1}^n  \\right) - \\\\\n",
    "& & \\dfrac{\\delta_t Vx_{i,j}}{2\\delta  \\phi} (c_{i+1,j} - c_{i-1,j}) \n",
    "  - \\dfrac{\\delta_t Vy_{i,j}}{2\\delta  \\phi} (c_{i,j+1} - c_{i,j-1})\n",
    "\\end{eqnarray} \n",
    "$$\n",
    "\n",
    "donde $\\delta$ representa el tamaño de las celdas en ambas direcciones y $\\delta_t$ el paso de tiempo."
   ]
  },
  {
   "cell_type": "markdown",
   "metadata": {
    "deletable": false,
    "editable": false,
    "nbgrader": {
     "cell_type": "markdown",
     "checksum": "c0a575cdbfa510bf850fc35d67e668b5",
     "grade": false,
     "grade_id": "cell-1557fed00af4ae15",
     "locked": true,
     "schema_version": 3,
     "solution": false,
     "task": false
    }
   },
   "source": [
    "<a name='4'></a>\n",
    "## Modelo computacional."
   ]
  },
  {
   "cell_type": "code",
   "execution_count": null,
   "metadata": {
    "deletable": false,
    "editable": false,
    "nbgrader": {
     "cell_type": "code",
     "checksum": "8a988b9c99cd8bb315384bc91665888a",
     "grade": false,
     "grade_id": "cell-556b836e25df7f58",
     "locked": true,
     "schema_version": 3,
     "solution": false,
     "task": false
    }
   },
   "outputs": [],
   "source": [
    "import sys\n",
    "import numpy as np\n",
    "import matplotlib.pyplot as plt\n",
    "import matplotlib.gridspec as gridspec\n",
    "from raugm_lib import plotGrid, plotContornos, plotFlujo\n",
    "\n",
    "# Verificación\n",
    "from macti.evaluacion import Evalua\n",
    "ȩ = Evalua('../utils/data/', local=True)\n",
    "\n",
    "print('Python', sys.version)\n",
    "print(np.__name__, np.__version__)\n",
    "print(plt.matplotlib.__name__, plt.matplotlib.__version__)"
   ]
  },
  {
   "cell_type": "markdown",
   "metadata": {
    "deletable": false,
    "editable": false,
    "nbgrader": {
     "cell_type": "markdown",
     "checksum": "66af9e05086d4e8df8bc157cb760e8b3",
     "grade": false,
     "grade_id": "cell-cd6be1ed4bf54902",
     "locked": true,
     "schema_version": 3,
     "solution": false,
     "task": false
    }
   },
   "source": [
    "<a name='4-1'></a>\n",
    "### Algoritmo.\n",
    "Los pasos a seguir son los siguientes.\n",
    "\n",
    "**1. Definir los parámetros físicos y numéricos del problema:**"
   ]
  },
  {
   "cell_type": "code",
   "execution_count": null,
   "metadata": {
    "deletable": false,
    "editable": false,
    "nbgrader": {
     "cell_type": "code",
     "checksum": "873b2bfbb90f57464633bc3079e3c72c",
     "grade": false,
     "grade_id": "cell-14510c72de94fb69",
     "locked": true,
     "schema_version": 3,
     "solution": false,
     "task": false
    }
   },
   "outputs": [],
   "source": [
    "# Parámetros físicos\n",
    "K = 1.0 # 21.22  # Conductividad\n",
    "Dx = 1.0 # 33.0\n",
    "Dy = 1.0 # 3.3\n",
    "𝜙 = 1.0 # 0.25\n",
    "Lx = 1.0 # 804.7  # Longitud del dominio en dirección x\n",
    "Ly = 1.0 # 804.7  # Longitud del dominio en dirección y\n",
    "\n",
    "# Parámetros numéricos\n",
    "Nx = 28 # Número de incógnitas en dirección x\n",
    "Ny = 28 # Número de incógnitas en dirección y\n",
    "𝛿 = Lx / (Nx+1) # Espaciamiento entre los puntos de la rejilla\n",
    "𝛿t = 0.001     # Paso de tiempo\n",
    "N = (Nx + 2)* (Ny + 2) # Número total de puntos en la rejilla"
   ]
  },
  {
   "cell_type": "code",
   "execution_count": null,
   "metadata": {
    "deletable": false,
    "editable": false,
    "nbgrader": {
     "cell_type": "code",
     "checksum": "07e0b14ea7df4bda3ebf6cf9e26e25a9",
     "grade": false,
     "grade_id": "cell-0394e7a83bec5ab4",
     "locked": true,
     "schema_version": 3,
     "solution": false,
     "task": false
    }
   },
   "outputs": [],
   "source": [
    "print('Parámetros físicos' + '\\n' + 40*'-')\n",
    "print('Conductividad K = {}'.format(K))\n",
    "print('Conductividad (Dx, Dy) = ({}, {})'.format(Dx, Dy))\n",
    "print('Porosidad 𝜙 = {}'.format(𝜙))\n",
    "print('Longitud en x = {} | Longitud en y = {}'.format(Lx,Ly))\n",
    "print('\\nParámetros numéricos' + '\\n' + 40*'-')\n",
    "print('Nodos en x = {} | Nodos en y = {}'.format(Nx+2,Ny+2))\n",
    "print('𝛿 = {} | 𝛿t = {}'.format(𝛿, 𝛿t))"
   ]
  },
  {
   "cell_type": "markdown",
   "metadata": {
    "deletable": false,
    "editable": false,
    "nbgrader": {
     "cell_type": "markdown",
     "checksum": "70e515b2023f19ae3843fb3120206190",
     "grade": false,
     "grade_id": "cell-943270b6c081a6c4",
     "locked": true,
     "schema_version": 3,
     "solution": false,
     "task": false
    }
   },
   "source": [
    "**2. Definir la rejilla donde se hará el cálculo (malla):**\n",
    "\n",
    "---\n",
    "<a name='E-1'></a>\n",
    "### <font color=\"DodgerBlue\">Ejercicio 1.</font>\n",
    "Calcule los arreglos `x` y `y` correctos para generar la malla.\n",
    "\n",
    "---"
   ]
  },
  {
   "cell_type": "code",
   "execution_count": null,
   "metadata": {
    "deletable": false,
    "nbgrader": {
     "cell_type": "code",
     "checksum": "083b1083a4f9235ab21df2c0fa9d005f",
     "grade": false,
     "grade_id": "cell-300abc1e41abdfb3",
     "locked": false,
     "schema_version": 3,
     "solution": true,
     "task": false
    }
   },
   "outputs": [],
   "source": [
    "# YOUR CODE HERE\n",
    "raise NotImplementedError()\n",
    "xg, yg = np.meshgrid(x,y,indexing='ij', sparse=False) # Creamos la rejilla para usarla en Matplotlib"
   ]
  },
  {
   "cell_type": "code",
   "execution_count": null,
   "metadata": {
    "deletable": false,
    "editable": false,
    "nbgrader": {
     "cell_type": "code",
     "checksum": "27b906ae426b691e9fe3852b7dec6041",
     "grade": false,
     "grade_id": "cell-ae1d52cb8c5a772e",
     "locked": true,
     "schema_version": 3,
     "solution": false,
     "task": false
    }
   },
   "outputs": [],
   "source": [
    "ȩ.verifica(x, 1)\n",
    "ȩ.verifica(x, 2)"
   ]
  },
  {
   "cell_type": "code",
   "execution_count": null,
   "metadata": {
    "deletable": false,
    "editable": false,
    "nbgrader": {
     "cell_type": "code",
     "checksum": "46a971eb82a591045889b3edeb83844e",
     "grade": false,
     "grade_id": "cell-e802e080fbeb02e8",
     "locked": true,
     "schema_version": 3,
     "solution": false,
     "task": false
    }
   },
   "outputs": [],
   "source": [
    "plotGrid(x, y, 'grid')\n",
    "plt.show()"
   ]
  },
  {
   "cell_type": "markdown",
   "metadata": {
    "deletable": false,
    "editable": false,
    "nbgrader": {
     "cell_type": "markdown",
     "checksum": "c61778d7c49c63755742635afe9b3323",
     "grade": false,
     "grade_id": "cell-2c4f75f6fd366507",
     "locked": true,
     "schema_version": 3,
     "solution": false,
     "task": false
    }
   },
   "source": [
    "**3. Definir las condiciones iniciales y de frontera:**\n",
    "\n",
    "Para el caso de la concentración, necesitamos definir la fuente de contaminante en la pared izquierda:"
   ]
  },
  {
   "cell_type": "markdown",
   "metadata": {
    "deletable": false,
    "editable": false,
    "nbgrader": {
     "cell_type": "markdown",
     "checksum": "b6fdf4673ce158948ee1c3eaea4e786a",
     "grade": false,
     "grade_id": "cell-d1254965c91e487c",
     "locked": true,
     "schema_version": 3,
     "solution": false,
     "task": false
    }
   },
   "source": [
    "---\n",
    "<a name='E-2'></a>\n",
    "### <font color=\"DodgerBlue\">Ejercicio 2.</font>\n",
    "Calcule el lugar donde se debe aplicar la condición de frontera distinta de cero para la concentración $c$. Recuerde que el intervalo es $y \\in [\\frac{3}{8} Ly, \\frac{5}{8}Ly]$.\n",
    "\n",
    "---"
   ]
  },
  {
   "cell_type": "code",
   "execution_count": null,
   "metadata": {
    "deletable": false,
    "nbgrader": {
     "cell_type": "code",
     "checksum": "78cd5fd91dcb94e4727ba9d62469125b",
     "grade": false,
     "grade_id": "cell-c90f6453acb79498",
     "locked": false,
     "schema_version": 3,
     "solution": true,
     "task": false
    }
   },
   "outputs": [],
   "source": [
    "h = np.ones((Nx+2, Ny+2)) * 25\n",
    "h[0,:]    = 50  # Pared izquierda    \n",
    "h[Nx+1,:] = 0   # Pared derecha\n",
    "\n",
    "c = np.zeros((Nx+2, Ny+2))\n",
    "c[0,:]    = 0  # Pared izquierda    \n",
    "c[Nx+1,:] = 0   # Pared derecha\n",
    "c[:,0]    = 0  # Pared inferior\n",
    "c[:,Ny+1] = 0   # Pared superior\n",
    "\n",
    "# YOUR CODE HERE\n",
    "raise NotImplementedError()\n",
    "c[0, N1:N2]    = 50  # Pared izquierda\n"
   ]
  },
  {
   "cell_type": "code",
   "execution_count": null,
   "metadata": {
    "deletable": false,
    "editable": false,
    "nbgrader": {
     "cell_type": "code",
     "checksum": "8ce4b43a5680630ee2c76280d294831e",
     "grade": false,
     "grade_id": "cell-73f1ace24bfba2c7",
     "locked": true,
     "schema_version": 3,
     "solution": false,
     "task": false
    }
   },
   "outputs": [],
   "source": [
    "ȩ.verifica(np.array([N1,N2]), 3)"
   ]
  },
  {
   "cell_type": "code",
   "execution_count": null,
   "metadata": {
    "deletable": false,
    "editable": false,
    "nbgrader": {
     "cell_type": "code",
     "checksum": "23eac3e7cdcfad5cabb0161ad88a4564",
     "grade": false,
     "grade_id": "cell-0361e62d097fb116",
     "locked": true,
     "schema_version": 3,
     "solution": false,
     "task": false
    }
   },
   "outputs": [],
   "source": [
    "fig = plt.figure(figsize=(12, 4), tight_layout=True)\n",
    "gs = gridspec.GridSpec(1, 2)\n",
    "\n",
    "ax1 = fig.add_subplot(gs[0, 0])\n",
    "plotContornos(xg, yg, h, levels=100, lines=False, title='', frame = 'grid', cmap='cool')\n",
    "\n",
    "ax2 = fig.add_subplot(gs[0, 1])\n",
    "plotContornos(xg, yg, c, levels=100, lines=False, title='', frame = 'grid', cmap='viridis')\n",
    "    \n",
    "plt.show()"
   ]
  },
  {
   "cell_type": "markdown",
   "metadata": {
    "deletable": false,
    "editable": false,
    "nbgrader": {
     "cell_type": "markdown",
     "checksum": "362ad4426fe2999ced39756e86ddbd23",
     "grade": false,
     "grade_id": "cell-26fbc00c51cac79d",
     "locked": true,
     "schema_version": 3,
     "solution": false,
     "task": false
    }
   },
   "source": [
    "**4. Implementar el algoritmo de solución:**\n",
    "$$\n",
    "\\begin{eqnarray}\n",
    "h_{i,j}^{n+1} & = & h_{i,j}^n + \\dfrac{\\delta_t K_{i,j}}{\\delta^2} \n",
    "\\left(h_{i+1,j}^n + h_{i-1,j}^n + h_{i,j+1}^n + h_{i,j-1}^n - 4h_{i,j}^n\\right) \\\\\n",
    "(Vx_{i,j}, Vy_{i,j}) & = & -\\dfrac{K_{i,j}}{2 \\delta} (h_{i+1,j} - h_{i-1,j}, h_{i,j+1} - h_{i,j-1}) \\\\\n",
    "c_{i,j}^{n+1} & = & c_{i,j}^n + \\dfrac{\\delta_t Dx_{i,j}}{\\delta^2} \n",
    "\\left(c_{i+1,j}^n - 2c_{i,j}^n + c_{i-1,j}^n\\right) + \\dfrac{\\delta_t Dx_{i,j}}{\\delta^2}\\left(c_{i,j+1}^n - 2c_{i,j}^n + c_{i,j-1}^n  \\right) - \\\\\n",
    "& & \\dfrac{\\delta_t Vx_{i,j}}{2\\delta} (c_{i+1,j} - c_{i-1,j}) \n",
    "  - \\dfrac{\\delta_t Vy_{i,j}}{2\\delta} (c_{i,j+1} - c_{i,j-1})\n",
    "\\end{eqnarray} \n",
    "$$\n"
   ]
  },
  {
   "cell_type": "code",
   "execution_count": null,
   "metadata": {
    "deletable": false,
    "editable": false,
    "nbgrader": {
     "cell_type": "code",
     "checksum": "3b3de4c310828223fedc723d4fcf915a",
     "grade": false,
     "grade_id": "cell-581d7254d8b948f7",
     "locked": true,
     "schema_version": 3,
     "solution": false,
     "task": false
    }
   },
   "outputs": [],
   "source": [
    "𝛿t = 0.0001\n",
    "r = 𝛿t / 𝛿**2\n",
    "s = 1.0 / 2*𝛿\n",
    "t = 𝛿t / 2*𝛿\n",
    "\n",
    "h_new = h.copy()\n",
    "c_new = c.copy()\n",
    "\n",
    "tolerancia = 1.0e-3 \n",
    "error = 1.0\n",
    "error_lista = []\n",
    "\n",
    "Vx = np.zeros((Nx+2, Ny+2))\n",
    "Vy = Vx.copy()"
   ]
  },
  {
   "cell_type": "markdown",
   "metadata": {
    "deletable": false,
    "editable": false,
    "nbgrader": {
     "cell_type": "markdown",
     "checksum": "d0ad0dae1067907c530bbb302629b0d5",
     "grade": false,
     "grade_id": "cell-f5da659e2d4a4e39",
     "locked": true,
     "schema_version": 3,
     "solution": false,
     "task": false
    }
   },
   "source": [
    "**4.1 Hacemos una prueba resolviendo primero la ecuación de flujo**\n",
    "\n",
    "---\n",
    "<a name='E-3'></a>\n",
    "### <font color=\"DodgerBlue\">Ejercicio 3.</font>\n",
    "Implemente la fórmula en diferencias para la carga hidráulica $h$.\n",
    "\n",
    "---"
   ]
  },
  {
   "cell_type": "code",
   "execution_count": null,
   "metadata": {
    "deletable": false,
    "nbgrader": {
     "cell_type": "code",
     "checksum": "cc15b66707be71793518af3f7ab3f566",
     "grade": false,
     "grade_id": "cell-28eba73e058c2c3c",
     "locked": false,
     "schema_version": 3,
     "solution": true,
     "task": false
    }
   },
   "outputs": [],
   "source": [
    "iteraciones_max = 500\n",
    "iteraciones = 0\n",
    "while(error > tolerancia and iteraciones < iteraciones_max):\n",
    "    iteraciones += 1\n",
    "    for i in range(1,Nx+1):\n",
    "        for j in range(1,Ny+1):\n",
    "            if j == 1:  # No flujo en la pared inferior\n",
    "                h_new[i,j] = h[i,j] + K * r * (h[i+1,j] + h[i-1,j] + h[i,j+1] - 3*h[i,j])\n",
    "            if j == Ny: # No flujo en la pared superior\n",
    "                h_new[i,j] = h[i,j] + K * r * (h[i+1,j] + h[i-1,j] + h[i,j-1] - 3*h[i,j])\n",
    "            else:\n",
    "                # YOUR CODE HERE\n",
    "                raise NotImplementedError()\n",
    "                \n",
    "    # Condición de frontera de no flujo\n",
    "    h_new[:,0] = h_new[:,1]\n",
    "    h_new[:,Ny+1] = h_new[:,Ny]\n",
    "    \n",
    "    # Actualización de la carga hidráulica\n",
    "    h[:] = h_new[:]\n",
    "    \n",
    "    print(iteraciones, sep=' ', end= ' ')"
   ]
  },
  {
   "cell_type": "code",
   "execution_count": null,
   "metadata": {
    "deletable": false,
    "editable": false,
    "nbgrader": {
     "cell_type": "code",
     "checksum": "ee1f3cef0fa945f7a470b40367225733",
     "grade": false,
     "grade_id": "cell-c1a67760a1aeae74",
     "locked": true,
     "schema_version": 3,
     "solution": false,
     "task": false
    }
   },
   "outputs": [],
   "source": [
    "ȩ.verifica(h, 4)"
   ]
  },
  {
   "cell_type": "code",
   "execution_count": null,
   "metadata": {
    "deletable": false,
    "editable": false,
    "nbgrader": {
     "cell_type": "code",
     "checksum": "b3dd5f56a9110aa79ad468b88155aa79",
     "grade": false,
     "grade_id": "cell-44a46fae34ac6d9a",
     "locked": true,
     "schema_version": 3,
     "solution": false,
     "task": false
    }
   },
   "outputs": [],
   "source": [
    "plotContornos(xg, yg, h, levels=100, lines=True, title='', frame = 'grid', cmap='cool')"
   ]
  },
  {
   "cell_type": "markdown",
   "metadata": {
    "deletable": false,
    "editable": false,
    "nbgrader": {
     "cell_type": "markdown",
     "checksum": "41750f8f6e567fbfee0946637ffa4048",
     "grade": false,
     "grade_id": "cell-295805c950401db2",
     "locked": true,
     "schema_version": 3,
     "solution": false,
     "task": false
    }
   },
   "source": [
    "**4.2 Calculamos ahora la velocidad con la $h$ antes calculada**\n",
    "\n",
    "---\n",
    "<a name='E-4'></a>\n",
    "### <font color=\"DodgerBlue\">Ejercicio 4.</font>\n",
    "Calcule la velocidad con la fórmula correspondiente.\n",
    "\n",
    "---"
   ]
  },
  {
   "cell_type": "code",
   "execution_count": null,
   "metadata": {
    "deletable": false,
    "nbgrader": {
     "cell_type": "code",
     "checksum": "086e0b9c441cf37033a6c59340187ddf",
     "grade": false,
     "grade_id": "cell-dfef863e7bfe16ce",
     "locked": false,
     "schema_version": 3,
     "solution": true,
     "task": false
    }
   },
   "outputs": [],
   "source": [
    "# YOUR CODE HERE\n",
    "raise NotImplementedError()"
   ]
  },
  {
   "cell_type": "code",
   "execution_count": null,
   "metadata": {
    "deletable": false,
    "editable": false,
    "nbgrader": {
     "cell_type": "code",
     "checksum": "8f624b6acbcebb8f0f4812785b9cf36b",
     "grade": false,
     "grade_id": "cell-8c532d73b4afe58f",
     "locked": true,
     "schema_version": 3,
     "solution": false,
     "task": false
    }
   },
   "outputs": [],
   "source": [
    "ȩ.verifica(Vx, 5)\n",
    "ȩ.verifica(Vy, 6)"
   ]
  },
  {
   "cell_type": "code",
   "execution_count": null,
   "metadata": {
    "deletable": false,
    "editable": false,
    "nbgrader": {
     "cell_type": "code",
     "checksum": "51fe215d94022b921ce8aa2b543173b7",
     "grade": false,
     "grade_id": "cell-26d2d739f71eb2fa",
     "locked": true,
     "schema_version": 3,
     "solution": false,
     "task": false
    }
   },
   "outputs": [],
   "source": [
    "mag = np.sqrt(Vx**2 + Vy**2)\n",
    "plotFlujo(xg, yg, Vx, Vy, kind='stream', color=mag, cmap='winter', title='', frame = 'box')"
   ]
  },
  {
   "cell_type": "markdown",
   "metadata": {
    "deletable": false,
    "editable": false,
    "nbgrader": {
     "cell_type": "markdown",
     "checksum": "3e0d52deda5d41aa7b53333da971e135",
     "grade": false,
     "grade_id": "cell-61bebd99cec45c2f",
     "locked": true,
     "schema_version": 3,
     "solution": false,
     "task": false
    }
   },
   "source": [
    "**4.3 Implementamos el algoritmo completo**\n",
    "$$\n",
    "\\begin{eqnarray}\n",
    "h_{i,j}^{n+1} & = & h_{i,j}^n + \\dfrac{\\delta_t K_{i,j}}{\\delta^2} \n",
    "\\left(h_{i+1,j}^n + h_{i-1,j}^n + h_{i,j+1}^n + h_{i,j-1}^n - 4h_{i,j}^n\\right) \\\\\n",
    "(Vx_{i,j}, Vy_{i,j}) & = & -\\dfrac{K_{i,j}}{2 \\delta} (h_{i+1,j} - h_{i-1,j}, h_{i,j+1} - h_{i,j-1}) \\\\\n",
    "c_{i,j}^{n+1} & = & c_{i,j}^n + \n",
    "\\dfrac{\\delta_t Dx_{i,j}}{\\delta^2  \\phi} \\left(c_{i+1,j}^n - 2c_{i,j}^n + c_{i-1,j}^n\\right) + \\dfrac{\\delta_t Dx_{i,j}}{\\delta^2  \\phi} \\left(c_{i,j+1}^n - 2c_{i,j}^n + c_{i,j-1}^n  \\right) - \\\\\n",
    "& & \\dfrac{\\delta_t Vx_{i,j}}{2\\delta  \\phi} (c_{i+1,j} - c_{i-1,j}) \n",
    "  - \\dfrac{\\delta_t Vy_{i,j}}{2\\delta  \\phi} (c_{i,j+1} - c_{i,j-1})\n",
    "\\end{eqnarray} \n",
    "$$\n",
    "\n",
    "---\n",
    "<a name='E-5'></a>\n",
    "### <font color=\"DodgerBlue\">Ejercicio 5.</font>\n",
    "Complete el cálculo de la concentración $c$ en el código que sigue.\n",
    "\n",
    "---"
   ]
  },
  {
   "cell_type": "code",
   "execution_count": null,
   "metadata": {
    "deletable": false,
    "nbgrader": {
     "cell_type": "code",
     "checksum": "bdb930a6d6fd949e4668cb3d89054f40",
     "grade": false,
     "grade_id": "cell-584775eb32239e79",
     "locked": false,
     "schema_version": 3,
     "solution": true,
     "task": false
    }
   },
   "outputs": [],
   "source": [
    "h = np.ones((Nx+2, Ny+2)) * 25\n",
    "h[0,:]    = 50  # Pared izquierda    \n",
    "h[Nx+1,:] = 0   # Pared derecha\n",
    "\n",
    "c = np.zeros((Nx+2, Ny+2))\n",
    "c[0,:]    = 0  # Pared izquierda    \n",
    "c[Nx+1,:] = 0   # Pared derecha\n",
    "c[:,0]    = 0  # Pared inferior\n",
    "c[:,Ny+1] = 0   # Pared superior\n",
    "\n",
    "c[0, N1:N2]    = 50  # Pared izquierda\n",
    "\n",
    "iteraciones_max = 500\n",
    "iteraciones = 0\n",
    "while(error > tolerancia and iteraciones < iteraciones_max):\n",
    "    iteraciones += 1\n",
    "    for i in range(1,Nx+1):\n",
    "        for j in range(1,Ny+1):\n",
    "            if j == 1:  # No flujo \n",
    "                h_new[i,j] = h[i,j] + K * r * (h[i+1,j] + h[i-1,j] + h[i,j+1] - 3*h[i,j])\n",
    "            if j == Ny: # No flujo\n",
    "                h_new[i,j] = h[i,j] + K * r * (h[i+1,j] + h[i-1,j] + h[i,j-1] - 3*h[i,j])\n",
    "            else:\n",
    "                h_new[i,j] = h[i,j] + K * r * (h[i+1,j] + h[i-1,j] + h[i,j+1] + h[i,j-1] - 4*h[i,j])\n",
    "\n",
    "    h_new[:,0] = h_new[:,1]\n",
    "    h_new[:,Ny+1] = h_new[:,Ny]\n",
    "    \n",
    "    for i in range(1,Nx+1):\n",
    "        for j in range(1,Ny+1):\n",
    "            Vx[i,j] = -K * s * (h[i+1,j] - h[i-1,j])\n",
    "            Vy[i,j] = -K * s * (h[i,j+1] - h[i,j-1])\n",
    "\n",
    "    for i in range(1,Nx+1):\n",
    "        for j in range(1,Ny+1):\n",
    "            if j == 1:  # No flujo \n",
    "                c_new[i,j] = c[i,j] + Dx * r * (c[i+1,j] - 2*c[i,j]+ c[i-1,j]) / 𝜙 \\\n",
    "                                    + Dy * r * (c[i,j+1] - c[i,j]) / 𝜙 \\\n",
    "                                    - t * Vx[i,j] * (c[i+1,j] - c[i-1,j]) / 𝜙 \\\n",
    "                                    - t * Vy[i,j] * (c[i,j+1] - c[i,j-1]) / 𝜙\n",
    "            if j == Ny: # No flujo\n",
    "                c_new[i,j] = c[i,j] + Dx * r * (c[i+1,j] - 2*c[i,j]+ c[i-1,j]) / 𝜙\\\n",
    "                                    + Dy * r * (c[i,j-1] - c[i,j]) / 𝜙 \\\n",
    "                                    - t * Vx[i,j] * (c[i+1,j] - c[i-1,j]) / 𝜙 \\\n",
    "                                    - t * Vy[i,j] * (c[i,j+1] - c[i,j-1]) / 𝜙\n",
    "            if i == Nx: # No flujo\n",
    "                c_new[i,j] = c[i,j] + Dx * r * (c[i-1,j] - c[i,j]) / 𝜙 \\\n",
    "                                    + Dy * r * (c[i,j+1] - 2*c[i,j]+ c[i,j-1]) / 𝜙 \\\n",
    "                                    - t * Vx[i,j] * (c[i+1,j] - c[i-1,j]) / 𝜙 \\\n",
    "                                    + t * Vy[i,j] * (c[i,j+1] - c[i,j-1]) / 𝜙              \n",
    "            else:\n",
    "                # YOUR CODE HERE\n",
    "                raise NotImplementedError()\n",
    "                \n",
    "    c_new[:,0] = c_new[:,1]\n",
    "    c_new[:,Ny+1] = c_new[:,Ny]\n",
    "    c_new[Nx+1:] = c_new[Nx,:]\n",
    "    \n",
    "    error = np.linalg.norm(h_new - h)\n",
    "    error_lista.append(error)\n",
    "    h[:] = h_new[:]\n",
    "    c[:] = c_new[:]\n",
    "    \n",
    "    print(iteraciones, sep=' ', end= ' ')"
   ]
  },
  {
   "cell_type": "code",
   "execution_count": null,
   "metadata": {
    "deletable": false,
    "editable": false,
    "nbgrader": {
     "cell_type": "code",
     "checksum": "29d4c55219f4e6b04fb70dff9ef98076",
     "grade": false,
     "grade_id": "cell-0de6a9d2341d3dce",
     "locked": true,
     "schema_version": 3,
     "solution": false,
     "task": false
    }
   },
   "outputs": [],
   "source": [
    "ȩ.verifica(c, 7)"
   ]
  },
  {
   "cell_type": "code",
   "execution_count": null,
   "metadata": {
    "deletable": false,
    "editable": false,
    "nbgrader": {
     "cell_type": "code",
     "checksum": "e72777cdc25f64c4c93cbfe24e471583",
     "grade": false,
     "grade_id": "cell-3abe2203b0f9dbc9",
     "locked": true,
     "schema_version": 3,
     "solution": false,
     "task": false
    }
   },
   "outputs": [],
   "source": [
    "fig = plt.figure(figsize=(20,8))\n",
    "\n",
    "fig.add_subplot(221)\n",
    "plotContornos(xg, yg, h, levels=100, lines=True, title='', frame = 'grid', cmap='cool')\n",
    "\n",
    "fig.add_subplot(222)\n",
    "plotContornos(xg, yg, c, levels=100, lines=True, lcolor='k', title='', frame = 'grid', cmap='GnBu')\n",
    "\n",
    "fig.add_subplot(223)\n",
    "mag = np.sqrt(Vx**2 + Vy**2)\n",
    "plotFlujo(xg, yg, Vx, Vy, kind='stream', color=mag, cmap='winter', title='', frame = 'box')\n",
    "\n",
    "plt.tight_layout()\n",
    "plt.show()"
   ]
  },
  {
   "cell_type": "markdown",
   "metadata": {
    "deletable": false,
    "editable": false,
    "nbgrader": {
     "cell_type": "markdown",
     "checksum": "dde49f71090c2db9031a15628c39b955",
     "grade": false,
     "grade_id": "cell-1a45260d6153060b",
     "locked": true,
     "schema_version": 3,
     "solution": false,
     "task": false
    }
   },
   "source": [
    "**¿Podría hacer el mismo cálculo con una permeabilidad hidráulica y dipersividad variable en el dominio de estudio?**"
   ]
  },
  {
   "cell_type": "code",
   "execution_count": null,
   "metadata": {
    "deletable": false,
    "editable": false,
    "nbgrader": {
     "cell_type": "code",
     "checksum": "17a42fb6b692a117b91283db32ecf16f",
     "grade": false,
     "grade_id": "cell-c9e6c26d91446144",
     "locked": true,
     "schema_version": 3,
     "solution": false,
     "task": false
    }
   },
   "outputs": [],
   "source": [
    "K = np.ones((Nx+2, Ny+2))\n",
    "\n",
    "nn1 = int(Ny*0.25)\n",
    "nn2 = int(Ny*.75)\n",
    "print(nn1, nn2, nn2-nn1)\n",
    "K[:, nn1:nn2] = np.random.rand(Nx+2, nn2-nn1) * 0.5\n",
    "\n",
    "Dx = K.copy()\n",
    "Dy = K.copy()\n",
    "\n",
    "Dx *= 2"
   ]
  },
  {
   "cell_type": "code",
   "execution_count": null,
   "metadata": {
    "deletable": false,
    "editable": false,
    "nbgrader": {
     "cell_type": "code",
     "checksum": "a06ca86c37e120f8429098dda80215d7",
     "grade": false,
     "grade_id": "cell-dad180cb85db5bf8",
     "locked": true,
     "schema_version": 3,
     "solution": false,
     "task": false
    }
   },
   "outputs": [],
   "source": [
    "fig = plt.figure(figsize=(12, 4), tight_layout=True)\n",
    "gs = gridspec.GridSpec(1, 2)\n",
    "\n",
    "ax1 = fig.add_subplot(gs[0, 0])\n",
    "plotContornos(xg, yg, K, levels=100, lines=False, title='', frame = 'grid', cmap='cool')\n",
    "\n",
    "ax2 = fig.add_subplot(gs[0, 1])\n",
    "plotContornos(xg, yg, Dx, levels=100, lines=False, title='', frame = 'grid', cmap='viridis')\n",
    "    \n",
    "plt.show()"
   ]
  },
  {
   "cell_type": "markdown",
   "metadata": {
    "deletable": false,
    "editable": false,
    "nbgrader": {
     "cell_type": "markdown",
     "checksum": "0e08da94d24098a7a34d27e4f01a6a60",
     "grade": false,
     "grade_id": "cell-030460adb7d718f4",
     "locked": true,
     "schema_version": 3,
     "solution": false,
     "task": false
    }
   },
   "source": [
    "---\n",
    "<a name='E-6'></a>\n",
    "\n",
    "### <font color=\"DodgerBlue\">Ejercicio 6.</font>\n",
    "Copie y modifique el código que calcula toda la solución, de tal manera que tome en cuenta la permeabilidad hidráulica y la dispersividad variables.\n",
    "\n",
    "---"
   ]
  },
  {
   "cell_type": "code",
   "execution_count": null,
   "metadata": {
    "deletable": false,
    "nbgrader": {
     "cell_type": "code",
     "checksum": "1fd9cb5c39203c2f36ec15240894c5a5",
     "grade": false,
     "grade_id": "cell-54d853f692b643c8",
     "locked": false,
     "schema_version": 3,
     "solution": true,
     "task": false
    }
   },
   "outputs": [],
   "source": [
    "# YOUR CODE HERE\n",
    "raise NotImplementedError()"
   ]
  },
  {
   "cell_type": "code",
   "execution_count": null,
   "metadata": {
    "deletable": false,
    "editable": false,
    "nbgrader": {
     "cell_type": "code",
     "checksum": "83dc34d5b8eda74b57650aaf7c453a16",
     "grade": false,
     "grade_id": "cell-7e91a11c238e17ef",
     "locked": true,
     "schema_version": 3,
     "solution": false,
     "task": false
    }
   },
   "outputs": [],
   "source": [
    "fig = plt.figure(figsize=(20,8))\n",
    "\n",
    "fig.add_subplot(131)\n",
    "plotContornos(xg, yg, h, levels=100, lines=True, title='', frame = 'grid', cmap='cool')\n",
    "\n",
    "fig.add_subplot(132)\n",
    "mag = np.sqrt(Vx**2 + Vy**2)\n",
    "plotFlujo(xg, yg, Vx, Vy, kind='stream', color=mag, cmap='winter', title='', frame = 'box')\n",
    "\n",
    "fig.add_subplot(133)\n",
    "plotContornos(xg, yg, c, levels=100, lines=True, lcolor='k', title='', frame = 'grid', cmap='GnBu')\n",
    "\n",
    "plt.tight_layout()\n",
    "plt.show()"
   ]
  },
  {
   "cell_type": "code",
   "execution_count": null,
   "metadata": {},
   "outputs": [],
   "source": []
  }
 ],
 "metadata": {
  "kernelspec": {
   "display_name": "Python 3 (ipykernel)",
   "language": "python",
   "name": "python3"
  },
  "language_info": {
   "codemirror_mode": {
    "name": "ipython",
    "version": 3
   },
   "file_extension": ".py",
   "mimetype": "text/x-python",
   "name": "python",
   "nbconvert_exporter": "python",
   "pygments_lexer": "ipython3",
   "version": "3.9.7"
  }
 },
 "nbformat": 4,
 "nbformat_minor": 4
}
