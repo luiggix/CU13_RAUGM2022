{
 "cells": [
  {
   "cell_type": "markdown",
   "metadata": {},
   "source": [
    "<img src=\"../../RAUGM_hor.png\" width=\"300px\" align=\"right\">\n",
    "\n",
    "# CU13: Pensamiento Computacional en Ciencias de la Tierra.\n",
    "**Dr. Luis Miguel de la Cruz Salas**<br>\n",
    "Instituto de Geofísica, UNAM\n",
    "\n",
    "Licensed under <a href=\"https://creativecommons.org/licenses/by-nc-nd/4.0?ref=chooser-v1\">Attribution-NonCommercial-NoDerivatives 4.0 International</a>"
   ]
  },
  {
   "cell_type": "markdown",
   "metadata": {
    "tags": []
   },
   "source": [
    "# Conducción de calor\n",
    "\n",
    "**Objetivo.**\n",
    "Resolver numéricamente la ecuación de conducción de calor no estacionaria usando diferencias finitas y un método explicito.\n",
    "\n",
    "## Contenido.\n",
    "1. [Introducción.](#1)\n",
    "2. [Modelo conceptual.](#2)\n",
    "3. [Modelo matemático.](#3)\n",
    "4. [Modelo numérico.](#4)\n",
    "5. [Modelo computacional.](#5)\n",
    "    - [Algoritmo 1.](#5-1)\n",
    "6. [Flujo de calor](#6)\n",
    "7. [Seguimiento de partículas](#7)\n",
    "    - [Algoritmo 2.](#7-1)\n",
    "    - [Algoritmo 3.](#7-2)"
   ]
  },
  {
   "cell_type": "markdown",
   "metadata": {},
   "source": [
    "<a name='1'></a>\n",
    "## Introducción\n",
    "\n",
    "<img src=\"../utils/figs/ModMat.jpg\" width=\"500px\" align=\"right\">\n",
    "\n",
    "**Modelación Matemática y Computacional.**\n",
    "\n",
    "Cuatro modelos:\n",
    "1. Modelo conceptual.\n",
    "2. Modelo Matemático.\n",
    "3. Modelo Numérico.\n",
    "4. Modelo computacional.\n"
   ]
  },
  {
   "cell_type": "markdown",
   "metadata": {},
   "source": [
    "<a name='2'></a>\n",
    "## Modelo conceptual.\n",
    "\n",
    "<img src=\"../utils/figs/calor01.jpg\" width=\"400px\" align=\"right\">\n",
    "\n",
    "En este ejercicio vamos a aproximar la temperatura de una placa rectangular de metal con conductividad $\\kappa$ homogénea e isotrópica. Para ello, usaremos la [Ley de Fourier de conducción de calor](https://es.wikipedia.org/wiki/Conducci%C3%B3n_de_calor#Ley_Fourier).\n",
    "\n",
    "Supondremos que se aplican temperaturas constantes en todas las paredes $T_0$. En la sección $Ly_2$ de la pared inferior, véase figura, se aplica una temperatura más alta, $T_h$ simulando un calentamiento.La longitud horizontal $Lx$ es el doble que la horizontal $Ly$.\n",
    "\n",
    "Trataremos el problema de manera adimensional de tal manera que tenemos los siguientes datos: $\\kappa = 1.0$, $T_0 = 0$ y $T_h = 20$. "
   ]
  },
  {
   "cell_type": "markdown",
   "metadata": {},
   "source": [
    "<a name='3'></a>\n",
    "## Modelo matemático.\n",
    "\n",
    "[Jean-Baptiste Joseph Fourier](https://www.elmostrador.cl/cultura/2018/07/17/joseph-fourier-el-matematico-reclutado-por-napoleon-que-disparo-su-propia-revolucion-cuando-se-enamoro-del-calor/) fue un matemático y físico francés que ejerció una fuerte influencia en la ciencia a través de su trabajo *Théorie analytique de la chaleur*. En este trabajo mostró que es posible analizar la conducción de calor en cuerpos sólidos en términos de series matemáticas infinitas, las cuales ahora llevan su nombre: *Series de Fourier*. Fourier comenzó su trabajo en 1807, en Grenoble, y lo completó en París en 1822. Su trabajo le permitió expresar la conducción de calor en objetos bidimensionales (hojas muy delgadas de algún material) en términos de la siguiente ecuación diferencial:\n",
    "\n",
    "$$\n",
    "\\dfrac{\\partial T}{ \\partial t} = \\kappa \\left(\\dfrac{\\partial^2 T}{ \\partial x^2} + \\dfrac{\\partial^2 T}{ \\partial y^2}\\right) \\tag{1}\n",
    "$$\n",
    "\n",
    "donde $T$ representa la temperatura en un instante de tiempo $t$ y en un punto $(x,y)$ del plano Cartesiano y $\\kappa$ es la conductividad del material.\n",
    "\n",
    "Para completar la ecuación $(1)$ con condiciones iniciales y de frontera.\n",
    "\n",
    "Condición inicial:\n",
    "$$\n",
    "T(t=0, x, y) = 0 \\qquad \\text{para} \\quad (x,y) \\in [0,Lx] \\times [0,Ly]\n",
    "$$\n",
    "\n",
    "Condiciones de frontera:\n",
    "$$\n",
    "\\begin{eqnarray}\n",
    "T(t, x=0, y) & = & T_0 \\qquad \\text{para} \\quad y [0,Ly]\\\\\n",
    "T(t, x=Lx, y) & = & T_0 \\qquad \\text{para} \\quad y [0,Ly]\\\\\n",
    "T(t, x, y=0) & = & T_0 \\qquad \\text{para} \\quad x \\in Ly_1 \\cup Ly_3\\\\\n",
    "T(t, x, y=0) & = & T_h \\qquad \\text{para} \\quad x \\in Ly_2 \\\\\n",
    "T(t, x, y=Ly) & = & T_0 \\qquad \\text{para} \\quad y [0,Ly]\\\\\n",
    "\\end{eqnarray}\n",
    "$$\n",
    "\n",
    "para $t = 0, T_{max}$"
   ]
  },
  {
   "cell_type": "markdown",
   "metadata": {},
   "source": [
    "<a name='4'></a>\n",
    "## Modelo numérico.\n",
    "\n",
    "<img src=\"./Datos/malla2D_DF.png\"  hspace=\"5\" vspace=\"5\" style=\"float: right;\"/>\n",
    "\n",
    "En ciertas condiciones existen soluciones analíticas de la ecuación $(1)$, sin embargo, también es posible aproximar una solución usando el método numérico de diferencias finitas. \n",
    "\n",
    "El primer paso es discretizar el dominio como se ve en la figura.\n",
    "\n",
    "El segundo paso es transformar la ecuación $(1)$ en un conjunto de ecuaciones discretas, una para cada nodo donde se desea calcular la solución. Usando diferencias finitas y una fórmula explícita es posible escribir la forma discreta de $(1)$ como sigue:\n",
    "\n",
    "$$\n",
    "T_{i,j}^{n+1} = T_{i,j}^n + \\dfrac{h_t\\kappa}{h^2} \n",
    "\\left(T_{i+1,j}^n + T_{i-1,j}^n + T_{i,j+1}^n + T_{i,j-1}^n - 4T_{i,j}^n\\right) \\tag{2}\n",
    "$$\n",
    "\n",
    "donde:\n",
    "- $T_{i,j}^n = T(t_n, x_i, y_j)$\n",
    "- $T_{i+1,j}^n = T(t_n, x_{i+1}, y_j)$, \n",
    "- $T_{i-1,j}^n = T(t_n, x_{i-1}, y_j)$, \n",
    "- $T_{i,j+1}^n = T(t_n, x_i, y_{j+1})$, \n",
    "- $T_{i,j-1}^n = T(t_n, x_i, y_{j-1})$. \n",
    "- El superíndice indica el instante de tiempo en el que se realiza el cálculo. \n",
    "- Se cumple que $t_{n+1} = t_n + h_t$, con $h_t$ el paso de tiempo.\n",
    "- En este ejemplo $h_x = h_y$.\n",
    "\n"
   ]
  },
  {
   "cell_type": "markdown",
   "metadata": {},
   "source": [
    "<a name='5'></a>\n",
    "## Modelo computacional.\n",
    "\n",
    "Usando la aproximación descrita en la sección anterior, vamos a realizar un ejemplo de conducción de calor. Para ello necesitamos conocer las herramientas de [Numpy](https://numpy.org) y [Matplotlib](https://matplotlib.org). Un tutorial de Numpy lo puedes ver <a href=\"../Tutoriales/T1_Numpy.ipynb\">aquí</a> y uno de Matplotlib <a href=\"../Tutoriales/T2_Matplotlib_basico.ipynb\">por acá</a>."
   ]
  },
  {
   "cell_type": "code",
   "execution_count": null,
   "metadata": {},
   "outputs": [],
   "source": [
    "import sys\n",
    "import numpy as np\n",
    "import matplotlib.pyplot as plt\n",
    "import matplotlib.gridspec as gridspec\n",
    "from raugm_lib import plotGrid, plotContornos, plotFlujo\n",
    "\n",
    "print('Python', sys.version)\n",
    "print(np.__name__, np.__version__)\n",
    "print(plt.matplotlib.__name__, plt.matplotlib.__version__)"
   ]
  },
  {
   "cell_type": "markdown",
   "metadata": {},
   "source": [
    "<a name='5-1'></a>\n",
    "### Algoritmo 1.\n",
    "\n",
    "Los pasos a seguir son los siguientes.\n",
    "\n",
    "**1. Definir los parámetros físicos y numéricos del problema:**"
   ]
  },
  {
   "cell_type": "code",
   "execution_count": null,
   "metadata": {},
   "outputs": [],
   "source": [
    "# Parámetros físicos\n",
    "𝜅 = 1.0  # Conductividad\n",
    "Lx = 2.0  # Longitud del dominio en dirección x\n",
    "Ly = 1.0  # Longitud del dominio en dirección y\n",
    "T0 = 0\n",
    "Th = 20\n",
    "\n",
    "# Parámetros numéricos\n",
    "Nx = 29 # Número de incógnitas en dirección x\n",
    "Ny = 14 # Número de incógnitas en dirección y\n",
    "h = Lx / (Nx+1) # Espaciamiento entre los puntos de la rejilla\n",
    "ht = 0.0001     # Paso de tiempo\n",
    "N = (Nx + 2)* (Ny + 2) # Número total de puntos en la rejilla"
   ]
  },
  {
   "cell_type": "code",
   "execution_count": null,
   "metadata": {},
   "outputs": [],
   "source": [
    "print('Parámetros físicos' + '\\n' + 40*'-')\n",
    "print('Conductividad 𝜅 = {}'.format(𝜅))\n",
    "print('Longitud en x = {} | Longitud en y = {}'.format(Lx,Ly))\n",
    "print('T0 = {} | Th = {}'.format(T0, Th))\n",
    "print('\\nParámetros numéricos' + '\\n' + 40*'-')\n",
    "print('Nodos en x = {} | Nodos en y = {}'.format(Nx+2,Ny+2))\n",
    "print('h = {} | ht = {}'.format(h, ht))"
   ]
  },
  {
   "cell_type": "markdown",
   "metadata": {},
   "source": [
    "**2. Definir la rejilla donde se hará el cálculo (malla):**"
   ]
  },
  {
   "cell_type": "code",
   "execution_count": null,
   "metadata": {},
   "outputs": [],
   "source": [
    "x = np.linspace(0,Lx,Nx+2) # Arreglo con las coordenadas en x\n",
    "y = np.linspace(0,Ly,Ny+2) # Arreglo con las coordenadas en y\n",
    "xg, yg = np.meshgrid(x,y,indexing='ij', sparse=False) # Creamos la rejilla para usarla en Matplotlib"
   ]
  },
  {
   "cell_type": "markdown",
   "metadata": {},
   "source": [
    "Usamos la biblioteca `raugm_lib` que fue importada al inicio de esta notebook:\n",
    "```python\n",
    "from raugm_lib import plotGrid, plotContornos, plotFlujo\n",
    "```\n",
    "Usamos `plotGrid()`:"
   ]
  },
  {
   "cell_type": "code",
   "execution_count": null,
   "metadata": {},
   "outputs": [],
   "source": [
    "plotGrid(x, y, 'grid')\n",
    "plt.tight_layout()\n",
    "plt.show()"
   ]
  },
  {
   "cell_type": "markdown",
   "metadata": {},
   "source": [
    "**3. Definir las condiciones iniciales y de frontera:**"
   ]
  },
  {
   "cell_type": "code",
   "execution_count": null,
   "metadata": {},
   "outputs": [],
   "source": [
    "T = np.zeros((Nx+2, Ny+2))\n",
    "T[0,:]    = 0  # Pared izquierda    \n",
    "T[Nx+1,:] = 0   # Pared derecha\n",
    "T[:,0]    = 0  # Pared inferior\n",
    "T[:,Ny+1] = 0   # Pared superior\n",
    "T[int(Nx*0.375):int(Nx*0.625),0] = 20  # Pedazo de la pared inferior en calentamiento\n",
    "\n",
    "print(T) "
   ]
  },
  {
   "cell_type": "markdown",
   "metadata": {},
   "source": [
    "Una primera visualización:"
   ]
  },
  {
   "cell_type": "code",
   "execution_count": null,
   "metadata": {},
   "outputs": [],
   "source": [
    "f = plt.imshow(T,cmap='plasma')\n",
    "plt.colorbar(f)"
   ]
  },
  {
   "cell_type": "code",
   "execution_count": null,
   "metadata": {},
   "outputs": [],
   "source": [
    "plt.contourf(xg, yg, T, levels=50, cmap='plasma')"
   ]
  },
  {
   "cell_type": "markdown",
   "metadata": {},
   "source": [
    "Usamos `plotContornos()`:"
   ]
  },
  {
   "cell_type": "code",
   "execution_count": null,
   "metadata": {},
   "outputs": [],
   "source": [
    "plotContornos(xg, yg, T, levels=100, lines=False, title='', frame = 'grid', cmap='plasma')\n",
    "plt.show()"
   ]
  },
  {
   "cell_type": "markdown",
   "metadata": {},
   "source": [
    "**4. Implementar el algoritmo de solución:**\n",
    "$$\n",
    "T_{i,j}^{n+1} = T_{i,j}^n + \\dfrac{h_t \\kappa}{h^2} \n",
    "\\left(T_{i+1,j}^n + T_{i-1,j}^n + T_{i,j+1}^n + T_{i,j-1}^n - 4T_{i,j}^n\\right) \n",
    "$$\n"
   ]
  },
  {
   "cell_type": "code",
   "execution_count": null,
   "metadata": {},
   "outputs": [],
   "source": [
    "ht = 0.001\n",
    "r = 𝜅 * ht / h**2\n",
    "T_new = T.copy()\n",
    "tolerancia = 1.0e-4 #1.0e-3\n",
    "error = 1.0\n",
    "error_lista = []\n",
    "iteracion = 1\n",
    "while(error > tolerancia):\n",
    "    for i in range(1,Nx+1):\n",
    "        for j in range(1,Ny+1):\n",
    "            T_new[i,j] = T[i,j] + r * (T[i+1,j] + T[i-1,j] + T[i,j+1] + T[i,j-1] - 4*T[i,j])\n",
    "    error = np.linalg.norm(T_new - T)\n",
    "    error_lista.append(error)\n",
    "    T[:] = T_new[:]\n",
    "    print(iteracion, end = ' ')\n",
    "    iteracion += 1"
   ]
  },
  {
   "cell_type": "code",
   "execution_count": null,
   "metadata": {},
   "outputs": [],
   "source": [
    "plotContornos(xg, yg, T, levels=100, lines=False, lcolor='k', title='', frame = 'box', cmap='YlOrRd')\n",
    "plt.show()"
   ]
  },
  {
   "cell_type": "markdown",
   "metadata": {},
   "source": [
    "Visualizamos la distribución de temperaturas y el *error* usando varias gráficas:"
   ]
  },
  {
   "cell_type": "code",
   "execution_count": null,
   "metadata": {},
   "outputs": [],
   "source": [
    "fig = plt.figure(figsize=(12, 4), tight_layout=True)\n",
    "gs = gridspec.GridSpec(1, 3)\n",
    "\n",
    "ax1 = fig.add_subplot(gs[0, 0:2])\n",
    "plotContornos(xg, yg, T, levels=100, lines=True, title='', frame = 'grid', cmap='YlOrRd')\n",
    "\n",
    "ax2 = fig.add_subplot(gs[0, 2], yscale=\"log\")\n",
    "ax2.plot(error_lista)\n",
    "ax2.set_xlabel(\"Iteraciones\")\n",
    "ax2.set_ylabel(\"Error\")\n",
    "\n",
    "plt.show()"
   ]
  },
  {
   "cell_type": "markdown",
   "metadata": {},
   "source": [
    "<a name='6'></a>\n",
    "## Flujo de calor\n",
    "\n",
    "Fourier también estableció una ley para el flujo de calor que se escribe como:\n",
    "\n",
    "$$\n",
    "\\vec{q} = -\\kappa \\nabla T = -\\kappa \\left(\\dfrac{\\partial T}{\\partial x}, \\dfrac{\\partial T}{\\partial y}\\right)\n",
    "$$\n",
    "\n",
    "Si usamos diferencias centradas para aproximar esta ecuación obtenemos:\n",
    "\n",
    "$$\n",
    "\\vec{q}_{i,j} = (qx_{i,j}, qy_{i,j}) = -\\dfrac{\\kappa}{2h} (T_{i+1,j}-T_{i-1,j}, T_{i,j+1}-T_{i,j-1} )\n",
    "$$\n",
    "\n",
    "La implementación de esta fórmula es directa y se muestra en la siguiente celda de código:"
   ]
  },
  {
   "cell_type": "code",
   "execution_count": null,
   "metadata": {},
   "outputs": [],
   "source": [
    "qx = np.zeros((Nx+2, Ny+2))\n",
    "qy = qx.copy()\n",
    "\n",
    "s = 𝜅 / 2*h\n",
    "for i in range(1,Nx+1):\n",
    "    for j in range(1,Ny+1):\n",
    "        qx[i,j] = -s * (T[i+1,j] - T[i-1,j])\n",
    "        qy[i,j] = -s * (T[i,j+1] - T[i,j-1])"
   ]
  },
  {
   "cell_type": "markdown",
   "metadata": {},
   "source": [
    "Visualización del flujo:"
   ]
  },
  {
   "cell_type": "code",
   "execution_count": null,
   "metadata": {},
   "outputs": [],
   "source": [
    "plt.quiver(xg, yg, qx, qy, scale=5)\n",
    "plt.show()"
   ]
  },
  {
   "cell_type": "code",
   "execution_count": null,
   "metadata": {},
   "outputs": [],
   "source": [
    "print(x.shape, qx.shape)\n",
    "print(y.shape, qy.shape)"
   ]
  },
  {
   "cell_type": "code",
   "execution_count": null,
   "metadata": {},
   "outputs": [],
   "source": [
    "plt.streamplot(x, y, qx.T, qy.T)\n",
    "plt.show()"
   ]
  },
  {
   "cell_type": "markdown",
   "metadata": {},
   "source": [
    "Visualizamos usando varias gráficas:"
   ]
  },
  {
   "cell_type": "code",
   "execution_count": null,
   "metadata": {},
   "outputs": [],
   "source": [
    "fig = plt.figure(figsize=(12, 4), tight_layout=True)\n",
    "gs = gridspec.GridSpec(1, 2)\n",
    "\n",
    "ax1 = fig.add_subplot(gs[0, 0])\n",
    "plotContornos(xg, yg, T, levels=100, lines=True, title='', frame = 'grid', cmap='YlOrRd')\n",
    "\n",
    "ax2 = fig.add_subplot(gs[0, 1])\n",
    "\n",
    "mag = np.sqrt(qx**2 + qy**2)\n",
    "plotFlujo(xg, yg, qx, qy, kind='quiver', scale=5, color=mag, cmap='winter', title='', frame = 'box')\n",
    "#plotFlujo(xg, yg, qx, qy, kind='stream', color=mag, cmap='winter', title='', frame = 'box')\n",
    "  \n",
    "plt.show()"
   ]
  },
  {
   "cell_type": "markdown",
   "metadata": {},
   "source": [
    "<a name='7'></a>\n",
    "## Seguimiento de partículas\n",
    "\n",
    "\n",
    "\n",
    "<div>\n",
    " <img src=\"./Datos/Vectorial.png\"  hspace=\"5\" vspace=\"5\" style=\"float: right;\"/>\n",
    "Si soltamos una partícula en un flujo, dicha partícula seguirá la dirección del flujo y delineará  una trayectoria como se muestra en la siguiente figura. Para calcular los puntos de la trayectoria debemos resolver una ecuación como la siguiente:\n",
    "    \n",
    "$$\n",
    "\\dfrac{\\partial \\vec{x}}{ \\partial t} = \\vec{v} \\qquad \\text{con} \\qquad \\vec{x}(t=0) = \\vec{x}_o \n",
    "$$\n",
    "    \n",
    "donde $\\vec{x} = (x,y) $ representa la posición de la partícula y $\\vec{v} = (vx, vy)$ su velocidad.\n",
    "El método más sencillo para encontrar las posiciones de la partícula $\\vec{x}_i^{n+1}$, en el instante $n+1$, es conocido como de *Euler hacia adelante* y se escribe como:\n",
    "    \n",
    "$$\n",
    "\\vec{x}_i^{n+1} = \\vec{x}_i^{n} + h_t * \\vec{v}_{i}^n\n",
    "$$\n",
    "    \n",
    "donde $\\vec{x}_i^{n}$ representa la posición de la partícula $i$ en el instante $n$, $h_t$ es el paso de tiempo y $\\vec{v}_i^n$ es la velocidad de la partícula $i$ en el instante $n$.\n",
    " </div>\n"
   ]
  },
  {
   "cell_type": "markdown",
   "metadata": {},
   "source": [
    "Escribimos la fórmula de *Euler hacia adelante* en componentes como sigue:\n",
    "\n",
    "$$\n",
    "\\begin{eqnarray}\n",
    "x_i^{n+1} & = & x_i^{n} + h_t * vx_{i}^n \\\\\n",
    "y_i^{n+1} & = & y_i^{n} + h_t * vy_{i}^n \n",
    "\\end{eqnarray}\n",
    "$$"
   ]
  },
  {
   "cell_type": "markdown",
   "metadata": {},
   "source": [
    "<a name='7-1'></a>\n",
    "### Algoritmo 2.\n",
    "Para calcular la trayectoria de una partícula, dentro del flujo de calor, definimos el siguiente algoritmo.\n",
    "\n",
    "**1. Definimos un punto inicial de forma aleatoria:**"
   ]
  },
  {
   "cell_type": "code",
   "execution_count": null,
   "metadata": {},
   "outputs": [],
   "source": [
    "xo = np.random.rand(1)\n",
    "yo = np.random.rand(1)\n",
    "print(2*xo)\n",
    "print(yo)"
   ]
  },
  {
   "cell_type": "markdown",
   "metadata": {},
   "source": [
    "**2. Definimos los pasos de tiempo a calcular y los arreglos para almacenar las coordenadas de la trayectoria:**"
   ]
  },
  {
   "cell_type": "code",
   "execution_count": null,
   "metadata": {},
   "outputs": [],
   "source": [
    "Pasos = 30\n",
    "xp = np.zeros(Pasos)\n",
    "yp = np.zeros(Pasos)\n",
    "xp[0] = xo\n",
    "yp[0] = yo\n",
    "print(xp)\n",
    "print(yp)"
   ]
  },
  {
   "cell_type": "code",
   "execution_count": null,
   "metadata": {},
   "outputs": [],
   "source": [
    "ax = plotFlujo(xg, yg, qx, qy, kind='stream', title='', frame = 'grid')\n",
    "ax.plot(xp[0], yp[0], 'o-r', zorder=5)\n",
    "plt.show()"
   ]
  },
  {
   "cell_type": "markdown",
   "metadata": {},
   "source": [
    "**3. Interpolamos la velocidad en el punto donde está la partícula**:"
   ]
  },
  {
   "cell_type": "code",
   "execution_count": null,
   "metadata": {},
   "outputs": [],
   "source": [
    "# Interpolación de la velocidad\n",
    "def interpolaVel(qx, qy, xpi, ypi, h):\n",
    "    # localizamos la partícula dentro de la rejilla:\n",
    "    li = int(xpi/h)\n",
    "    lj = int(ypi/h)\n",
    "    return (qx[li,lj], qy[li,lj])"
   ]
  },
  {
   "cell_type": "markdown",
   "metadata": {},
   "source": [
    "**4. Implementamos el método de Euler hacia adelante**:"
   ]
  },
  {
   "cell_type": "code",
   "execution_count": null,
   "metadata": {},
   "outputs": [],
   "source": [
    "ht = 0.1\n",
    "for n in range(1,Pasos):\n",
    "    vx, vy = interpolaVel(qx, qy, xp[n-1], yp[n-1], h)\n",
    "    xp[n] = xp[n-1] + ht * vx\n",
    "    yp[n] = yp[n-1] + ht * vy"
   ]
  },
  {
   "cell_type": "code",
   "execution_count": null,
   "metadata": {},
   "outputs": [],
   "source": [
    "print(xp)\n",
    "print(yp)"
   ]
  },
  {
   "cell_type": "markdown",
   "metadata": {},
   "source": [
    "**5. Graficamos el resultado.**"
   ]
  },
  {
   "cell_type": "code",
   "execution_count": null,
   "metadata": {},
   "outputs": [],
   "source": [
    "fig = plt.figure(figsize=(12, 4), tight_layout=True)\n",
    "gs = gridspec.GridSpec(1, 2)\n",
    "\n",
    "ax1 = fig.add_subplot(gs[0, 0])\n",
    "plotContornos(xg, yg, T, levels=100, lines=True, title='', frame = 'grid', cmap='YlOrRd')\n",
    "ax1.plot(xp[0], yp[0], 'o-r', zorder=5)\n",
    "ax1.plot(xp, yp, 'r-')\n",
    "ax1.plot(xp[-1], yp[-1], 'o-g', zorder=5)\n",
    "\n",
    "ax2 = fig.add_subplot(gs[0, 1])\n",
    "mag = np.sqrt(qx**2 + qy**2)\n",
    "plotFlujo(xg, yg, qx, qy, kind='quiver', scale=5, color=mag, cmap='winter', title='', frame = 'box')\n",
    "ax2.plot(xp[0], yp[0], 'o-r', zorder=5)\n",
    "ax2.plot(xp, yp, 'r-')\n",
    "ax2.plot(xp[-1], yp[-1], 'o-g', zorder=5)\n",
    "\n",
    "plt.show()"
   ]
  },
  {
   "cell_type": "markdown",
   "metadata": {},
   "source": [
    "<a name='7-2'></a>\n",
    "### Algoritmo 3.\n",
    "Dibuja varias trayectorias que inicien en sitios diferentes."
   ]
  },
  {
   "cell_type": "markdown",
   "metadata": {},
   "source": [
    "**1. Definimos N posiciones aleatorias**"
   ]
  },
  {
   "cell_type": "code",
   "execution_count": null,
   "metadata": {},
   "outputs": [],
   "source": [
    "from time import time\n",
    "# Transformación lineal\n",
    "f = lambda x, a, b: (b-a)*x + a \n",
    "\n",
    "# Número de partículas\n",
    "N = 50\n",
    "\n",
    "# Generación de partículas de manera aleatoria\n",
    "np.random.seed(int(time()))\n",
    "coord = np.random.rand(N,2)\n",
    "coord[:,0] = f(coord[:,0], 0, Lx) # Transformación hacia el dominio de estudio\n",
    "coord[:,1] = f(coord[:,1], 0, Ly) # Transformación hacia el dominio de estudio"
   ]
  },
  {
   "cell_type": "code",
   "execution_count": null,
   "metadata": {},
   "outputs": [],
   "source": [
    "coord"
   ]
  },
  {
   "cell_type": "markdown",
   "metadata": {},
   "source": [
    "**2. Definimos una función para el método de Euler hacia adelante.**"
   ]
  },
  {
   "cell_type": "code",
   "execution_count": null,
   "metadata": {},
   "outputs": [],
   "source": [
    "def euler(x, v, h):\n",
    "    return x + h * v"
   ]
  },
  {
   "cell_type": "markdown",
   "metadata": {},
   "source": [
    "**3. Definimos los arreglos para almacenar las posiciones de las trayectorias**"
   ]
  },
  {
   "cell_type": "code",
   "execution_count": null,
   "metadata": {},
   "outputs": [],
   "source": [
    "# Parámetros para el modelo numérico\n",
    "Nt = 1000  # Número de pasos en el tiempo\n",
    "ht = 0.01 # Tamaño del paso de tiempo\n",
    "\n",
    "# Arreglos para almacenar las N partículas en Nt pasos de tiempo\n",
    "xn = np.zeros((N,Nt+1))\n",
    "yn = np.zeros((N,Nt+1))\n",
    "\n",
    "print('x : {}'.format(xn))\n",
    "print('y : {}'.format(yn))"
   ]
  },
  {
   "cell_type": "markdown",
   "metadata": {},
   "source": [
    "**4. Inicializamos la primera posición de las trayectorias.**"
   ]
  },
  {
   "cell_type": "code",
   "execution_count": null,
   "metadata": {},
   "outputs": [],
   "source": [
    "# Inicialización\n",
    "for i in range(0,N):\n",
    "    xn[i, 0] = coord[i,0]\n",
    "    yn[i, 0] = coord[i,1]\n",
    "\n",
    "print('x : {}'.format(xn))\n",
    "print('y : {}'.format(yn))"
   ]
  },
  {
   "cell_type": "markdown",
   "metadata": {},
   "source": [
    "**5. Para cada posición inicial calculamos una trayectoria.**"
   ]
  },
  {
   "cell_type": "code",
   "execution_count": null,
   "metadata": {},
   "outputs": [],
   "source": [
    "for n in range(1,Nt+1):  # Ciclo en el tiempo.\n",
    "    for i in range(0,N): # Ciclo para cada trayectoria.\n",
    "        xi = xn[i,n-1]\n",
    "        yi = yn[i,n-1]\n",
    "        vx, vy = interpolaVel(qx, qy, xi, yi, h)\n",
    "        xn[i,n] = euler(xi, vx, ht)\n",
    "        yn[i,n] = euler(yi, vy, ht)\n",
    "        \n",
    "print('x : {}'.format(xn))\n",
    "print('y : {}'.format(yn))"
   ]
  },
  {
   "cell_type": "markdown",
   "metadata": {},
   "source": [
    "**6. Graficamos el resultado final.**"
   ]
  },
  {
   "cell_type": "code",
   "execution_count": null,
   "metadata": {},
   "outputs": [],
   "source": [
    "def plotTrayectorias(ax, xn, yn):\n",
    "    for i in range(0,N):\n",
    "        ax.scatter(xn[i,0], yn[i,0], marker = '.', color='navy', s = 50, zorder=5)\n",
    "        ax.plot(xn[i,:], yn[i,:], lw=2.0)"
   ]
  },
  {
   "cell_type": "code",
   "execution_count": null,
   "metadata": {},
   "outputs": [],
   "source": [
    "fig = plt.figure(figsize=(12, 4))#, tight_layout=True)\n",
    "gs = gridspec.GridSpec(2, 2)\n",
    "\n",
    "ax1 = fig.add_subplot(gs[0, 0])\n",
    "plotGrid(x, y, 'grid')\n",
    "\n",
    "ax2 = fig.add_subplot(gs[0, 1])\n",
    "plotContornos(xg, yg, T, levels=100, lines=True, clabel=False, title='', frame = 'box', cmap='YlOrRd')\n",
    "\n",
    "ax3 = fig.add_subplot(gs[1, 0])\n",
    "plotFlujo(xg, yg, qx, qy, kind='quiver', scale=5, color=mag, cmap='winter', title='', frame = 'box')\n",
    "\n",
    "ax4 = fig.add_subplot(gs[1, 1])\n",
    "plotFlujo(xg, yg, qx, qy, kind='stream', title='', frame = 'box')\n",
    "plotTrayectorias(ax4, xn, yn)\n",
    "\n",
    "plt.savefig('trayectorias.pdf')\n",
    "plt.show()"
   ]
  },
  {
   "cell_type": "code",
   "execution_count": null,
   "metadata": {},
   "outputs": [],
   "source": []
  }
 ],
 "metadata": {
  "kernelspec": {
   "display_name": "Python 3 (ipykernel)",
   "language": "python",
   "name": "python3"
  },
  "language_info": {
   "codemirror_mode": {
    "name": "ipython",
    "version": 3
   },
   "file_extension": ".py",
   "mimetype": "text/x-python",
   "name": "python",
   "nbconvert_exporter": "python",
   "pygments_lexer": "ipython3",
   "version": "3.9.7"
  }
 },
 "nbformat": 4,
 "nbformat_minor": 4
}
