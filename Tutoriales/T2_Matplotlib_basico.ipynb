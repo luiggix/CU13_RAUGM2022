{
 "cells": [
  {
   "cell_type": "markdown",
   "metadata": {},
   "source": [
    "# Tutorial : Matplotlib - parte I\n",
    "**C03 : Visualización Científica y Narrativas**\n",
    "\n",
    "**RAUGM 2021: Geociencias e inclusión**\n",
    "\n",
    "This tutotial by Luis M. de la Cruz Salas is licensed under <a href=\"https://creativecommons.org/licenses/by-nc-nd/4.0?ref=chooser-v1\">Attribution-NonCommercial-NoDerivatives 4.0 International</a>"
   ]
  },
  {
   "cell_type": "markdown",
   "metadata": {},
   "source": [
    "- El propósito de un paquete de graficación es asistir en la visualización de datos tan fácil como sea posible.\n",
    "    - Con todos los controles necesarios, es decir, usando comandos de alto nivel la mayor parte del tiempo, pero permitiendo comandos de bajo nivel cuando sea necesario.          \n",
    "\n",
    "- Graficar requiere acciones en un rango de niveles:\n",
    "    - Desde lo más     general: contour this 2D array\n",
    "    - Hasta lo más específico: color this screen pixel red"
   ]
  },
  {
   "cell_type": "markdown",
   "metadata": {},
   "source": [
    "## Arquitectura\n",
    "\n",
    "**Matplotlib** es una biblioteca de Python multiplataforma para generar gráficos (plots) en dos dimensiones con las características: \n",
    "\n",
    "- Se puede usar en una variedad de ámbitos:\n",
    "    - Scripts de Python, Shells de IPython, Notebooks de Jupyter, Aplicaciones para Web e Interfaces Gráficas de Usuario (GUI). \n",
    "- Se puede usar para desarrollar aplicaciones profesionales.\n",
    "- Puede generar varios tipos de formatos de figuras y videos:\n",
    "    - png, jpg, svg, pdf, mp4, ...\n",
    "- Tiene un soporte limitado para realizar figuras en 3D.\n",
    "- Puede combinarse con otras bibliotecas y aplicaciones para extender su funcionalidad."
   ]
  },
  {
   "cell_type": "markdown",
   "metadata": {},
   "source": [
    "Su arquitectura consiste de tres capas:\n",
    "- **Scripting**: API para crear gráficas.\n",
    "- **Artist**: Hace el trabajo interno de creación de los elementos de la gráfica.\n",
    "- **Backend**: El lugar donde se despliega la gráfica."
   ]
  },
  {
   "cell_type": "markdown",
   "metadata": {},
   "source": [
    "### Backend\n",
    "- Es la capa inferior: \n",
    "    - Las gráficas se envían a un dispositivo de salida.\n",
    "- Puede ser cualquier interfaz que soporta Matplotlib:\n",
    "    - User interface backends (interactive backends): pygtk, wxpython, tkinter, qt4, macosx, … \n",
    "    - Hard-copy backends (non-interactive backends): .png, .svg, .pdf, .ps\n"
   ]
  },
  {
   "cell_type": "markdown",
   "metadata": {},
   "source": [
    "### Artist\n",
    "\n",
    "- Es la capa intermedia:\n",
    "    - Los Artist (artesanos?) dibujan los elementos de la gráfica.\n",
    "    - Cada elemento que se ve en la gráfica es un Artist.\n",
    "    - Provee de un API orientado a objetos muy flexible.\n",
    "    - Está orientado a programadores expertos para crear aplicaciones complejas."
   ]
  },
  {
   "cell_type": "markdown",
   "metadata": {},
   "source": [
    "### Scripting\n",
    "\n",
    "- Es la capa superior:\n",
    "    - Provee de una interfaz simple para crear gráficas.\n",
    "    - Está dirigida a usuarios sin mucha experiencia en la programación.\n",
    "    - Es lo que se conoce como el API de pyplot."
   ]
  },
  {
   "cell_type": "markdown",
   "metadata": {},
   "source": [
    "### Anatomía de una figura\n",
    "\n",
    "<img src=\"https://matplotlib.org/stable/_images/sphx_glr_anatomy_001.png\">"
   ]
  },
  {
   "cell_type": "code",
   "execution_count": 2,
   "metadata": {},
   "outputs": [],
   "source": [
    "import numpy as np\n",
    "import matplotlib.pyplot as plt\n",
    "#plt.style.use('seaborn-whitegrid')"
   ]
  },
  {
   "cell_type": "markdown",
   "metadata": {},
   "source": [
    "Estilos de matplotlib <a href=\"https://matplotlib.org/3.1.0/gallery/style_sheets/style_sheets_reference.html\"> aquí</a>."
   ]
  },
  {
   "cell_type": "markdown",
   "metadata": {},
   "source": [
    "## `Figure` y `Axes`"
   ]
  },
  {
   "cell_type": "code",
   "execution_count": null,
   "metadata": {},
   "outputs": [],
   "source": [
    "fig = plt.figure()\n",
    "ax = plt.axes()"
   ]
  },
  {
   "cell_type": "markdown",
   "metadata": {},
   "source": [
    "## `plot()`"
   ]
  },
  {
   "cell_type": "code",
   "execution_count": null,
   "metadata": {},
   "outputs": [],
   "source": [
    "fig = plt.figure()\n",
    "x = np.linspace(0, 10, 50)\n",
    "y = np.cos(x)\n",
    "#print(x)\n",
    "#print(y)\n",
    "plt.plot(x, y)"
   ]
  },
  {
   "cell_type": "markdown",
   "metadata": {},
   "source": [
    "### Colores"
   ]
  },
  {
   "cell_type": "code",
   "execution_count": null,
   "metadata": {},
   "outputs": [],
   "source": [
    "plt.plot(x, np.cos(x - 0), color='blue')        # Por nombre\n",
    "plt.plot(x, np.cos(x - 1), color='g')           # Código corto(rgbcmyk)\n",
    "plt.plot(x, np.cos(x - 2), color='0.75')        # Escala de grises entre 0 y 1\n",
    "plt.plot(x, np.cos(x - 3), color='#FFDD44')     # Hex code (RRGGBB de 00 a FF)\n",
    "plt.plot(x, np.cos(x - 4), color=(1.0,0.2,0.3)) # tupla RGB, valores 0 to 1\n",
    "plt.plot(x, np.cos(x - 5), color='chartreuse')  # colores HTML"
   ]
  },
  {
   "cell_type": "code",
   "execution_count": null,
   "metadata": {},
   "outputs": [],
   "source": [
    "plt.plot(x, np.cos(x - 0), color='C0')        \n",
    "plt.plot(x, np.cos(x - 1), color='C1')           \n",
    "plt.plot(x, np.cos(x - 2), color='C2')        \n",
    "plt.plot(x, np.cos(x - 3), color='C3')     \n",
    "plt.plot(x, np.cos(x - 4), color='C4') \n",
    "plt.plot(x, np.cos(x - 5), color='C5')"
   ]
  },
  {
   "cell_type": "markdown",
   "metadata": {},
   "source": [
    "### Tipos de líneas"
   ]
  },
  {
   "cell_type": "code",
   "execution_count": null,
   "metadata": {},
   "outputs": [],
   "source": [
    "plt.plot(x, x + 0, linestyle='solid')\n",
    "plt.plot(x, x + 1, linestyle='dashed')\n",
    "plt.plot(x, x + 2, linestyle='dashdot')\n",
    "plt.plot(x, x + 3, linestyle='dotted')\n",
    "\n",
    "# Se pueden usar códigos\n",
    "plt.plot(x, x + 4, linestyle='-')  \n",
    "plt.plot(x, x + 5, linestyle='--') \n",
    "plt.plot(x, x + 6, linestyle='-.') \n",
    "plt.plot(x, x + 7, linestyle=':')\n",
    "\n",
    "# Se puede usar 'ls' en vez de linestyle\n",
    "plt.plot(x, x + 8, ls='-')  # solid\n",
    "plt.plot(x, x + 9, ls='--') # dashed\n",
    "plt.plot(x, x + 10, ls='-.') # dashdot\n",
    "plt.plot(x, x + 11, ls=':');  # dotted"
   ]
  },
  {
   "cell_type": "markdown",
   "metadata": {},
   "source": [
    "### `plot()` vía `Axes`"
   ]
  },
  {
   "cell_type": "code",
   "execution_count": null,
   "metadata": {},
   "outputs": [],
   "source": [
    "ax = plt.axes()\n",
    "ax.plot(x, np.sin(x), 'o-', label='sin(x)')\n",
    "ax.set(xlim=(0, 10), ylim=(-2, 2),\n",
    "       xlabel='x', ylabel='sin(x)',\n",
    "       title='A Simple Plot')\n",
    "ax.legend()"
   ]
  },
  {
   "cell_type": "markdown",
   "metadata": {},
   "source": [
    "### Marcadores"
   ]
  },
  {
   "cell_type": "code",
   "execution_count": null,
   "metadata": {},
   "outputs": [],
   "source": [
    "for marker in ['o', '.', ',', 'x', '+', 'v', '^', '<', '>', 's', 'd']:\n",
    "    r = np.random.rand(5,5)\n",
    "    plt.plot(r[0], r[1], marker, label=\" '{0}'\".format(marker))\n",
    "    \n",
    "plt.legend()\n",
    "plt.xlim(0,1.5)"
   ]
  },
  {
   "cell_type": "code",
   "execution_count": null,
   "metadata": {},
   "outputs": [],
   "source": [
    "plt.plot(x, np.sin(x), '-p', color='k',\n",
    "         markersize=12, linewidth=2,\n",
    "         markerfacecolor='white',\n",
    "         markeredgecolor='gray',\n",
    "         markeredgewidth=0.75)\n",
    "plt.ylim(-1.2, 1.2);"
   ]
  },
  {
   "cell_type": "markdown",
   "metadata": {},
   "source": [
    "## `scatter()`"
   ]
  },
  {
   "cell_type": "code",
   "execution_count": null,
   "metadata": {},
   "outputs": [],
   "source": [
    "plt.scatter(x, y)"
   ]
  },
  {
   "cell_type": "code",
   "execution_count": null,
   "metadata": {},
   "outputs": [],
   "source": [
    "fig = plt.figure(figsize=(10,5))\n",
    "xr = np.random.rand(30)\n",
    "yr = np.random.rand(30)\n",
    "c = np.random.rand(30)\n",
    "s = 1000 * np.random.rand(30)\n",
    "plt.scatter(xr, yr, c=c, s = s, ec='k', alpha=0.5, cmap='coolwarm')\n",
    "plt.colorbar(label='etiquea')\n",
    "plt.xlim(-0.1,1.1)\n",
    "plt.ylim(-0.1,1.1)\n",
    "#plt.savefig('imagen1.svg')"
   ]
  },
  {
   "cell_type": "code",
   "execution_count": 3,
   "metadata": {},
   "outputs": [
    {
     "data": {
      "text/plain": [
       "<matplotlib.colorbar.Colorbar at 0x20abbb5e610>"
      ]
     },
     "execution_count": 3,
     "metadata": {},
     "output_type": "execute_result"
    },
    {
     "data": {
      "image/png": "[encoded data removed]",
      "text/plain": [
       "<Figure size 432x288 with 2 Axes>"
      ]
     },
     "metadata": {
      "needs_background": "light"
     },
     "output_type": "display_data"
    }
   ],
   "source": [
    "i_data = np.loadtxt('./Datos/iris_data.txt')\n",
    "\n",
    "plt.scatter(i_data[:,0], i_data[:,1], alpha=0.75,\n",
    "            s=100*i_data[:,2], c=i_data[:,3], ec='k', cmap='viridis')\n",
    "#plt.xlabel(iris.feature_names[0])\n",
    "#plt.ylabel(iris.feature_names[1])\n",
    "plt.colorbar()"
   ]
  },
  {
   "cell_type": "markdown",
   "metadata": {},
   "source": [
    "## `contour()` y `contourf()`"
   ]
  },
  {
   "cell_type": "code",
   "execution_count": null,
   "metadata": {},
   "outputs": [],
   "source": [
    "f = lambda x, y: np.cos(x) ** 10 + np.sin(y * x / 2) * np.sin(x)"
   ]
  },
  {
   "cell_type": "code",
   "execution_count": null,
   "metadata": {},
   "outputs": [],
   "source": [
    "x = np.linspace(0, 7, 100)\n",
    "y = np.linspace(0, 7, 100)\n",
    "xg, yg = np.meshgrid(x, y)\n",
    "zg = f(xg, yg)"
   ]
  },
  {
   "cell_type": "code",
   "execution_count": null,
   "metadata": {},
   "outputs": [],
   "source": [
    "plt.contour(xg, yg, zg)"
   ]
  },
  {
   "cell_type": "code",
   "execution_count": null,
   "metadata": {},
   "outputs": [],
   "source": [
    "plt.contour(xg, yg, zg, cmap='coolwarm', linewidths=1.0, linestyles='-', levels=20)"
   ]
  },
  {
   "cell_type": "code",
   "execution_count": null,
   "metadata": {},
   "outputs": [],
   "source": [
    "plt.contourf(xg, yg, zg, cmap='coolwarm', levels=30)\n",
    "plt.colorbar()"
   ]
  },
  {
   "cell_type": "code",
   "execution_count": null,
   "metadata": {},
   "outputs": [],
   "source": [
    "plt.contourf(xg, yg, zg, cmap='coolwarm', levels=30)\n",
    "plt.colorbar()\n",
    "plt.contour(xg, yg, zg, cmap='gray', linewidths=1.0, linestyles='-', levels=5)"
   ]
  },
  {
   "cell_type": "code",
   "execution_count": null,
   "metadata": {},
   "outputs": [],
   "source": [
    "plt.contourf(xg, yg, zg, cmap='coolwarm', levels=30)\n",
    "plt.colorbar()\n",
    "contornos = plt.contour(xg, yg, zg, cmap='gray', linewidths=1.0, linestyles='-', levels=5)\n",
    "plt.clabel(contornos, inline=True, fontsize=8)\n",
    "plt.savefig('./Resultados/contornos1.pdf')"
   ]
  },
  {
   "cell_type": "code",
   "execution_count": null,
   "metadata": {},
   "outputs": [],
   "source": [
    "plt.imshow(zg, extent=[0, 7, 0, 7], origin='lower', cmap='coolwarm')\n",
    "plt.colorbar()\n",
    "contornos = plt.contour(xg, yg, zg, cmap='gray', linewidths=1.0, linestyles='-', levels=5)\n",
    "plt.clabel(contornos, inline=True, fontsize=8)\n",
    "plt.savefig('./Resultados/contornos2.pdf')"
   ]
  },
  {
   "cell_type": "markdown",
   "metadata": {},
   "source": [
    "## Histogramas `hist()`"
   ]
  },
  {
   "cell_type": "code",
   "execution_count": null,
   "metadata": {},
   "outputs": [],
   "source": [
    "datos = np.random.randn(1000)\n",
    "plt.hist(datos)"
   ]
  },
  {
   "cell_type": "code",
   "execution_count": null,
   "metadata": {},
   "outputs": [],
   "source": [
    "y, x, a = plt.hist(datos)\n",
    "plt.plot(x[:-1], y, 'ko-', lw=3.0)\n",
    "plt.plot(x[1:] , y, 'ko-', lw=3.0)\n",
    "xm = (x[:-1] + x[1:]) * 0.5\n",
    "plt.plot(xm , y, 'k-', lw=1.0)\n",
    "print(x)\n",
    "print(y)\n",
    "print(xm)"
   ]
  },
  {
   "cell_type": "code",
   "execution_count": null,
   "metadata": {},
   "outputs": [],
   "source": [
    "y, x, a = plt.hist(datos, bins=30, alpha=0.5, histtype='stepfilled', \n",
    "         color='palegreen', edgecolor='k')\n",
    "plt.plot((x[:-1] + x[1:]) * 0.5 , y, 'b-', lw=1.5)"
   ]
  },
  {
   "cell_type": "code",
   "execution_count": null,
   "metadata": {},
   "outputs": [],
   "source": [
    "h1 = np.random.randn(500)\n",
    "h2 = np.random.normal(-3, 2, 500)\n",
    "h3 = np.random.normal(3, 1, 500)\n",
    "argumentos = dict(bins=30, alpha=0.65, histtype='stepfilled', edgecolor='k')\n",
    "        \n",
    "plt.hist(h1, **argumentos, label='h1')\n",
    "plt.hist(h2, **argumentos, label='h2')\n",
    "plt.hist(h3, **argumentos, label='h3')\n",
    "plt.legend()"
   ]
  },
  {
   "cell_type": "markdown",
   "metadata": {},
   "source": [
    "## Histogramas bidimensionales `hist2d()`"
   ]
  },
  {
   "cell_type": "code",
   "execution_count": null,
   "metadata": {},
   "outputs": [],
   "source": [
    "mean = [0, 0]\n",
    "cov = [[2, 1], [1, 3]]\n",
    "np.random.multivariate_normal(mean, cov, 10000)"
   ]
  },
  {
   "cell_type": "code",
   "execution_count": null,
   "metadata": {},
   "outputs": [],
   "source": [
    "mean = [0, 0]\n",
    "cov = [[2, 1], [1, 3]]\n",
    "x, y = np.random.multivariate_normal(mean, cov, 10000).T\n",
    "\n",
    "plt.hist2d(x, y, bins=25, cmap='Purples')\n",
    "plt.colorbar(label='Número de ...')"
   ]
  },
  {
   "cell_type": "code",
   "execution_count": null,
   "metadata": {},
   "outputs": [],
   "source": [
    "plt.hexbin(x, y, gridsize=25, cmap='Purples')\n",
    "plt.colorbar(label='Número de ...')"
   ]
  },
  {
   "cell_type": "code",
   "execution_count": 4,
   "metadata": {},
   "outputs": [],
   "source": [
    "puntos = np.loadtxt('./Datos/Projection.txt')\n",
    "target = np.loadtxt('./Datos/Target.txt')"
   ]
  },
  {
   "cell_type": "code",
   "execution_count": 5,
   "metadata": {},
   "outputs": [
    {
     "data": {
      "image/png": "[encoded data removed]",
      "text/plain": [
       "<Figure size 432x288 with 2 Axes>"
      ]
     },
     "metadata": {
      "needs_background": "light"
     },
     "output_type": "display_data"
    }
   ],
   "source": [
    "plt.scatter(puntos[:, 0], puntos[:, 1], lw=0.1,\n",
    "            c=target, ec='k', alpha=0.5, cmap='viridis')\n",
    "plt.colorbar(ticks=range(6), label='digit value')\n",
    "plt.clim(-0.5, 5.5)"
   ]
  },
  {
   "cell_type": "code",
   "execution_count": null,
   "metadata": {},
   "outputs": [],
   "source": [
    "mean = [0, 0]\n",
    "cov = [[1, 1], [1, 2]]\n",
    "x, y = np.random.multivariate_normal(mean, cov, 3000).T\n",
    "\n",
    "fig = plt.figure(figsize=(6, 6))\n",
    "grid = plt.GridSpec(4, 4, hspace=0.25, wspace=0.25)\n",
    "ax_m = fig.add_subplot(grid[:-1, 1:])\n",
    "ax_hy = fig.add_subplot(grid[:-1, 0], xticklabels=[], sharey=ax_m)\n",
    "ax_hx = fig.add_subplot(grid[-1, 1:], yticklabels=[], sharex=ax_m)\n",
    "\n",
    "ax_m.plot(x, y, 'ok', markersize=3, alpha=0.2, color='Purple')\n",
    "\n",
    "ax_hx.hist(x, 40, orientation='vertical', color='Purple')\n",
    "ax_hx.invert_yaxis()\n",
    "\n",
    "d = ax_hy.hist(y, 40, orientation='horizontal', color='Purple')\n",
    "ax_hy.invert_xaxis()"
   ]
  },
  {
   "cell_type": "markdown",
   "metadata": {},
   "source": [
    "## Seaborn"
   ]
  },
  {
   "cell_type": "code",
   "execution_count": null,
   "metadata": {},
   "outputs": [],
   "source": [
    "import seaborn as sns"
   ]
  },
  {
   "cell_type": "code",
   "execution_count": null,
   "metadata": {},
   "outputs": [],
   "source": [
    "data1 = np.random.randn(1000)\n",
    "data2 = np.random.randn(1000)"
   ]
  },
  {
   "cell_type": "code",
   "execution_count": null,
   "metadata": {},
   "outputs": [],
   "source": [
    "sns.jointplot(x = data1, y = data2)"
   ]
  },
  {
   "cell_type": "code",
   "execution_count": null,
   "metadata": {},
   "outputs": [],
   "source": [
    "sns.jointplot(x = data1, y = data2, kind='hex')"
   ]
  },
  {
   "cell_type": "markdown",
   "metadata": {},
   "source": [
    "## `text()`"
   ]
  },
  {
   "cell_type": "code",
   "execution_count": null,
   "metadata": {},
   "outputs": [],
   "source": [
    "fig, ax = plt.subplots(facecolor='lightgray')\n",
    "ax.axis([0, 10, 0, 10])\n",
    "\n",
    "x_d, y_d = 1, 5\n",
    "x_a, y_a = 0.5, 0.1\n",
    "x_f, y_f = 0.2, 0.2\n",
    "\n",
    "ax.text(x_d, y_d, f\". Data: ({x_d}, {y_d})\", transform=ax.transData) # Default\n",
    "ax.text(x_a, y_a, f\". Axes: ({x_a}, {y_a})\", transform=ax.transAxes)\n",
    "ax.text(x_f, y_f, f\". Figure: ({x_f}, {y_f})\", transform=fig.transFigure)"
   ]
  },
  {
   "cell_type": "markdown",
   "metadata": {},
   "source": [
    "## `anotate()`"
   ]
  },
  {
   "cell_type": "code",
   "execution_count": null,
   "metadata": {},
   "outputs": [],
   "source": [
    "fig, ax = plt.subplots()\n",
    "\n",
    "x = np.linspace(0, 20, 1000)\n",
    "ax.plot(x, np.cos(x))\n",
    "ax.axis('equal')\n",
    "\n",
    "ax.annotate('Máximo local $\\Delta$', xy=(6.28, 1), xytext=(10, 4),\n",
    "            arrowprops=dict(facecolor='black', shrink=0.05))\n",
    "\n",
    "ax.annotate('Mínimo local', xy=(5 * np.pi, -1), xytext=(2, -6),\n",
    "            arrowprops=dict(arrowstyle=\"->\",\n",
    "                            connectionstyle=\"angle3,angleA=0,angleB=-90\"))"
   ]
  },
  {
   "cell_type": "markdown",
   "metadata": {},
   "source": [
    "Véase: https://matplotlib.org/3.1.0/gallery/userdemo/connectionstyle_demo.html"
   ]
  },
  {
   "cell_type": "markdown",
   "metadata": {},
   "source": [
    "## Estilos"
   ]
  },
  {
   "cell_type": "code",
   "execution_count": null,
   "metadata": {},
   "outputs": [],
   "source": [
    "plt.style.available"
   ]
  },
  {
   "cell_type": "code",
   "execution_count": null,
   "metadata": {},
   "outputs": [],
   "source": [
    "with plt.style.context('Solarize_Light2'):\n",
    "    plt.scatter(puntos[:, 0], puntos[:, 1], lw=0.1,\n",
    "            c=target, ec='k', alpha=0.5, cmap='viridis')\n",
    "    plt.colorbar(ticks=range(6), label='digit value')\n",
    "    plt.clim(-0.5, 5.5)"
   ]
  },
  {
   "cell_type": "code",
   "execution_count": null,
   "metadata": {},
   "outputs": [],
   "source": [
    "plt.scatter(puntos[:, 0], puntos[:, 1], lw=0.1,\n",
    "            c=target, ec='k', alpha=0.5, cmap='viridis')\n",
    "plt.colorbar(ticks=range(6), label='digit value')\n",
    "plt.clim(-0.5, 5.5)"
   ]
  },
  {
   "cell_type": "markdown",
   "metadata": {},
   "source": [
    "## Gráficos 3D"
   ]
  },
  {
   "cell_type": "code",
   "execution_count": null,
   "metadata": {},
   "outputs": [],
   "source": [
    "from mpl_toolkits import mplot3d"
   ]
  },
  {
   "cell_type": "code",
   "execution_count": null,
   "metadata": {},
   "outputs": [],
   "source": [
    "fig = plt.figure()\n",
    "ax = plt.axes(projection='3d')"
   ]
  },
  {
   "cell_type": "markdown",
   "metadata": {},
   "source": [
    "#### Líneas y puntos en 3D"
   ]
  },
  {
   "cell_type": "code",
   "execution_count": null,
   "metadata": {},
   "outputs": [],
   "source": [
    "ax = plt.axes(projection='3d')\n",
    "\n",
    "# Línea en 3D\n",
    "zline = np.linspace(0, 15, 1000)\n",
    "xline = np.sin(zline)\n",
    "yline = np.cos(zline)\n",
    "ax.plot3D(xline, yline, zline, 'k')\n",
    "\n",
    "# Puntos en 3D\n",
    "zdata = 15 * np.random.random(100)\n",
    "xdata = np.sin(zdata) + 0.1 * np.random.randn(100)\n",
    "ydata = np.cos(zdata) + 0.1 * np.random.randn(100)\n",
    "ax.scatter3D(xdata, ydata, zdata, c=zdata, cmap='winter');"
   ]
  },
  {
   "cell_type": "markdown",
   "metadata": {},
   "source": [
    "#### Contornos en 3D"
   ]
  },
  {
   "cell_type": "code",
   "execution_count": null,
   "metadata": {},
   "outputs": [],
   "source": [
    "def f(x, y):\n",
    "    return np.sin(np.sqrt(x ** 2 + y ** 2))"
   ]
  },
  {
   "cell_type": "code",
   "execution_count": null,
   "metadata": {},
   "outputs": [],
   "source": [
    "x = np.linspace(-7, 7, 30)\n",
    "y = np.linspace(-7, 7, 30)\n",
    "\n",
    "X, Y = np.meshgrid(x, y)\n",
    "Z = f(X, Y)\n",
    "\n",
    "fig = plt.figure()\n",
    "ax = plt.axes(projection='3d')\n",
    "ax.contour3D(X, Y, Z, 30, cmap='Blues')\n",
    "ax.set_xlabel('x')\n",
    "ax.set_ylabel('y')\n",
    "ax.set_zlabel('z');"
   ]
  },
  {
   "cell_type": "code",
   "execution_count": null,
   "metadata": {},
   "outputs": [],
   "source": [
    "ax.view_init(60, 35)\n",
    "fig"
   ]
  },
  {
   "cell_type": "markdown",
   "metadata": {},
   "source": [
    "#### `wireframe()`"
   ]
  },
  {
   "cell_type": "code",
   "execution_count": null,
   "metadata": {},
   "outputs": [],
   "source": [
    "fig = plt.figure()\n",
    "ax = plt.axes(projection='3d')\n",
    "ax.plot_wireframe(X, Y, Z, cmap='Blues', linewidth=0.75)\n",
    "ax.set_title('malla')\n",
    "ax.view_init(60, 35)"
   ]
  },
  {
   "cell_type": "markdown",
   "metadata": {},
   "source": [
    "#### `plot_surface()`"
   ]
  },
  {
   "cell_type": "code",
   "execution_count": null,
   "metadata": {},
   "outputs": [],
   "source": [
    "# Interactividad en 3D\n",
    "%matplotlib qt \n",
    "#%matplotlib inline"
   ]
  },
  {
   "cell_type": "code",
   "execution_count": null,
   "metadata": {},
   "outputs": [],
   "source": [
    "ax = plt.axes(projection='3d')\n",
    "ax.plot_surface(X, Y, Z, rstride=1, cstride=1, cmap='Blues', \n",
    "                edgecolor='gray', linewidth=0.5)\n",
    "ax.set_title('superficie')"
   ]
  },
  {
   "cell_type": "code",
   "execution_count": null,
   "metadata": {},
   "outputs": [],
   "source": [
    "r = np.linspace(0, 6, 20)\n",
    "theta = np.linspace(-0.9 * np.pi, 0.8 * np.pi, 40)\n",
    "r, theta = np.meshgrid(r, theta)\n",
    "\n",
    "X = r * np.sin(theta)\n",
    "Y = r * np.cos(theta)\n",
    "Z = f(X, Y)\n",
    "\n",
    "ax = plt.axes(projection='3d')\n",
    "ax.plot_surface(X, Y, Z, rstride=1, cstride=1,\n",
    "                cmap='viridis', edgecolor='gray', linewidth=0.5)\n",
    "ax.view_init(40, -80)"
   ]
  },
  {
   "cell_type": "code",
   "execution_count": null,
   "metadata": {},
   "outputs": [],
   "source": [
    "theta = 2 * np.pi * np.random.rand(1000)\n",
    "r = 6 * np.random.rand(1000)\n",
    "x = r * np.sin(theta)\n",
    "y = r * np.cos(theta)\n",
    "z = f(x, y)\n",
    "\n",
    "ax = plt.axes(projection='3d')\n",
    "ax.scatter(x, y, z, c=z, cmap='viridis', linewidth=0.5)"
   ]
  },
  {
   "cell_type": "markdown",
   "metadata": {},
   "source": [
    "#### `plot_trisurf()`"
   ]
  },
  {
   "cell_type": "code",
   "execution_count": null,
   "metadata": {},
   "outputs": [],
   "source": [
    "ax = plt.axes(projection='3d')\n",
    "ax.plot_trisurf(x, y, z,\n",
    "                cmap='viridis', edgecolor='none');"
   ]
  },
  {
   "cell_type": "code",
   "execution_count": null,
   "metadata": {},
   "outputs": [],
   "source": []
  }
 ],
 "metadata": {
  "kernelspec": {
   "display_name": "Python 3 (ipykernel)",
   "language": "python",
   "name": "python3"
  },
  "language_info": {
   "codemirror_mode": {
    "name": "ipython",
    "version": 3
   },
   "file_extension": ".py",
   "mimetype": "text/x-python",
   "name": "python",
   "nbconvert_exporter": "python",
   "pygments_lexer": "ipython3",
   "version": "3.9.7"
  }
 },
 "nbformat": 4,
 "nbformat_minor": 4
}
