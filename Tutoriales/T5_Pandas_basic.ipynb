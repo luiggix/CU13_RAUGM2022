{
 "cells": [
  {
   "cell_type": "markdown",
   "id": "28404cd0-2b5d-411b-ac4e-19614b8cf4fd",
   "metadata": {},
   "source": [
    "# Tutorial : Pandas - parte I\n",
    "\n",
    "**C03 : Visualización Científica y Narrativas**\n",
    "\n",
    "**RAUGM 2021: Geociencias e inclusión**\n",
    "\n",
    "This tutotial by Luis M. de la Cruz Salas is licensed under <a href=\"https://creativecommons.org/licenses/by-nc-nd/4.0?ref=chooser-v1\">Attribution-NonCommercial-NoDerivatives 4.0 International</a>"
   ]
  },
  {
   "cell_type": "code",
   "execution_count": null,
   "id": "58f2e16a",
   "metadata": {},
   "outputs": [],
   "source": [
    "from seaborn import load_dataset"
   ]
  },
  {
   "cell_type": "code",
   "execution_count": null,
   "id": "47f667e1",
   "metadata": {},
   "outputs": [],
   "source": [
    "df = load_dataset(\"tips\")\n",
    "df"
   ]
  },
  {
   "cell_type": "markdown",
   "id": "8a273772",
   "metadata": {},
   "source": [
    "## Función `iloc`"
   ]
  },
  {
   "cell_type": "code",
   "execution_count": null,
   "id": "06acc78b",
   "metadata": {},
   "outputs": [],
   "source": [
    "df.iloc[0] # renglón cero"
   ]
  },
  {
   "cell_type": "code",
   "execution_count": null,
   "id": "79dc76d1",
   "metadata": {},
   "outputs": [],
   "source": [
    "df.iloc[0,0] # Primer elemento del primer renglón"
   ]
  },
  {
   "cell_type": "code",
   "execution_count": null,
   "id": "552cae81",
   "metadata": {},
   "outputs": [],
   "source": [
    "df.iloc[:,0] # Todos los elementos de la primera columna"
   ]
  },
  {
   "cell_type": "code",
   "execution_count": null,
   "id": "3c1d12dc",
   "metadata": {},
   "outputs": [],
   "source": [
    "df.iloc[:,0:3] # Las primeras 3 columnas"
   ]
  },
  {
   "cell_type": "code",
   "execution_count": null,
   "id": "3427629f",
   "metadata": {},
   "outputs": [],
   "source": [
    "df.iloc[[0,2,3]] # Se eligen algunos renglones específicos"
   ]
  },
  {
   "cell_type": "code",
   "execution_count": null,
   "id": "c3534357",
   "metadata": {},
   "outputs": [],
   "source": [
    "df.iloc[:,[1,3]] # Se eligen algunas columnas específicas"
   ]
  },
  {
   "cell_type": "markdown",
   "id": "ab12c1e9",
   "metadata": {},
   "source": [
    "## Función `loc`"
   ]
  },
  {
   "cell_type": "code",
   "execution_count": null,
   "id": "d4a8a3f4",
   "metadata": {},
   "outputs": [],
   "source": [
    "df.loc[:,'smoker'] # Se puede usar el nombre de la columna"
   ]
  },
  {
   "cell_type": "code",
   "execution_count": null,
   "id": "127ed025",
   "metadata": {},
   "outputs": [],
   "source": [
    "df.loc[:,['sex', 'day']] # Se puede usar el nombre de la columna"
   ]
  },
  {
   "cell_type": "code",
   "execution_count": null,
   "id": "248e3627",
   "metadata": {},
   "outputs": [],
   "source": [
    "is_male = df.loc[:,'sex'] == 'Male'\n",
    "is_male"
   ]
  },
  {
   "cell_type": "code",
   "execution_count": null,
   "id": "aa6e8aec",
   "metadata": {},
   "outputs": [],
   "source": [
    "df_male = df.loc[is_male]"
   ]
  },
  {
   "cell_type": "code",
   "execution_count": null,
   "id": "eee2b674",
   "metadata": {},
   "outputs": [],
   "source": [
    "df_male"
   ]
  },
  {
   "cell_type": "code",
   "execution_count": null,
   "id": "e109dfa6",
   "metadata": {},
   "outputs": [],
   "source": [
    "total_up_10 = df.loc[:,'total_bill'] > 9\n",
    "df[total_up_10]"
   ]
  },
  {
   "cell_type": "markdown",
   "id": "adeb58a7",
   "metadata": {},
   "source": [
    "## Operaciones de agrupación "
   ]
  },
  {
   "cell_type": "code",
   "execution_count": null,
   "id": "d7675c55",
   "metadata": {},
   "outputs": [],
   "source": [
    "import pandas as pd\n",
    "import numpy as np"
   ]
  },
  {
   "cell_type": "code",
   "execution_count": null,
   "id": "c21ce037",
   "metadata": {},
   "outputs": [],
   "source": [
    "df = pd.DataFrame({'key1' : ['a', 'a', 'b', 'b', 'a'], \n",
    "                   'key2' : ['one', 'two', 'one', 'two', 'one'],\n",
    "                   'data1': [1.0, 2.0, 3.0, 4.0, 5.0],\n",
    "                   'data2': [6.0, 7.0, 8.0, 9.0, 10.0]}\n",
    "                 )\n",
    "\n",
    "df"
   ]
  },
  {
   "cell_type": "code",
   "execution_count": null,
   "id": "b4437fb7",
   "metadata": {},
   "outputs": [],
   "source": [
    "grupo = df['data1'].groupby(df['key1'])\n",
    "print(type(grupo))\n",
    "pd.DataFrame(grupo)"
   ]
  },
  {
   "cell_type": "markdown",
   "id": "0e544c51-f9df-4a9d-9607-2c1a21bf2bbb",
   "metadata": {},
   "source": [
    "### Función `describe`"
   ]
  },
  {
   "cell_type": "code",
   "execution_count": null,
   "id": "38e67283-8a15-4578-81a0-763ef99b09f3",
   "metadata": {},
   "outputs": [],
   "source": [
    "grupo.describe()"
   ]
  },
  {
   "cell_type": "markdown",
   "id": "a6c5e3fa-8b48-41a5-9a9c-1feeab1cd92c",
   "metadata": {},
   "source": [
    "### Otras funciones"
   ]
  },
  {
   "cell_type": "code",
   "execution_count": null,
   "id": "a568b9c5",
   "metadata": {},
   "outputs": [],
   "source": [
    "grupo.mean()"
   ]
  },
  {
   "cell_type": "code",
   "execution_count": null,
   "id": "7caa4ea8",
   "metadata": {},
   "outputs": [],
   "source": [
    "paises = np.array(['México', 'México', 'USA', 'USA', 'México'])\n",
    "años = np.array([2005, 2005, 2006, 2005, 2006])"
   ]
  },
  {
   "cell_type": "code",
   "execution_count": null,
   "id": "2a80f8c3",
   "metadata": {},
   "outputs": [],
   "source": [
    "grupo2 = df['data1'].groupby([paises])\n",
    "grupo2.describe()"
   ]
  },
  {
   "cell_type": "code",
   "execution_count": null,
   "id": "bcabd673",
   "metadata": {},
   "outputs": [],
   "source": [
    "grupo3 = df['data1'].groupby([años])\n",
    "grupo3.describe()"
   ]
  },
  {
   "cell_type": "code",
   "execution_count": null,
   "id": "cc5e8895",
   "metadata": {},
   "outputs": [],
   "source": [
    "grupo4 = df['data1'].groupby([paises, años])\n",
    "grupo4.describe()"
   ]
  },
  {
   "cell_type": "code",
   "execution_count": null,
   "id": "85ae9c20",
   "metadata": {},
   "outputs": [],
   "source": [
    "grupo4.mean()"
   ]
  },
  {
   "cell_type": "code",
   "execution_count": null,
   "id": "cdf278cb",
   "metadata": {},
   "outputs": [],
   "source": [
    "df"
   ]
  },
  {
   "cell_type": "code",
   "execution_count": null,
   "id": "0846d2eb",
   "metadata": {},
   "outputs": [],
   "source": [
    "df.groupby('key1').mean()"
   ]
  },
  {
   "cell_type": "code",
   "execution_count": null,
   "id": "ab538dfc",
   "metadata": {},
   "outputs": [],
   "source": [
    "for name, group in df.groupby('key1'):\n",
    "    print(name)\n",
    "    print(group)"
   ]
  },
  {
   "cell_type": "code",
   "execution_count": null,
   "id": "0afa3a85",
   "metadata": {},
   "outputs": [],
   "source": [
    "for (k1,k2), group in df.groupby(['key1', 'key2']):\n",
    "    print((k1,k2))\n",
    "    print(group)"
   ]
  },
  {
   "cell_type": "code",
   "execution_count": null,
   "id": "36b3a8da",
   "metadata": {},
   "outputs": [],
   "source": [
    "grupo5 = df.groupby(['key1', 'key2'])['data2']\n",
    "grupo5.describe()"
   ]
  },
  {
   "cell_type": "code",
   "execution_count": null,
   "id": "e3d9eae8",
   "metadata": {},
   "outputs": [],
   "source": [
    "grupo5.mean()"
   ]
  },
  {
   "cell_type": "code",
   "execution_count": null,
   "id": "a055acd0",
   "metadata": {},
   "outputs": [],
   "source": [
    "people = pd.DataFrame(np.random.rand(5,5),\n",
    "                     columns = ['a', 'b', 'c', 'd', 'e'],\n",
    "                     index = ['L', 'M', 'N', 'O', 'P'])\n",
    "people"
   ]
  },
  {
   "cell_type": "code",
   "execution_count": null,
   "id": "b277322e",
   "metadata": {},
   "outputs": [],
   "source": [
    "people.iloc[1:3,[1,2]] = np.nan\n",
    "people"
   ]
  },
  {
   "cell_type": "code",
   "execution_count": null,
   "id": "927822c0",
   "metadata": {},
   "outputs": [],
   "source": [
    "mapea_color = {'a':'Azul', 'b':'Azul', \n",
    "               'c':'Amarillo', 'd':'Amarillo', 'e':'Violeta', 'f':'Amarillo'}"
   ]
  },
  {
   "cell_type": "code",
   "execution_count": null,
   "id": "b473bfc6",
   "metadata": {},
   "outputs": [],
   "source": [
    "grupo6 = people.groupby(mapea_color, axis=1)\n",
    "grupo6.describe()"
   ]
  },
  {
   "cell_type": "code",
   "execution_count": null,
   "id": "74c173bd-d1b6-4dfe-af60-26707d702f34",
   "metadata": {},
   "outputs": [],
   "source": [
    "grupo6.sum()"
   ]
  },
  {
   "cell_type": "code",
   "execution_count": null,
   "id": "9bdf0a93",
   "metadata": {},
   "outputs": [],
   "source": [
    "mapea_color_serie = pd.Series(mapea_color)\n",
    "mapea_color_serie"
   ]
  },
  {
   "cell_type": "code",
   "execution_count": null,
   "id": "4df0025e",
   "metadata": {},
   "outputs": [],
   "source": [
    "people.groupby(mapea_color_serie, axis=1).count()"
   ]
  },
  {
   "cell_type": "markdown",
   "id": "5091a48f",
   "metadata": {},
   "source": [
    "## Ejemplo\n",
    "Realizar un análisis de los datos *tips*:\n",
    "- Agregar una columna al DataFrame con el porcentaje de propina con respecto de la cuenta total.\n",
    "- Agrupar por `day` y `smoker` y calcular la media.\n",
    "- Agrupar por `sex` y obtener el primer renglón de cada clase.\n",
    "- Agrupar por `tip` y obtener las que son iguales a $1.0$.\n",
    "- Agrupar por `sex` y `day`, obtener el primer renglón de cada clase.\n",
    "- Ordenar el DataFrame por el total de la cuenta en orden descendente."
   ]
  },
  {
   "cell_type": "code",
   "execution_count": null,
   "id": "0e5f99a1",
   "metadata": {},
   "outputs": [],
   "source": [
    "tips = load_dataset(\"tips\")\n",
    "tips"
   ]
  },
  {
   "cell_type": "code",
   "execution_count": null,
   "id": "40770b34",
   "metadata": {},
   "outputs": [],
   "source": [
    "tips['tip_pct'] = tips['tip'] * 100/ tips['total_bill']"
   ]
  },
  {
   "cell_type": "code",
   "execution_count": null,
   "id": "acd78777",
   "metadata": {},
   "outputs": [],
   "source": [
    "tips"
   ]
  },
  {
   "cell_type": "code",
   "execution_count": null,
   "id": "b5ff93b3",
   "metadata": {},
   "outputs": [],
   "source": [
    "tips.groupby(['day','smoker']).mean()"
   ]
  },
  {
   "cell_type": "markdown",
   "id": "8127d1c8",
   "metadata": {},
   "source": [
    "Ordenar por sexo y mostra solo primera línea de cada agrupación"
   ]
  },
  {
   "cell_type": "code",
   "execution_count": null,
   "id": "da9f63f1",
   "metadata": {},
   "outputs": [],
   "source": [
    "test1 = tips.groupby('sex')\n",
    "test1.first()"
   ]
  },
  {
   "cell_type": "markdown",
   "id": "4f72e5b2",
   "metadata": {},
   "source": [
    "Ordenamos por propina y obtenemos solo las propinas que son igual 1.0"
   ]
  },
  {
   "cell_type": "code",
   "execution_count": null,
   "id": "8188a2ae",
   "metadata": {},
   "outputs": [],
   "source": [
    "test2 = tips.groupby('tip')\n",
    "test2.get_group(1.00)"
   ]
  },
  {
   "cell_type": "markdown",
   "id": "38908fb8",
   "metadata": {},
   "source": [
    "Ordenar por sexo y día y mostrar solo el primer elemento de cada agrupación"
   ]
  },
  {
   "cell_type": "code",
   "execution_count": null,
   "id": "d7c26e4f",
   "metadata": {},
   "outputs": [],
   "source": [
    "test3 = tips.groupby(['sex', 'day'])\n",
    "test3.first()"
   ]
  },
  {
   "cell_type": "markdown",
   "id": "23880b31",
   "metadata": {},
   "source": [
    "Ordenar por los valores más altos de la cuenta total"
   ]
  },
  {
   "cell_type": "code",
   "execution_count": null,
   "id": "a61ee451",
   "metadata": {},
   "outputs": [],
   "source": [
    "test4 = tips.sort_values('total_bill', axis=0, ascending = False)\n",
    "test4"
   ]
  },
  {
   "cell_type": "code",
   "execution_count": null,
   "id": "e56b626f",
   "metadata": {},
   "outputs": [],
   "source": []
  }
 ],
 "metadata": {
  "kernelspec": {
   "display_name": "Python 3",
   "language": "python",
   "name": "python3"
  },
  "language_info": {
   "codemirror_mode": {
    "name": "ipython",
    "version": 3
   },
   "file_extension": ".py",
   "mimetype": "text/x-python",
   "name": "python",
   "nbconvert_exporter": "python",
   "pygments_lexer": "ipython3",
   "version": "3.8.8"
  }
 },
 "nbformat": 4,
 "nbformat_minor": 5
}
